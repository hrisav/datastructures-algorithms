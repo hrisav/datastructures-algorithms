{
  "nbformat": 4,
  "nbformat_minor": 0,
  "metadata": {
    "kernelspec": {
      "display_name": "Python 3",
      "language": "python",
      "name": "python3"
    },
    "language_info": {
      "codemirror_mode": {
        "name": "ipython",
        "version": 3
      },
      "file_extension": ".py",
      "mimetype": "text/x-python",
      "name": "python",
      "nbconvert_exporter": "python",
      "pygments_lexer": "ipython3",
      "version": "3.8.2"
    },
    "colab": {
      "name": "4_Selection_Sort.ipynb",
      "provenance": [],
      "toc_visible": true
    }
  },
  "cells": [
    {
      "cell_type": "markdown",
      "metadata": {
        "id": "V7kKzdZ6HGyr"
      },
      "source": [
        "Worst-case complexity is O(n^2)"
      ]
    },
    {
      "cell_type": "markdown",
      "metadata": {
        "id": "E8xpDPi-BJ-C"
      },
      "source": [
        "1) Starting from 1st element, search for the smallest element in list.\n",
        "\n",
        "2) Swap min number with the 1st element of list.\n",
        "\n",
        "3) Ignore sorted part, and check with the 2nd element if it is smallest in list.\n",
        "\n",
        "4) If yes, then swap with 2nd element. Repeat the steps until list is sorted."
      ]
    },
    {
      "cell_type": "markdown",
      "metadata": {
        "id": "pIJ1bYFrblCQ"
      },
      "source": [
        "## Finding min value of list and its index"
      ]
    },
    {
      "cell_type": "code",
      "metadata": {
        "id": "fTWoshoUPJbb"
      },
      "source": [
        "def min_value(inp_list):\n",
        "    size = len(inp_list)\n",
        "    min_num = inp_list[0]\n",
        "    for i in range(size-1):               # for element\n",
        "        if min_num <= inp_list[i+1]:    \n",
        "            pass\n",
        "        else:\n",
        "            min_num = inp_list[i+1]\n",
        "    for i in range(size-1):               # for element's index\n",
        "        if min_num == inp_list[i]:\n",
        "            pos = i\n",
        "            break\n",
        "        else:\n",
        "            pass\n",
        "    print(min_num, pos)"
      ],
      "execution_count": 1,
      "outputs": []
    },
    {
      "cell_type": "code",
      "metadata": {
        "colab": {
          "base_uri": "https://localhost:8080/"
        },
        "id": "rKiETKHpThkH",
        "outputId": "c270a226-0631-4e5d-a2a1-8ade9d7c4e88"
      },
      "source": [
        "inp_list = [70,30,60,20,80,30,20,90,40,50]\n",
        "min_value(inp_list)"
      ],
      "execution_count": 2,
      "outputs": [
        {
          "output_type": "stream",
          "text": [
            "20 3\n"
          ],
          "name": "stdout"
        }
      ]
    },
    {
      "cell_type": "markdown",
      "metadata": {
        "id": "Nb0pUkokbpjU"
      },
      "source": [
        "## Selection Sort"
      ]
    },
    {
      "cell_type": "code",
      "metadata": {
        "id": "jl5nsMDSTr4d"
      },
      "source": [
        "def selection_sort(inp_list):\n",
        "    size = len(inp_list)\n",
        "    for i in range(size-1):                                                 # run till 2nd last element of list\n",
        "        min_pos = i\n",
        "        for j in range(i,size):                                             # loop until you get index of min value in list\n",
        "            if inp_list[j] < inp_list[min_pos]:\n",
        "                min_pos = j\n",
        "        inp_list[i], inp_list[min_pos] = inp_list[min_pos], inp_list[i]     # swap with min value of list\n",
        "    return inp_list"
      ],
      "execution_count": 3,
      "outputs": []
    },
    {
      "cell_type": "code",
      "metadata": {
        "colab": {
          "base_uri": "https://localhost:8080/"
        },
        "id": "Hma8Yn5uUnRB",
        "outputId": "cf60ef22-40c4-44d7-bf78-7a5e4ee58297"
      },
      "source": [
        "inp_list = [70,30,60,20,80,30,20,90,40,50]\n",
        "selection_sort(inp_list)"
      ],
      "execution_count": 4,
      "outputs": [
        {
          "output_type": "execute_result",
          "data": {
            "text/plain": [
              "[20, 20, 30, 30, 40, 50, 60, 70, 80, 90]"
            ]
          },
          "metadata": {
            "tags": []
          },
          "execution_count": 4
        }
      ]
    },
    {
      "cell_type": "code",
      "metadata": {
        "colab": {
          "base_uri": "https://localhost:8080/"
        },
        "id": "gqSJAmITGmmC",
        "outputId": "38490800-0d37-40ad-afdc-3cb6fec1e72a"
      },
      "source": [
        "inp_list = ['hrisav', 'rihel', 'megha', 'riddhi', 'mudita']\n",
        "selection_sort(inp_list)"
      ],
      "execution_count": 5,
      "outputs": [
        {
          "output_type": "execute_result",
          "data": {
            "text/plain": [
              "['hrisav', 'megha', 'mudita', 'riddhi', 'rihel']"
            ]
          },
          "metadata": {
            "tags": []
          },
          "execution_count": 5
        }
      ]
    },
    {
      "cell_type": "markdown",
      "metadata": {
        "id": "3p_8DCWsLhut"
      },
      "source": [
        "## Question"
      ]
    },
    {
      "cell_type": "markdown",
      "metadata": {
        "id": "NVkEMZ9ZMSBg"
      },
      "source": [
        "Implement a Multi-Level Sort of a given list of dictionaries based on a given sorting order. If user wants to sort dictionary based on First Key 'A', Then Key 'B', they shall pass list of keys in the order of preference as a list ['A','B']. Your code should be able to sort list of dictionaries for any number of keys in sorting order list.\n",
        "\n",
        "Using this multi-level sort, you should be able to sort any list of dictionaries based on sorting order preference.\n",
        "\n",
        "Example: A single dictionary entry contains two keys 'First Name' and 'Last Name'. the list should be sorted first based on 'First Name', then based on 'Last Name', w.r.t. common/same 'First Name' entries.\n",
        "\n",
        "For this, one shall past sorting order of preference list [ 'First Name' , 'Last Name' ]\n",
        "\n",
        "For this, Given the following sequence List:\n",
        "\n",
        "    {'First Name': 'Raj', 'Last Name': 'Nayyar'},\n",
        "    {'First Name': 'Suraj', 'Last Name': 'Sharma'},\n",
        "    {'First Name': 'Karan', 'Last Name': 'Kumar'},\n",
        "    {'First Name': 'Jade', 'Last Name': 'Canary'},\n",
        "    {'First Name': 'Raj', 'Last Name': 'Thakur'},\n",
        "    {'First Name': 'Raj', 'Last Name': 'Sharma'},\n",
        "    {'First Name': 'Kiran', 'Last Name': 'Kamla'},\n",
        "    {'First Name': 'Armaan', 'Last Name': 'Kumar'},\n",
        "    {'First Name': 'Jaya', 'Last Name': 'Sharma'},\n",
        "    {'First Name': 'Ingrid', 'Last Name': 'Galore'},\n",
        "    {'First Name': 'Jaya', 'Last Name': 'Seth'},\n",
        "    {'First Name': 'Armaan', 'Last Name': 'Dadra'},\n",
        "    {'First Name': 'Ingrid', 'Last Name': 'Maverick'},\n",
        "    {'First Name': 'Aahana', 'Last Name': 'Arora'}\n",
        "\n",
        "Your algorithm should generate sorted list:\n",
        "\n",
        "    {'First Name': 'Aahana', 'Last Name': 'Arora'}\n",
        "    {'First Name': 'Armaan', 'Last Name': 'Dadra'}\n",
        "    {'First Name': 'Armaan', 'Last Name': 'Kumar'}\n",
        "    {'First Name': 'Ingrid', 'Last Name': 'Galore'}\n",
        "    {'First Name': 'Ingrid', 'Last Name': 'Maverick'}\n",
        "    {'First Name': 'Jade', 'Last Name': 'Canary'}\n",
        "    {'First Name': 'Jaya', 'Last Name': 'Seth'}\n",
        "    {'First Name': 'Jaya', 'Last Name': 'Sharma'}\n",
        "    {'First Name': 'Karan', 'Last Name': 'Kumar'}\n",
        "    {'First Name': 'Kiran', 'Last Name': 'Kamla'}\n",
        "    {'First Name': 'Raj', 'Last Name': 'Nayyar'}\n",
        "    {'First Name': 'Raj', 'Last Name': 'Sharma'}\n",
        "    {'First Name': 'Raj', 'Last Name': 'Thakur'}\n",
        "    {'First Name': 'Suraj', 'Last Name': 'Sharma'}\n"
      ]
    },
    {
      "cell_type": "markdown",
      "metadata": {
        "id": "F-UbmHvZ34rg"
      },
      "source": [
        "### Accessing dictionary:"
      ]
    },
    {
      "cell_type": "code",
      "metadata": {
        "id": "kunTxj43Meb2"
      },
      "source": [
        "inp_list =[\n",
        "        {'First Name': 'Raj', 'Last Name': 'Nayyar'},\n",
        "        {'First Name': 'Suraj', 'Last Name': 'Sharma'},\n",
        "        {'First Name': 'Karan', 'Last Name': 'Kumar'},\n",
        "        {'First Name': 'Jade', 'Last Name': 'Canary'},\n",
        "        {'First Name': 'Raj', 'Last Name': 'Thakur'},\n",
        "        {'First Name': 'Raj', 'Last Name': 'Sharma'},\n",
        "        {'First Name': 'Kiran', 'Last Name': 'Kamla'},\n",
        "        {'First Name': 'Armaan', 'Last Name': 'Kumar'},\n",
        "        {'First Name': 'Jaya', 'Last Name': 'Sharma'},\n",
        "        {'First Name': 'Ingrid', 'Last Name': 'Galore'},\n",
        "        {'First Name': 'Jaya', 'Last Name': 'Seth'},\n",
        "        {'First Name': 'Armaan', 'Last Name': 'Dadra'},\n",
        "        {'First Name': 'Ingrid', 'Last Name': 'Maverick'},\n",
        "        {'First Name': 'Aahana', 'Last Name': 'Arora'}\n",
        "    ]"
      ],
      "execution_count": 6,
      "outputs": []
    },
    {
      "cell_type": "code",
      "metadata": {
        "colab": {
          "base_uri": "https://localhost:8080/"
        },
        "id": "RsMIYdU-cdgt",
        "outputId": "0e01b6aa-34d5-490b-ae9e-61ad4b162947"
      },
      "source": [
        "print(*inp_list, sep='\\n')"
      ],
      "execution_count": 7,
      "outputs": [
        {
          "output_type": "stream",
          "text": [
            "{'First Name': 'Raj', 'Last Name': 'Nayyar'}\n",
            "{'First Name': 'Suraj', 'Last Name': 'Sharma'}\n",
            "{'First Name': 'Karan', 'Last Name': 'Kumar'}\n",
            "{'First Name': 'Jade', 'Last Name': 'Canary'}\n",
            "{'First Name': 'Raj', 'Last Name': 'Thakur'}\n",
            "{'First Name': 'Raj', 'Last Name': 'Sharma'}\n",
            "{'First Name': 'Kiran', 'Last Name': 'Kamla'}\n",
            "{'First Name': 'Armaan', 'Last Name': 'Kumar'}\n",
            "{'First Name': 'Jaya', 'Last Name': 'Sharma'}\n",
            "{'First Name': 'Ingrid', 'Last Name': 'Galore'}\n",
            "{'First Name': 'Jaya', 'Last Name': 'Seth'}\n",
            "{'First Name': 'Armaan', 'Last Name': 'Dadra'}\n",
            "{'First Name': 'Ingrid', 'Last Name': 'Maverick'}\n",
            "{'First Name': 'Aahana', 'Last Name': 'Arora'}\n"
          ],
          "name": "stdout"
        }
      ]
    },
    {
      "cell_type": "code",
      "metadata": {
        "colab": {
          "base_uri": "https://localhost:8080/"
        },
        "id": "5n37k7jof4Dv",
        "outputId": "4b286e9b-5914-4990-999b-dd5bd34f62a6"
      },
      "source": [
        "inp_list[0]"
      ],
      "execution_count": 8,
      "outputs": [
        {
          "output_type": "execute_result",
          "data": {
            "text/plain": [
              "{'First Name': 'Raj', 'Last Name': 'Nayyar'}"
            ]
          },
          "metadata": {
            "tags": []
          },
          "execution_count": 8
        }
      ]
    },
    {
      "cell_type": "code",
      "metadata": {
        "colab": {
          "base_uri": "https://localhost:8080/",
          "height": 36
        },
        "id": "OVSUZp8eg50v",
        "outputId": "fa5892d2-c336-44ed-f15b-5129bcd55d39"
      },
      "source": [
        "inp_list[0]['First Name']"
      ],
      "execution_count": 9,
      "outputs": [
        {
          "output_type": "execute_result",
          "data": {
            "application/vnd.google.colaboratory.intrinsic+json": {
              "type": "string"
            },
            "text/plain": [
              "'Raj'"
            ]
          },
          "metadata": {
            "tags": []
          },
          "execution_count": 9
        }
      ]
    },
    {
      "cell_type": "markdown",
      "metadata": {
        "id": "XiJeFIOb3_3a"
      },
      "source": [
        "### Solution:"
      ]
    },
    {
      "cell_type": "code",
      "metadata": {
        "id": "VY5HNry_ig_X"
      },
      "source": [
        "def sort_names(inp_list, sort_by_list):\n",
        "    size = len(inp_list)\n",
        "    for sort_by in sort_by_list:\n",
        "        for i in range(size):\n",
        "            min_pos = i\n",
        "            for j in range(i, size):\n",
        "                if inp_list[j][sort_by] < inp_list[min_pos][sort_by]:\n",
        "                    min_pos = j\n",
        "            inp_list[i], inp_list[min_pos] = inp_list[min_pos], inp_list[i]"
      ],
      "execution_count": 10,
      "outputs": []
    },
    {
      "cell_type": "code",
      "metadata": {
        "colab": {
          "base_uri": "https://localhost:8080/"
        },
        "id": "PyKyWZv7mdLc",
        "outputId": "22409f3a-b705-414b-f1b3-c8f3422f59e8"
      },
      "source": [
        "inp_list = [\n",
        "        {'First Name': 'Raj', 'Last Name': 'Nayyar'},\n",
        "        {'First Name': 'Suraj', 'Last Name': 'Sharma'},\n",
        "        {'First Name': 'Karan', 'Last Name': 'Kumar'},\n",
        "        {'First Name': 'Jade', 'Last Name': 'Canary'},\n",
        "        {'First Name': 'Raj', 'Last Name': 'Thakur'},\n",
        "        {'First Name': 'Raj', 'Last Name': 'Sharma'},\n",
        "        {'First Name': 'Kiran', 'Last Name': 'Kamla'},\n",
        "        {'First Name': 'Armaan', 'Last Name': 'Kumar'},\n",
        "        {'First Name': 'Jaya', 'Last Name': 'Sharma'},\n",
        "        {'First Name': 'Ingrid', 'Last Name': 'Galore'},\n",
        "        {'First Name': 'Jaya', 'Last Name': 'Seth'},\n",
        "        {'First Name': 'Armaan', 'Last Name': 'Dadra'},\n",
        "        {'First Name': 'Ingrid', 'Last Name': 'Maverick'},\n",
        "        {'First Name': 'Aahana', 'Last Name': 'Arora'}\n",
        "    ]\n",
        "\n",
        "print('Before sorting..')\n",
        "print(*inp_list, sep='\\n')\n",
        "\n",
        "sort_names(inp_list, ['Last Name', 'First Name'])\n",
        "\n",
        "print()\n",
        "print('After sorting..')\n",
        "print(*inp_list, sep='\\n')"
      ],
      "execution_count": 11,
      "outputs": [
        {
          "output_type": "stream",
          "text": [
            "Before sorting..\n",
            "{'First Name': 'Raj', 'Last Name': 'Nayyar'}\n",
            "{'First Name': 'Suraj', 'Last Name': 'Sharma'}\n",
            "{'First Name': 'Karan', 'Last Name': 'Kumar'}\n",
            "{'First Name': 'Jade', 'Last Name': 'Canary'}\n",
            "{'First Name': 'Raj', 'Last Name': 'Thakur'}\n",
            "{'First Name': 'Raj', 'Last Name': 'Sharma'}\n",
            "{'First Name': 'Kiran', 'Last Name': 'Kamla'}\n",
            "{'First Name': 'Armaan', 'Last Name': 'Kumar'}\n",
            "{'First Name': 'Jaya', 'Last Name': 'Sharma'}\n",
            "{'First Name': 'Ingrid', 'Last Name': 'Galore'}\n",
            "{'First Name': 'Jaya', 'Last Name': 'Seth'}\n",
            "{'First Name': 'Armaan', 'Last Name': 'Dadra'}\n",
            "{'First Name': 'Ingrid', 'Last Name': 'Maverick'}\n",
            "{'First Name': 'Aahana', 'Last Name': 'Arora'}\n",
            "\n",
            "After sorting..\n",
            "{'First Name': 'Aahana', 'Last Name': 'Arora'}\n",
            "{'First Name': 'Armaan', 'Last Name': 'Dadra'}\n",
            "{'First Name': 'Armaan', 'Last Name': 'Kumar'}\n",
            "{'First Name': 'Ingrid', 'Last Name': 'Galore'}\n",
            "{'First Name': 'Ingrid', 'Last Name': 'Maverick'}\n",
            "{'First Name': 'Jade', 'Last Name': 'Canary'}\n",
            "{'First Name': 'Jaya', 'Last Name': 'Seth'}\n",
            "{'First Name': 'Jaya', 'Last Name': 'Sharma'}\n",
            "{'First Name': 'Karan', 'Last Name': 'Kumar'}\n",
            "{'First Name': 'Kiran', 'Last Name': 'Kamla'}\n",
            "{'First Name': 'Raj', 'Last Name': 'Sharma'}\n",
            "{'First Name': 'Raj', 'Last Name': 'Nayyar'}\n",
            "{'First Name': 'Raj', 'Last Name': 'Thakur'}\n",
            "{'First Name': 'Suraj', 'Last Name': 'Sharma'}\n"
          ],
          "name": "stdout"
        }
      ]
    }
  ]
}