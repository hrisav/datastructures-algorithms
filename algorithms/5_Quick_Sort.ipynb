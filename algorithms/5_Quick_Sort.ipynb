{
  "nbformat": 4,
  "nbformat_minor": 0,
  "metadata": {
    "kernelspec": {
      "display_name": "Python 3",
      "language": "python",
      "name": "python3"
    },
    "language_info": {
      "codemirror_mode": {
        "name": "ipython",
        "version": 3
      },
      "file_extension": ".py",
      "mimetype": "text/x-python",
      "name": "python",
      "nbconvert_exporter": "python",
      "pygments_lexer": "ipython3",
      "version": "3.8.2"
    },
    "colab": {
      "name": "5_Quick_Sort.ipynb",
      "provenance": [],
      "toc_visible": true
    }
  },
  "cells": [
    {
      "cell_type": "markdown",
      "metadata": {
        "id": "V7kKzdZ6HGyr"
      },
      "source": [
        "Worst-case complexity is O(n^2)"
      ]
    },
    {
      "cell_type": "markdown",
      "metadata": {
        "id": "E8xpDPi-BJ-C"
      },
      "source": [
        "It is Divide and Conquer type of problem.\n",
        "\n",
        "1) Select a pivot (can be first/last/random) element.\n",
        "\n",
        "2) Find out correct position of pivot in the list by rearranging it.\n",
        "\n",
        "3) Divide list based on the pivot.\n",
        "\n",
        "4) Sort the sublist recursively."
      ]
    },
    {
      "cell_type": "markdown",
      "metadata": {
        "id": "Nb0pUkokbpjU"
      },
      "source": [
        "## Pivot is at start of list"
      ]
    },
    {
      "cell_type": "code",
      "metadata": {
        "id": "gwaD54OlQMlw"
      },
      "source": [
        "def pivot_pos(inp_list, first, last):                         # put pivot in its correct pos in sorted list\n",
        "    pivot = inp_list[first]                                   # pivot is first element in list\n",
        "    left = first+1                                            # left is 2nd element in list\n",
        "    right = last                                              # right is last element in list\n",
        "    while True:\n",
        "        while (left<=right and inp_list[left]<=pivot):\n",
        "            left += 1\n",
        "        while (left<=right and inp_list[right]>=pivot):\n",
        "            right -= 1\n",
        "        if right<left:                                                          # if left crosses right come out of outer loop\n",
        "            break\n",
        "        else:                                                                   # if left hasn't crossed right yet\n",
        "            inp_list[right], inp_list[left] = inp_list[left], inp_list[right]   # swap elements at left and right\n",
        "    inp_list[right], inp_list[first] = inp_list[first], inp_list[right]         # swap element at right index and pivot\n",
        "    return right"
      ],
      "execution_count": null,
      "outputs": []
    },
    {
      "cell_type": "code",
      "metadata": {
        "id": "tfRXgnpzSzL5"
      },
      "source": [
        "def quick_sort(inp_list, first, last):\n",
        "    if first<last:\n",
        "        piv = pivot_pos(inp_list, first, last)\n",
        "        quick_sort(inp_list, first, piv-1)\n",
        "        quick_sort(inp_list, piv+1, last)"
      ],
      "execution_count": null,
      "outputs": []
    },
    {
      "cell_type": "code",
      "metadata": {
        "colab": {
          "base_uri": "https://localhost:8080/"
        },
        "id": "Hma8Yn5uUnRB",
        "outputId": "0f768b6c-a287-4531-8978-cb4a6dc958cb"
      },
      "source": [
        "inp_list = [70,30,60,20,80,30,20,90,40,50]\n",
        "size = len(inp_list)\n",
        "quick_sort(inp_list, 0, size-1)\n",
        "print(inp_list)"
      ],
      "execution_count": null,
      "outputs": [
        {
          "output_type": "stream",
          "text": [
            "[20, 20, 30, 30, 40, 50, 60, 70, 80, 90]\n"
          ],
          "name": "stdout"
        }
      ]
    },
    {
      "cell_type": "code",
      "metadata": {
        "colab": {
          "base_uri": "https://localhost:8080/"
        },
        "id": "gqSJAmITGmmC",
        "outputId": "529e4e39-455a-4bb6-94c3-38afe6caaef4"
      },
      "source": [
        "inp_list = ['hrisav', 'rihel', 'megha', 'riddhi', 'mudita']\n",
        "size = len(inp_list)\n",
        "quick_sort(inp_list, 0, size-1)\n",
        "print(inp_list)"
      ],
      "execution_count": null,
      "outputs": [
        {
          "output_type": "stream",
          "text": [
            "['hrisav', 'megha', 'mudita', 'riddhi', 'rihel']\n"
          ],
          "name": "stdout"
        }
      ]
    },
    {
      "cell_type": "markdown",
      "metadata": {
        "id": "oNpAA6coNTrE"
      },
      "source": [
        "## Pivot is at end of list"
      ]
    },
    {
      "cell_type": "code",
      "metadata": {
        "id": "LTwYC9FqNWUO"
      },
      "source": [
        "def pivot_pos(inp_list, first, last):                       # put pivot in its correct pos in sorted list\n",
        "    pivot = inp_list[last]                                  # pivot is last element in list\n",
        "    left = first                                            # left is 1st element in list\n",
        "    right = last-1                                          # right is previous to last element in list\n",
        "    while True:\n",
        "        while (left<=right and inp_list[left]<=pivot):\n",
        "            left += 1\n",
        "        while (left<=right and inp_list[right]>=pivot):\n",
        "            right -= 1\n",
        "        if right<left:                                                # left crosses right\n",
        "            break\n",
        "        else:\n",
        "            inp_list[right], inp_list[left] = inp_list[left], inp_list[right]\n",
        "    inp_list[left], inp_list[last] = inp_list[last], inp_list[left]   # swap element at left index and pivot\n",
        "    return left"
      ],
      "execution_count": 2,
      "outputs": []
    },
    {
      "cell_type": "code",
      "metadata": {
        "id": "phB2h3JTYdFu"
      },
      "source": [
        "def quick_sort(inp_list, first, last):\n",
        "    if first<last:\n",
        "        piv = pivot_pos(inp_list, first, last)\n",
        "        quick_sort(inp_list, first, piv-1)\n",
        "        quick_sort(inp_list, piv+1, last)"
      ],
      "execution_count": 3,
      "outputs": []
    },
    {
      "cell_type": "code",
      "metadata": {
        "colab": {
          "base_uri": "https://localhost:8080/"
        },
        "id": "cwDxBnGxYgpz",
        "outputId": "fde3401d-2aa8-40c0-88c3-d1b4599871eb"
      },
      "source": [
        "inp_list = [70,30,60,20,80,30,20,90,40,50]\n",
        "size = len(inp_list)\n",
        "quick_sort(inp_list, 0, size-1)\n",
        "print(inp_list)"
      ],
      "execution_count": 4,
      "outputs": [
        {
          "output_type": "stream",
          "text": [
            "[20, 20, 30, 30, 40, 50, 60, 70, 80, 90]\n"
          ],
          "name": "stdout"
        }
      ]
    }
  ]
}