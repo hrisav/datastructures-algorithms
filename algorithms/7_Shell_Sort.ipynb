{
  "nbformat": 4,
  "nbformat_minor": 0,
  "metadata": {
    "kernelspec": {
      "display_name": "Python 3",
      "language": "python",
      "name": "python3"
    },
    "language_info": {
      "codemirror_mode": {
        "name": "ipython",
        "version": 3
      },
      "file_extension": ".py",
      "mimetype": "text/x-python",
      "name": "python",
      "nbconvert_exporter": "python",
      "pygments_lexer": "ipython3",
      "version": "3.8.2"
    },
    "colab": {
      "name": "7_Shell_Sort.ipynb",
      "provenance": [],
      "toc_visible": true
    }
  },
  "cells": [
    {
      "cell_type": "markdown",
      "metadata": {
        "id": "V7kKzdZ6HGyr"
      },
      "source": [
        "It is a variation of insertion sort.\n",
        "\n",
        "Worst-case complexity is O(n^2)"
      ]
    },
    {
      "cell_type": "markdown",
      "metadata": {
        "id": "Uv5uAvYLpq3h"
      },
      "source": [
        "#### Shell Sort\n",
        "\n",
        "1) Take the list of numbers.\n",
        "\n",
        "2) Find out the gap/incrementor.\n",
        "\n",
        "3) Create sublist based on the gap and sort them using insertion sort.\n",
        "\n",
        "4) Reduce gap and repeat step 3.\n",
        "\n",
        "5) Stop when gap is 0."
      ]
    },
    {
      "cell_type": "markdown",
      "metadata": {
        "id": "E8xpDPi-BJ-C"
      },
      "source": [
        "#### Insertion Sort\n",
        "\n",
        "1) Let 1st element is sorted (S) and rest are unsorted (U).\n",
        "\n",
        "2) Take 1st element in U and compare with S.\n",
        "\n",
        "3) If U1 < S1, insert U1 in correct index, else ignore.\n",
        "\n",
        "4) Take next element in U and compare with S.\n",
        "\n",
        "5) Repeat 3 and 4, untill all elements are sorted."
      ]
    },
    {
      "cell_type": "markdown",
      "metadata": {
        "id": "Nb0pUkokbpjU"
      },
      "source": [
        "## Insertion Sort"
      ]
    },
    {
      "cell_type": "code",
      "metadata": {
        "id": "BYXCEZNma4eu"
      },
      "source": [
        "def insertion_sort(inp_list):\n",
        "    size = len(inp_list)\n",
        "    for index in range(1, size):\n",
        "        current_element = inp_list[index]             # take 2nd element in list as curr_ele\n",
        "        pos = index\n",
        "        while current_element<inp_list[pos-1] and pos>0:    # if curr_ele is less than previous element then\n",
        "            inp_list[pos] = inp_list[pos-1]                 # shift previous element to right side\n",
        "            pos-=1\n",
        "        inp_list[pos] = current_element                     # bring curr_ele to its new sorted position"
      ],
      "execution_count": 1,
      "outputs": []
    },
    {
      "cell_type": "code",
      "metadata": {
        "colab": {
          "base_uri": "https://localhost:8080/"
        },
        "id": "08rKXujDyoxe",
        "outputId": "a63dd378-e034-404a-f5a0-290015fc2905"
      },
      "source": [
        "inp_list = [70,30,60,20,80,30,20,90,40,50]\n",
        "insertion_sort(inp_list)\n",
        "print(inp_list)"
      ],
      "execution_count": 2,
      "outputs": [
        {
          "output_type": "stream",
          "text": [
            "[20, 20, 30, 30, 40, 50, 60, 70, 80, 90]\n"
          ],
          "name": "stdout"
        }
      ]
    },
    {
      "cell_type": "markdown",
      "metadata": {
        "id": "fcXrNX58tPT5"
      },
      "source": [
        "## Shell Sort"
      ]
    },
    {
      "cell_type": "code",
      "metadata": {
        "id": "ogurJpAwtR18"
      },
      "source": [
        "def shell_sort(inp_list):\n",
        "    size = len(inp_list)\n",
        "    gap = size//2                                                     # finding gap\n",
        "    while gap>0:  \n",
        "\n",
        "        # insertion sort\n",
        "        for index in range(gap, size):                                # start loop from element at gap\n",
        "            current_element = inp_list[index]                         # take 2nd element/gap in list as curr_ele\n",
        "            pos = index\n",
        "            while current_element<inp_list[pos-gap] and pos>=gap:     # if curr_ele is less than previous element then\n",
        "                inp_list[pos] = inp_list[pos-gap]                     # shift previous element to right side\n",
        "                pos-=gap\n",
        "            inp_list[pos] = current_element                           # if loop happens bring curr_ele to prev element's position else keep at same position\n",
        "\n",
        "        gap = gap//2"
      ],
      "execution_count": 3,
      "outputs": []
    },
    {
      "cell_type": "code",
      "metadata": {
        "colab": {
          "base_uri": "https://localhost:8080/"
        },
        "id": "-dk2C53-t3uC",
        "outputId": "9af3e103-d952-47ca-fa23-84207b73ed15"
      },
      "source": [
        "inp_list = [70]             # when only 1 element doesn't go inside while loop\n",
        "shell_sort(inp_list)\n",
        "print(inp_list)"
      ],
      "execution_count": 4,
      "outputs": [
        {
          "output_type": "stream",
          "text": [
            "[70]\n"
          ],
          "name": "stdout"
        }
      ]
    },
    {
      "cell_type": "code",
      "metadata": {
        "colab": {
          "base_uri": "https://localhost:8080/"
        },
        "id": "GqV9YXYbt5Ot",
        "outputId": "e04a1d8e-99ec-4549-c10e-196706e3fbfc"
      },
      "source": [
        "inp_list = [70,30,60,20,80,30,20,90,40,50]\n",
        "shell_sort(inp_list)\n",
        "print(inp_list)"
      ],
      "execution_count": 5,
      "outputs": [
        {
          "output_type": "stream",
          "text": [
            "[20, 20, 30, 30, 40, 50, 60, 70, 80, 90]\n"
          ],
          "name": "stdout"
        }
      ]
    },
    {
      "cell_type": "code",
      "metadata": {
        "colab": {
          "base_uri": "https://localhost:8080/"
        },
        "id": "gk4QnzXtywmX",
        "outputId": "e1ffc787-e4ee-4b62-9674-beda5719b945"
      },
      "source": [
        "inp_list = ['hrisav', 'rihel', 'megha', 'riddhi', 'mudita']\n",
        "shell_sort(inp_list)\n",
        "print(inp_list)"
      ],
      "execution_count": 6,
      "outputs": [
        {
          "output_type": "stream",
          "text": [
            "['hrisav', 'megha', 'mudita', 'riddhi', 'rihel']\n"
          ],
          "name": "stdout"
        }
      ]
    },
    {
      "cell_type": "markdown",
      "metadata": {
        "id": "OkoSTmaWsgSi"
      },
      "source": [
        "## Question"
      ]
    },
    {
      "cell_type": "markdown",
      "metadata": {
        "id": "2m1Cuyx9slfO"
      },
      "source": [
        "Sort the elements of a given list using shell sort, but with a slight modification. Remove all the repeating occurances of elements while sorting.\n",
        "\n",
        "Traditionally, when comparing two elements in shell sort, we swap if first element is bigger than second, and do nothing otherwise.\n",
        "\n",
        "In this modified shell sort with duplicate removal, we will swap if first element is bigger than second, and do nothing if element is smaller, but if values are same, we will delete one of the two elements we are comparing before starting the next pass for the reduced gap.\n",
        "\n",
        "For example, given the unsorted list [2, 1, 5, 7, 2, 0, 5, 1, 2, 9, 5, 8, 3], after sorting using shell sort without duplicates, the sorted list would be:"
      ]
    },
    {
      "cell_type": "markdown",
      "metadata": {
        "id": "pRAVeOzpsm7a"
      },
      "source": [
        "[0, 1, 2, 3, 5, 7, 8, 9]"
      ]
    }
  ]
}