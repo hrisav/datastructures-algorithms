{
  "nbformat": 4,
  "nbformat_minor": 0,
  "metadata": {
    "kernelspec": {
      "display_name": "Python 3",
      "language": "python",
      "name": "python3"
    },
    "language_info": {
      "codemirror_mode": {
        "name": "ipython",
        "version": 3
      },
      "file_extension": ".py",
      "mimetype": "text/x-python",
      "name": "python",
      "nbconvert_exporter": "python",
      "pygments_lexer": "ipython3",
      "version": "3.8.2"
    },
    "colab": {
      "name": "2_Binary_Search.ipynb",
      "provenance": []
    }
  },
  "cells": [
    {
      "cell_type": "markdown",
      "metadata": {
        "id": "V7kKzdZ6HGyr"
      },
      "source": [
        "Worst-case complexity is O(log n)"
      ]
    },
    {
      "cell_type": "code",
      "metadata": {
        "colab": {
          "base_uri": "https://localhost:8080/"
        },
        "id": "Sou1NceDF61-",
        "outputId": "879201df-198e-4c87-e153-2a45ae0617a0"
      },
      "source": [
        "def binary_search(inp_list, val):\n",
        "    low = 0\n",
        "    high = len(inp_list)-1\n",
        "    flag = 0\n",
        "    while low<=high and flag==0:\n",
        "        mid = (high+low)//2                       # floor division (4//3 = 1.33 -> 1)\n",
        "        if (inp_list[mid]==val):\n",
        "            flag=1\n",
        "        elif val>inp_list[mid]:\n",
        "            low=mid+1\n",
        "        else:\n",
        "            high=mid-1\n",
        "    if flag==1:\n",
        "        print('Element found at position : ', mid+1)\n",
        "    else:\n",
        "        print('Element not found!')\n",
        "    \n",
        "inp_list = [10,20,30,40,50]\n",
        "inp_list.sort()\n",
        "val = int(input('Enter value to search: '))\n",
        "binary_search(inp_list, val)     "
      ],
      "execution_count": 1,
      "outputs": [
        {
          "output_type": "stream",
          "text": [
            "Enter value to search: 30\n",
            "Element found at position :  3\n"
          ],
          "name": "stdout"
        }
      ]
    },
    {
      "cell_type": "markdown",
      "metadata": {
        "id": "NVkEMZ9ZMSBg"
      },
      "source": [
        "Find index of all the occurances of a number from sorted list\n",
        "\n",
        "numbers = [1,4,6,9,11,15,15,15,17,21,34,34,56]\n",
        "\n",
        "number_to_find = 15  \n",
        "\n",
        "This should return 5,6,7 as indices containing number 15 in the array"
      ]
    },
    {
      "cell_type": "code",
      "metadata": {
        "colab": {
          "base_uri": "https://localhost:8080/"
        },
        "id": "kunTxj43Meb2",
        "outputId": "3fce5b9b-3d1e-4e35-8bb5-d94f0cf0ebf5"
      },
      "source": [
        "def binary_search(inp_list, val):\n",
        "    low = 0\n",
        "    high = len(inp_list)-1\n",
        "    flag = 0\n",
        "    indx = []\n",
        "    while low<=high and flag==0:\n",
        "        mid = (high+low)//2                       # floor division (4//3 = 1.33 -> 1)\n",
        "        mid_copy = mid\n",
        "        if (inp_list[mid]==val):\n",
        "            indx.append(mid+1)\n",
        "            while mid_copy>=0:                    # checking left side of list for same element\n",
        "                mid_copy -= 1\n",
        "                if (inp_list[mid_copy]==val):\n",
        "                    indx.append(mid_copy+1)\n",
        "                else:\n",
        "                    break\n",
        "            while mid<len(inp_list):              # checking right side of list for same element\n",
        "                mid += 1\n",
        "                if (inp_list[mid]==val):\n",
        "                    indx.append(mid+1)\n",
        "                else:\n",
        "                    break\n",
        "            flag=1\n",
        "        elif val>inp_list[mid]:\n",
        "            low=mid+1\n",
        "        else:\n",
        "            high=mid-1\n",
        "    if flag==1:\n",
        "        print('Element found at position : ', sorted(indx))\n",
        "    else:\n",
        "        print('Element not found!')\n",
        "    \n",
        "inp_list = [1,4,6,9,11,15,15,15,17,21,34,34,56]\n",
        "inp_list.sort()\n",
        "val = int(input('Enter value to search: '))\n",
        "binary_search(inp_list, val)     "
      ],
      "execution_count": 21,
      "outputs": [
        {
          "output_type": "stream",
          "text": [
            "Enter value to search: 15\n",
            "Element found at position :  [6, 7, 8]\n"
          ],
          "name": "stdout"
        }
      ]
    }
  ]
}