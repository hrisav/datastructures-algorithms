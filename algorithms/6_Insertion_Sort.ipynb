{
  "nbformat": 4,
  "nbformat_minor": 0,
  "metadata": {
    "kernelspec": {
      "display_name": "Python 3",
      "language": "python",
      "name": "python3"
    },
    "language_info": {
      "codemirror_mode": {
        "name": "ipython",
        "version": 3
      },
      "file_extension": ".py",
      "mimetype": "text/x-python",
      "name": "python",
      "nbconvert_exporter": "python",
      "pygments_lexer": "ipython3",
      "version": "3.8.2"
    },
    "colab": {
      "name": "6_Insertion_Sort.ipynb",
      "provenance": [],
      "toc_visible": true
    }
  },
  "cells": [
    {
      "cell_type": "markdown",
      "metadata": {
        "id": "V7kKzdZ6HGyr"
      },
      "source": [
        "Worst-case complexity is O(n^2)"
      ]
    },
    {
      "cell_type": "markdown",
      "metadata": {
        "id": "E8xpDPi-BJ-C"
      },
      "source": [
        "1) Let 1st element is sorted (S) and rest are unsorted (U).\n",
        "\n",
        "2) Take 1st element in U and compare with S.\n",
        "\n",
        "3) If U1 < S1, insert U1 in correct index, else ignore.\n",
        "\n",
        "4) Take next element in U and compare with S.\n",
        "\n",
        "5) Repeat 3 and 4, untill all elements are sorted."
      ]
    },
    {
      "cell_type": "markdown",
      "metadata": {
        "id": "Nb0pUkokbpjU"
      },
      "source": [
        "## Insertion Sort"
      ]
    },
    {
      "cell_type": "code",
      "metadata": {
        "id": "BYXCEZNma4eu"
      },
      "source": [
        "def insertion_sort(inp_list):\n",
        "    size = len(inp_list)\n",
        "    for index in range(1, size):\n",
        "        current_element = inp_list[index]             # take 2nd element in list as curr_ele\n",
        "        pos = index\n",
        "        while current_element<inp_list[pos-1] and pos>0:    # if curr_ele is less than previous element then\n",
        "            inp_list[pos] = inp_list[pos-1]                 # shift previous element to right side\n",
        "            pos-=1\n",
        "        inp_list[pos] = current_element                     # bring curr_ele to its new sorted position"
      ],
      "execution_count": 1,
      "outputs": []
    },
    {
      "cell_type": "code",
      "metadata": {
        "colab": {
          "base_uri": "https://localhost:8080/"
        },
        "id": "Hq1K-JfjudUk",
        "outputId": "32545b59-cc76-4dcb-921b-3e72ac3ab099"
      },
      "source": [
        "inp_list = [70]             # when only 1 element doesn't go inside for loop\n",
        "insertion_sort(inp_list)\n",
        "print(inp_list)"
      ],
      "execution_count": 2,
      "outputs": [
        {
          "output_type": "stream",
          "text": [
            "[70]\n"
          ],
          "name": "stdout"
        }
      ]
    },
    {
      "cell_type": "code",
      "metadata": {
        "colab": {
          "base_uri": "https://localhost:8080/"
        },
        "id": "08rKXujDyoxe",
        "outputId": "86f626b3-7e40-44a0-92b5-9df8f17bd0b2"
      },
      "source": [
        "inp_list = [70,30,60,20,80,30,20,90,40,50]\n",
        "insertion_sort(inp_list)\n",
        "print(inp_list)"
      ],
      "execution_count": 3,
      "outputs": [
        {
          "output_type": "stream",
          "text": [
            "[20, 20, 30, 30, 40, 50, 60, 70, 80, 90]\n"
          ],
          "name": "stdout"
        }
      ]
    },
    {
      "cell_type": "code",
      "metadata": {
        "colab": {
          "base_uri": "https://localhost:8080/"
        },
        "id": "gk4QnzXtywmX",
        "outputId": "2250cf70-a80c-48e2-a664-e09000ffd96e"
      },
      "source": [
        "inp_list = ['hrisav', 'rihel', 'megha', 'riddhi', 'mudita']\n",
        "insertion_sort(inp_list)\n",
        "print(inp_list)"
      ],
      "execution_count": 4,
      "outputs": [
        {
          "output_type": "stream",
          "text": [
            "['hrisav', 'megha', 'mudita', 'riddhi', 'rihel']\n"
          ],
          "name": "stdout"
        }
      ]
    },
    {
      "cell_type": "markdown",
      "metadata": {
        "id": "OkoSTmaWsgSi"
      },
      "source": [
        "## Question"
      ]
    },
    {
      "cell_type": "markdown",
      "metadata": {
        "id": "2m1Cuyx9slfO"
      },
      "source": [
        "Compute the running median of a sequence of numbers. That is, given a stream of numbers, print out the median of the list so far on each new element.\n",
        "\n",
        "Recall that the median of an even-numbered list is the average of the two middle numbers in a sorted list.\n",
        "\n",
        "For example, given the sequence [2, 1, 5, 7, 2, 0, 5], your algorithm should print out:"
      ]
    },
    {
      "cell_type": "markdown",
      "metadata": {
        "id": "pRAVeOzpsm7a"
      },
      "source": [
        "2\n",
        "\n",
        "1.5\n",
        "\n",
        "2\n",
        "\n",
        "3.5\n",
        "\n",
        "2\n",
        "\n",
        "2\n",
        "\n",
        "2\n"
      ]
    },
    {
      "cell_type": "code",
      "metadata": {
        "colab": {
          "base_uri": "https://localhost:8080/"
        },
        "id": "uS6sAL07shis",
        "outputId": "170492c7-3ffe-4441-ae23-d1eafb3969d3"
      },
      "source": [
        "# breaking list\n",
        "\n",
        "inp_list = [2,3,4]\n",
        "size = len(inp_list)\n",
        "\n",
        "for i in range(size+1):\n",
        "    for j in range(0, i):\n",
        "        print(inp_list[j])\n",
        "    print()"
      ],
      "execution_count": 5,
      "outputs": [
        {
          "output_type": "stream",
          "text": [
            "\n",
            "2\n",
            "\n",
            "2\n",
            "3\n",
            "\n",
            "2\n",
            "3\n",
            "4\n",
            "\n"
          ],
          "name": "stdout"
        }
      ]
    },
    {
      "cell_type": "code",
      "metadata": {
        "id": "XrbZLRti0FS5"
      },
      "source": [
        "import math"
      ],
      "execution_count": 6,
      "outputs": []
    },
    {
      "cell_type": "code",
      "metadata": {
        "id": "typ8js3SvmNp"
      },
      "source": [
        "def insertion_sort(inp_list):\n",
        "\n",
        "    # breaking list and putting onto new list\n",
        "    size = len(inp_list)                                  \n",
        "    for i in range(size):\n",
        "        new_list = []\n",
        "        for j in range(0, i+1):\n",
        "            new_list.append(inp_list[j])\n",
        "\n",
        "        # sorting logic\n",
        "        size = len(new_list)\n",
        "        for index in range(1, size):\n",
        "            current_element = new_list[index]             # take 2nd element in list as curr_ele\n",
        "            pos = index\n",
        "            while current_element<new_list[pos-1] and pos>0:    # if curr_ele is less than previous element then\n",
        "                new_list[pos] = new_list[pos-1]                 # shift previous element to right side\n",
        "                pos-=1\n",
        "            new_list[pos] = current_element                     # bring curr_ele to its new sorted position\n",
        "\n",
        "        # finding median\n",
        "        if size%2 != 0:                                 # odd elements\n",
        "            mid = math.floor(size/2)\n",
        "            print(new_list[mid])\n",
        "        else:                                           # even elements\n",
        "            mid1 = int((size/2)-1)\n",
        "            mid2 = int(size/2)\n",
        "            print(((new_list[mid1]+new_list[mid2])/2))"
      ],
      "execution_count": 7,
      "outputs": []
    },
    {
      "cell_type": "code",
      "metadata": {
        "colab": {
          "base_uri": "https://localhost:8080/"
        },
        "id": "IKpfXawOtmJD",
        "outputId": "5fc40168-b297-4d99-d676-67eb3e811349"
      },
      "source": [
        "inp_list = [2, 1, 5, 7, 2, 0, 5]\n",
        "insertion_sort(inp_list)"
      ],
      "execution_count": 8,
      "outputs": [
        {
          "output_type": "stream",
          "text": [
            "2\n",
            "1.5\n",
            "2\n",
            "3.5\n",
            "2\n",
            "2.0\n",
            "2\n"
          ],
          "name": "stdout"
        }
      ]
    }
  ]
}