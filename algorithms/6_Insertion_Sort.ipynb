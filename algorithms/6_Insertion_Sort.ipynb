{
  "nbformat": 4,
  "nbformat_minor": 0,
  "metadata": {
    "kernelspec": {
      "display_name": "Python 3",
      "language": "python",
      "name": "python3"
    },
    "language_info": {
      "codemirror_mode": {
        "name": "ipython",
        "version": 3
      },
      "file_extension": ".py",
      "mimetype": "text/x-python",
      "name": "python",
      "nbconvert_exporter": "python",
      "pygments_lexer": "ipython3",
      "version": "3.8.2"
    },
    "colab": {
      "name": "6_Insertion_Sort.ipynb",
      "provenance": [],
      "toc_visible": true
    }
  },
  "cells": [
    {
      "cell_type": "markdown",
      "metadata": {
        "id": "V7kKzdZ6HGyr"
      },
      "source": [
        "Worst-case complexity is O(n^2)"
      ]
    },
    {
      "cell_type": "markdown",
      "metadata": {
        "id": "E8xpDPi-BJ-C"
      },
      "source": [
        "1) Let 1st element is sorted (S) and rest are unsorted (U).\n",
        "\n",
        "2) Take 1st element in U and compare with S.\n",
        "\n",
        "3) If U1 < S1, insert U1 in correct index, else ignore.\n",
        "\n",
        "4) Take next element in U and compare with S.\n",
        "\n",
        "5) Repeat 3 and 4, untill all elements are sorted."
      ]
    },
    {
      "cell_type": "markdown",
      "metadata": {
        "id": "Nb0pUkokbpjU"
      },
      "source": [
        "## Pivot is at start of list"
      ]
    },
    {
      "cell_type": "code",
      "metadata": {
        "id": "BYXCEZNma4eu"
      },
      "source": [
        "def insertion_sort(inp_list):\n",
        "    size = len(inp_list)\n",
        "    for index in range(1, size):\n",
        "        current_element = inp_list[index]             # take 2nd element in list as curr_ele\n",
        "        pos = index\n",
        "        while current_element<inp_list[pos-1] and pos>0:    # if curr_ele is less than previous element then\n",
        "            inp_list[pos] = inp_list[pos-1]                 # shift previous element to right side\n",
        "            pos-=1\n",
        "        inp_list[pos] = current_element                     # bring curr_ele to its new sorted position"
      ],
      "execution_count": 1,
      "outputs": []
    },
    {
      "cell_type": "code",
      "metadata": {
        "colab": {
          "base_uri": "https://localhost:8080/"
        },
        "id": "08rKXujDyoxe",
        "outputId": "8d2cf993-ca9c-4013-99dc-a18396511b75"
      },
      "source": [
        "inp_list = [70,30,60,20,80,30,20,90,40,50]\n",
        "insertion_sort(inp_list)\n",
        "print(inp_list)"
      ],
      "execution_count": 2,
      "outputs": [
        {
          "output_type": "stream",
          "text": [
            "[20, 20, 30, 30, 40, 50, 60, 70, 80, 90]\n"
          ],
          "name": "stdout"
        }
      ]
    },
    {
      "cell_type": "code",
      "metadata": {
        "colab": {
          "base_uri": "https://localhost:8080/"
        },
        "id": "gk4QnzXtywmX",
        "outputId": "b8ece47c-2c3b-4696-cf1e-6651c68a7ab5"
      },
      "source": [
        "inp_list = ['hrisav', 'rihel', 'megha', 'riddhi', 'mudita']\n",
        "insertion_sort(inp_list)\n",
        "print(inp_list)"
      ],
      "execution_count": 3,
      "outputs": [
        {
          "output_type": "stream",
          "text": [
            "['hrisav', 'megha', 'mudita', 'riddhi', 'rihel']\n"
          ],
          "name": "stdout"
        }
      ]
    }
  ]
}