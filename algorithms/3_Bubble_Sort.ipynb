{
  "nbformat": 4,
  "nbformat_minor": 0,
  "metadata": {
    "kernelspec": {
      "display_name": "Python 3",
      "language": "python",
      "name": "python3"
    },
    "language_info": {
      "codemirror_mode": {
        "name": "ipython",
        "version": 3
      },
      "file_extension": ".py",
      "mimetype": "text/x-python",
      "name": "python",
      "nbconvert_exporter": "python",
      "pygments_lexer": "ipython3",
      "version": "3.8.2"
    },
    "colab": {
      "name": "3_Bubble_Sort.ipynb",
      "provenance": []
    }
  },
  "cells": [
    {
      "cell_type": "markdown",
      "metadata": {
        "id": "V7kKzdZ6HGyr"
      },
      "source": [
        "Worst-case complexity is O(n^2)"
      ]
    },
    {
      "cell_type": "markdown",
      "metadata": {
        "id": "E8xpDPi-BJ-C"
      },
      "source": [
        "1) Compare first element with next element.\n",
        "\n",
        "2) If current element > next element, swap them.\n",
        "\n",
        "3) If current element < next element, move to next element.\n",
        "\n",
        "4) Repeat from step 1."
      ]
    },
    {
      "cell_type": "code",
      "metadata": {
        "colab": {
          "base_uri": "https://localhost:8080/"
        },
        "id": "Sou1NceDF61-",
        "outputId": "a74d4c05-f476-461d-d46a-cbea32f34b66"
      },
      "source": [
        "def bubble_sort(inp_list):\n",
        "    size = len(inp_list)\n",
        "    for i in range(size-1):\n",
        "        for j in range(size-1-i):\n",
        "            if inp_list[j]>inp_list[j+1]:\n",
        "                temp = inp_list[j+1]\n",
        "                inp_list[j+1] = inp_list[j]\n",
        "                inp_list[j] = temp\n",
        "    print(inp_list)\n",
        "\n",
        "inp_list = [70,30,60,20,80,30,90,40,50]\n",
        "bubble_sort(inp_list)"
      ],
      "execution_count": 1,
      "outputs": [
        {
          "output_type": "stream",
          "text": [
            "[20, 30, 30, 40, 50, 60, 70, 80, 90]\n"
          ],
          "name": "stdout"
        }
      ]
    },
    {
      "cell_type": "code",
      "metadata": {
        "colab": {
          "base_uri": "https://localhost:8080/"
        },
        "id": "gqSJAmITGmmC",
        "outputId": "a769d7ca-a4f6-4443-a966-b30f3d4c78b5"
      },
      "source": [
        "def bubble_sort(inp_list):\n",
        "    size = len(inp_list)\n",
        "    for i in range(size-1):\n",
        "        for j in range(size-1-i):\n",
        "            if inp_list[j]>inp_list[j+1]:\n",
        "                temp = inp_list[j+1]\n",
        "                inp_list[j+1] = inp_list[j]\n",
        "                inp_list[j] = temp\n",
        "    print(inp_list)\n",
        "\n",
        "inp_list = ['hrisav', 'rihel', 'megha', 'riddhi', 'mudita']\n",
        "bubble_sort(inp_list)"
      ],
      "execution_count": 2,
      "outputs": [
        {
          "output_type": "stream",
          "text": [
            "['hrisav', 'megha', 'mudita', 'riddhi', 'rihel']\n"
          ],
          "name": "stdout"
        }
      ]
    },
    {
      "cell_type": "markdown",
      "metadata": {
        "id": "3p_8DCWsLhut"
      },
      "source": [
        "## Question"
      ]
    },
    {
      "cell_type": "markdown",
      "metadata": {
        "id": "NVkEMZ9ZMSBg"
      },
      "source": [
        "Modify bubble_sort function such that it can sort following list of transactions happening in an electronic store,\n",
        "\n",
        "inp_list = [\n",
        "\n",
        "        { 'name': 'rihel',  'transaction_amount': 1000},\n",
        "        { 'name': 'hrisav', 'transaction_amount': 400},\n",
        "        { 'name': 'megha',  'transaction_amount': 200},\n",
        "        { 'name': 'rishti', 'transaction_amount': 800},\n",
        "  \n",
        "  ]\n",
        "\n",
        "bubble_sort function should take key from a transaction record and sort the list as per that key.\n",
        "\n",
        "For example,\n",
        "\n",
        "bubble_sort(inp_list, key='transaction_amount')\n",
        "\n",
        "This will sort inp_list by transaction_amount and your sorted list will look like,\n",
        "\n",
        "inp_list = [\n",
        "\n",
        "        { 'name': 'megha',  'transaction_amount': 200},\n",
        "        { 'name': 'hrisav', 'transaction_amount': 400},\n",
        "        { 'name': 'rishti',  'transaction_amount': 800},\n",
        "        { 'name': 'rihel', 'transaction_amount': 1000},\n",
        "  \n",
        "  ]"
      ]
    },
    {
      "cell_type": "code",
      "metadata": {
        "id": "kunTxj43Meb2"
      },
      "source": [
        "inp_list = [\n",
        "        { 'name': 'rihel',  'transaction_amount': 1000},\n",
        "        { 'name': 'hrisav', 'transaction_amount': 400},\n",
        "        { 'name': 'megha',  'transaction_amount': 200},\n",
        "        { 'name': 'rishti', 'transaction_amount': 800},\n",
        "    ]"
      ],
      "execution_count": 3,
      "outputs": []
    },
    {
      "cell_type": "code",
      "metadata": {
        "colab": {
          "base_uri": "https://localhost:8080/"
        },
        "id": "Gk9vXphXHzla",
        "outputId": "3bbb51b5-ba1f-4fa6-cf5a-c7e83c3cd55f"
      },
      "source": [
        "for i in inp_list:\n",
        "    print(i['transaction_amount'])"
      ],
      "execution_count": 4,
      "outputs": [
        {
          "output_type": "stream",
          "text": [
            "1000\n",
            "400\n",
            "200\n",
            "800\n"
          ],
          "name": "stdout"
        }
      ]
    },
    {
      "cell_type": "code",
      "metadata": {
        "colab": {
          "base_uri": "https://localhost:8080/"
        },
        "id": "Ia-J1HYQLsfn",
        "outputId": "5fae4d6d-13ee-4e9d-cb54-83436e4101ef"
      },
      "source": [
        "inp_list[0]['transaction_amount']"
      ],
      "execution_count": 5,
      "outputs": [
        {
          "output_type": "execute_result",
          "data": {
            "text/plain": [
              "1000"
            ]
          },
          "metadata": {
            "tags": []
          },
          "execution_count": 5
        }
      ]
    },
    {
      "cell_type": "code",
      "metadata": {
        "id": "4iGk03UJJsre"
      },
      "source": [
        "def bubble_sort(inp_list, key=None):\n",
        "    size = len(inp_list)\n",
        "    for i in range(size-1):\n",
        "        for j in range(size-1-i):\n",
        "            if inp_list[j][key]>inp_list[j+1][key]:\n",
        "                temp = inp_list[j+1]\n",
        "                inp_list[j+1] = inp_list[j]\n",
        "                inp_list[j] = temp\n",
        "    print(inp_list)"
      ],
      "execution_count": 6,
      "outputs": []
    },
    {
      "cell_type": "code",
      "metadata": {
        "colab": {
          "base_uri": "https://localhost:8080/"
        },
        "id": "nQHdlAscIJ2g",
        "outputId": "020355af-3ad8-4676-e955-ef8ec7b27411"
      },
      "source": [
        "inp_list = [\n",
        "        { 'name': 'rihel',  'transaction_amount': 1000},\n",
        "        { 'name': 'hrisav', 'transaction_amount': 400},\n",
        "        { 'name': 'megha',  'transaction_amount': 200},\n",
        "        { 'name': 'rishti', 'transaction_amount': 800},\n",
        "    ]\n",
        "\n",
        "bubble_sort(inp_list, key='transaction_amount')"
      ],
      "execution_count": 7,
      "outputs": [
        {
          "output_type": "stream",
          "text": [
            "[{'name': 'megha', 'transaction_amount': 200}, {'name': 'hrisav', 'transaction_amount': 400}, {'name': 'rishti', 'transaction_amount': 800}, {'name': 'rihel', 'transaction_amount': 1000}]\n"
          ],
          "name": "stdout"
        }
      ]
    },
    {
      "cell_type": "code",
      "metadata": {
        "colab": {
          "base_uri": "https://localhost:8080/"
        },
        "id": "CptW8RWoKUye",
        "outputId": "5dfe689b-8de8-445d-e8cf-96772cc8a842"
      },
      "source": [
        "inp_list = [\n",
        "        { 'name': 'rihel',  'transaction_amount': 1000},\n",
        "        { 'name': 'hrisav', 'transaction_amount': 400},\n",
        "        { 'name': 'megha',  'transaction_amount': 200},\n",
        "        { 'name': 'rishti', 'transaction_amount': 800},\n",
        "    ]\n",
        "\n",
        "bubble_sort(inp_list, key='name')"
      ],
      "execution_count": 8,
      "outputs": [
        {
          "output_type": "stream",
          "text": [
            "[{'name': 'hrisav', 'transaction_amount': 400}, {'name': 'megha', 'transaction_amount': 200}, {'name': 'rihel', 'transaction_amount': 1000}, {'name': 'rishti', 'transaction_amount': 800}]\n"
          ],
          "name": "stdout"
        }
      ]
    }
  ]
}