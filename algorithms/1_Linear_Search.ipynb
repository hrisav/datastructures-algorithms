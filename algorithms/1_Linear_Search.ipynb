{
  "nbformat": 4,
  "nbformat_minor": 0,
  "metadata": {
    "kernelspec": {
      "display_name": "Python 3",
      "language": "python",
      "name": "python3"
    },
    "language_info": {
      "codemirror_mode": {
        "name": "ipython",
        "version": 3
      },
      "file_extension": ".py",
      "mimetype": "text/x-python",
      "name": "python",
      "nbconvert_exporter": "python",
      "pygments_lexer": "ipython3",
      "version": "3.8.2"
    },
    "colab": {
      "name": "1_Linear_Search.ipynb",
      "provenance": []
    }
  },
  "cells": [
    {
      "cell_type": "markdown",
      "metadata": {
        "id": "Xbri8ZNhF612"
      },
      "source": [
        "## Linear Search"
      ]
    },
    {
      "cell_type": "markdown",
      "metadata": {
        "id": "NWLQm_08GmD1"
      },
      "source": [
        "Worst-case complexity is O(n)"
      ]
    },
    {
      "cell_type": "code",
      "metadata": {
        "id": "zxE3iUiAF617",
        "colab": {
          "base_uri": "https://localhost:8080/"
        },
        "outputId": "13e607b6-5fd5-474d-b6bf-cc3db83ec04b"
      },
      "source": [
        "def linear_search(inp_list, val):\n",
        "    for i in range(len(inp_list)):\n",
        "        if inp_list[i] == val:\n",
        "            print('Element found at position : ', i+1)\n",
        "            flag=0\n",
        "            break\n",
        "        else:\n",
        "            flag=1\n",
        "    if(flag==0):\n",
        "        pass\n",
        "    else:\n",
        "        print('Element not found!')\n",
        "\n",
        "inp_list = [10,20,30,40,50]\n",
        "val = int(input('Enter value to search : '))\n",
        "linear_search(inp_list, val)     "
      ],
      "execution_count": 1,
      "outputs": [
        {
          "output_type": "stream",
          "text": [
            "Enter value to search : 30\n",
            "Element found at position :  3\n"
          ],
          "name": "stdout"
        }
      ]
    }
  ]
}