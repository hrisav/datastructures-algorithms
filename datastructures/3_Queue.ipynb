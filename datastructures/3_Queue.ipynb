{
  "nbformat": 4,
  "nbformat_minor": 0,
  "metadata": {
    "colab": {
      "name": "3_Queue.ipynb",
      "provenance": []
    },
    "kernelspec": {
      "name": "python3",
      "display_name": "Python 3"
    },
    "language_info": {
      "name": "python"
    }
  },
  "cells": [
    {
      "cell_type": "code",
      "metadata": {
        "id": "VLuSNa3ADcy5"
      },
      "source": [
        "# convert image links to colab image links\n",
        "\n",
        "def image_linker(link):\n",
        "\n",
        "    new_link = 'https://drive.google.com/uc?id='\n",
        "    new_link = new_link + link.split('/')[-2]\n",
        "    paste_link = '![](' + new_link + ')'\n",
        "    return paste_link"
      ],
      "execution_count": 11,
      "outputs": []
    },
    {
      "cell_type": "code",
      "metadata": {
        "colab": {
          "base_uri": "https://localhost:8080/",
          "height": 36
        },
        "id": "soMHsylWD0e7",
        "outputId": "77548efc-e8d0-400c-820d-78e43f63a2c9"
      },
      "source": [
        "image_linker('https://drive.google.com/file/d/1wBRHXGfcEtGLrS98HnhgbvgTwZcBHEYy/view?usp=sharing')"
      ],
      "execution_count": 12,
      "outputs": [
        {
          "output_type": "execute_result",
          "data": {
            "application/vnd.google.colaboratory.intrinsic+json": {
              "type": "string"
            },
            "text/plain": [
              "'![](https://drive.google.com/uc?id=1wBRHXGfcEtGLrS98HnhgbvgTwZcBHEYy)'"
            ]
          },
          "metadata": {
            "tags": []
          },
          "execution_count": 12
        }
      ]
    },
    {
      "cell_type": "markdown",
      "metadata": {
        "id": "IdsJlawCIVAP"
      },
      "source": [
        "Works in the principle of FIFO.\n",
        "\n",
        "Operations: Enqueue (adding elements to queue), Dequeue (removing elements), isFull (queue is full or not), isEmpty (queue is empty or not)"
      ]
    },
    {
      "cell_type": "markdown",
      "metadata": {
        "id": "hK9relBjVykT"
      },
      "source": [
        "![](https://drive.google.com/uc?id=1wBRHXGfcEtGLrS98HnhgbvgTwZcBHEYy)"
      ]
    },
    {
      "cell_type": "markdown",
      "metadata": {
        "id": "ubp42zgLNck3"
      },
      "source": [
        "## FIFO operation"
      ]
    },
    {
      "cell_type": "code",
      "metadata": {
        "colab": {
          "base_uri": "https://localhost:8080/"
        },
        "id": "r9F8nIAiImZC",
        "outputId": "edd99ce2-9546-4a0f-9d31-ba220495505e"
      },
      "source": [
        "queue = []\n",
        "\n",
        "queue.append('Hrisav')\n",
        "queue.append('Megha')\n",
        "queue.append('Rihel')\n",
        "\n",
        "print(queue)"
      ],
      "execution_count": 5,
      "outputs": [
        {
          "output_type": "stream",
          "text": [
            "['Hrisav', 'Megha', 'Rihel']\n"
          ],
          "name": "stdout"
        }
      ]
    },
    {
      "cell_type": "code",
      "metadata": {
        "colab": {
          "base_uri": "https://localhost:8080/"
        },
        "id": "9noskBB7JV05",
        "outputId": "b8bea3b1-3d94-432f-d540-cfce1b7b1bf4"
      },
      "source": [
        "queue.pop(0)\n",
        "\n",
        "print(queue)"
      ],
      "execution_count": 6,
      "outputs": [
        {
          "output_type": "stream",
          "text": [
            "['Megha', 'Rihel']\n"
          ],
          "name": "stdout"
        }
      ]
    },
    {
      "cell_type": "code",
      "metadata": {
        "colab": {
          "base_uri": "https://localhost:8080/"
        },
        "id": "CzpLlU12Jg2G",
        "outputId": "5bfa253f-04af-4a1b-d2f4-56b295813785"
      },
      "source": [
        "queue.pop(0)\n",
        "\n",
        "print(queue)"
      ],
      "execution_count": 7,
      "outputs": [
        {
          "output_type": "stream",
          "text": [
            "['Rihel']\n"
          ],
          "name": "stdout"
        }
      ]
    },
    {
      "cell_type": "code",
      "metadata": {
        "colab": {
          "base_uri": "https://localhost:8080/"
        },
        "id": "dW-apU4CJj-x",
        "outputId": "c11d06b0-33c0-45ab-a025-42c6a76643e5"
      },
      "source": [
        "queue.pop(0)\n",
        "\n",
        "print(queue)"
      ],
      "execution_count": 8,
      "outputs": [
        {
          "output_type": "stream",
          "text": [
            "[]\n"
          ],
          "name": "stdout"
        }
      ]
    },
    {
      "cell_type": "markdown",
      "metadata": {
        "id": "8_ISZy0ANh3K"
      },
      "source": [
        "## Queue program"
      ]
    },
    {
      "cell_type": "code",
      "metadata": {
        "colab": {
          "base_uri": "https://localhost:8080/"
        },
        "id": "6AJPMC6oJlwz",
        "outputId": "06d80e6d-fbfe-4e50-a7ee-7fb57a60a1fc"
      },
      "source": [
        "queue = []\n",
        "\n",
        "def push_element():\n",
        "    if len(queue)>=limit:\n",
        "        print('Queue is full cant add!')\n",
        "        print()\n",
        "    else:\n",
        "        element = input('Enter element to add: ')\n",
        "        print('Adding element: ', element)\n",
        "        queue.append(element)\n",
        "        print(queue)\n",
        "        print()\n",
        "\n",
        "def pop_element():\n",
        "    if len(queue) == 0:\n",
        "        print('No element to remove as queue is empty!')\n",
        "        print()\n",
        "    else:\n",
        "        rem = queue.pop(0)\n",
        "        print('Removed element is: ', rem)\n",
        "        print(queue)\n",
        "        print()\n",
        "\n",
        "def view_queue():\n",
        "    print('Top element - ', queue[-1])\n",
        "    print('Number of elements - ', len(queue))\n",
        "    print(queue)\n",
        "    print()\n",
        "\n",
        "print('Enter max limit of Queue: ')\n",
        "limit = int(input())\n",
        "\n",
        "while True:\n",
        "    print('Select operation >>> 1. Push 2. Pop 3. Display 4. Quit')\n",
        "    choice = int(input())\n",
        "    if choice == 1:\n",
        "        push_element()\n",
        "    elif choice == 2:\n",
        "        pop_element()\n",
        "    elif choice == 3:\n",
        "        view_queue()\n",
        "    elif choice == 4:\n",
        "        print('Stopping program..')\n",
        "        break\n",
        "    else:\n",
        "        print('Enter correct choice!')"
      ],
      "execution_count": 10,
      "outputs": [
        {
          "output_type": "stream",
          "text": [
            "Enter max limit of Queue: \n",
            "3\n",
            "Select operation >>> 1. Push 2. Pop 3. Display 4. Quit\n",
            "1\n",
            "Enter element to add: 20\n",
            "Adding element:  20\n",
            "['20']\n",
            "\n",
            "Select operation >>> 1. Push 2. Pop 3. Display 4. Quit\n",
            "1\n",
            "Enter element to add: 30\n",
            "Adding element:  30\n",
            "['20', '30']\n",
            "\n",
            "Select operation >>> 1. Push 2. Pop 3. Display 4. Quit\n",
            "1\n",
            "Enter element to add: 40\n",
            "Adding element:  40\n",
            "['20', '30', '40']\n",
            "\n",
            "Select operation >>> 1. Push 2. Pop 3. Display 4. Quit\n",
            "1\n",
            "Queue is full cant add!\n",
            "\n",
            "Select operation >>> 1. Push 2. Pop 3. Display 4. Quit\n",
            "3\n",
            "Top element -  40\n",
            "Number of elements -  3\n",
            "['20', '30', '40']\n",
            "\n",
            "Select operation >>> 1. Push 2. Pop 3. Display 4. Quit\n",
            "2\n",
            "Removed element is:  20\n",
            "['30', '40']\n",
            "\n",
            "Select operation >>> 1. Push 2. Pop 3. Display 4. Quit\n",
            "2\n",
            "Removed element is:  30\n",
            "['40']\n",
            "\n",
            "Select operation >>> 1. Push 2. Pop 3. Display 4. Quit\n",
            "2\n",
            "Removed element is:  40\n",
            "[]\n",
            "\n",
            "Select operation >>> 1. Push 2. Pop 3. Display 4. Quit\n",
            "2\n",
            "No element to remove as queue is empty!\n",
            "\n",
            "Select operation >>> 1. Push 2. Pop 3. Display 4. Quit\n",
            "4\n",
            "Stopping program..\n"
          ],
          "name": "stdout"
        }
      ]
    }
  ]
}