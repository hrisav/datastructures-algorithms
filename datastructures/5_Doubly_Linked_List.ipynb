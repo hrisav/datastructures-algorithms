{
  "nbformat": 4,
  "nbformat_minor": 0,
  "metadata": {
    "colab": {
      "name": "5_Doubly_Linked_List.ipynb",
      "provenance": [],
      "collapsed_sections": [],
      "toc_visible": true
    },
    "kernelspec": {
      "name": "python3",
      "display_name": "Python 3"
    },
    "language_info": {
      "name": "python"
    }
  },
  "cells": [
    {
      "cell_type": "code",
      "metadata": {
        "id": "VLuSNa3ADcy5"
      },
      "source": [
        "# convert image links to colab image links\n",
        "\n",
        "def image_linker(link):\n",
        "\n",
        "    new_link = 'https://drive.google.com/uc?id='\n",
        "    new_link = new_link + link.split('/')[-2]\n",
        "    paste_link = '![](' + new_link + ')'\n",
        "    return paste_link"
      ],
      "execution_count": null,
      "outputs": []
    },
    {
      "cell_type": "code",
      "metadata": {
        "colab": {
          "base_uri": "https://localhost:8080/",
          "height": 36
        },
        "id": "soMHsylWD0e7",
        "outputId": "da033238-65c4-4262-b613-5b9711c322ae"
      },
      "source": [
        "image_linker('https://drive.google.com/file/d/1W56fqgB3D9ZFH8BKsv0Zgrti8zZ86ltI/view?usp=sharing')"
      ],
      "execution_count": null,
      "outputs": [
        {
          "output_type": "execute_result",
          "data": {
            "application/vnd.google.colaboratory.intrinsic+json": {
              "type": "string"
            },
            "text/plain": [
              "'![](https://drive.google.com/uc?id=1W56fqgB3D9ZFH8BKsv0Zgrti8zZ86ltI)'"
            ]
          },
          "metadata": {
            "tags": []
          },
          "execution_count": 2
        }
      ]
    },
    {
      "cell_type": "markdown",
      "metadata": {
        "id": "8ZHHToP7qHwa"
      },
      "source": [
        "# Double Linked List\n",
        "\n",
        "Doubly linked list allows element two way traversal. It can be used to implement stacks as well as heaps and binary trees. Complexity of insertion and deletion at a known position is O(1)."
      ]
    },
    {
      "cell_type": "markdown",
      "metadata": {
        "id": "VM3ngKzEvjul"
      },
      "source": [
        "![](https://drive.google.com/uc?id=1W56fqgB3D9ZFH8BKsv0Zgrti8zZ86ltI)"
      ]
    },
    {
      "cell_type": "markdown",
      "metadata": {
        "id": "ilbLWTWNFJu2"
      },
      "source": [
        "**Inserting at beginning**\n",
        "\n",
        "1) Create new_node\n",
        "\n",
        "2) Point new_node.next --> head (head is same as existing 1st node)\n",
        "\n",
        "3) Point 1st_node.prev --> new_node\n",
        "\n",
        "4) Point head --> new_node\n",
        "\n",
        "**Inserting at end**\n",
        "\n",
        "1) Create new_node\n",
        "\n",
        "2) Go to last_node\n",
        "\n",
        "3) Point last_node.next --> new_node\n",
        "\n",
        "4) Point last_node.prev --> last_node\n",
        "\n",
        "**Inserting in between**\n",
        "\n",
        "Structure will be: x_node, new_node, y_node\n",
        "\n",
        "1) Create new_node\n",
        "\n",
        "2) Go to x_node, just before required position of new_node\n",
        "\n",
        "3) Point x_node.next --> new_node\n",
        "\n",
        "4) Point new_node.prev --> x_node\n",
        "\n",
        "5) Point new_node.next --> y_node\n",
        "\n",
        "6) Point x_node.next --> new_node"
      ]
    },
    {
      "cell_type": "markdown",
      "metadata": {
        "id": "ZDqnNYDNH2HE"
      },
      "source": [
        "**Deleting at beginning**\n",
        "\n",
        "1) Point head --> second_node\n",
        "\n",
        "2) Point second_node.prev --> None\n",
        "\n",
        "**Deleting at end**\n",
        "\n",
        "1) Go to second_last_node\n",
        "\n",
        "2) Point second_last_node.next --> None\n",
        "\n",
        "**Deleting in between**\n",
        "\n",
        "Structure will be: x_node, removed_node, y_node\n",
        "\n",
        "1) Go to x_node\n",
        "\n",
        "2) Point x_node.next --> y_node\n",
        "\n",
        "3) Point z_node.prev --> x_node"
      ]
    },
    {
      "cell_type": "markdown",
      "metadata": {
        "id": "mCd-C0-YfMFk"
      },
      "source": [
        "## Display List"
      ]
    },
    {
      "cell_type": "code",
      "metadata": {
        "id": "Mec68Xjj_EU1"
      },
      "source": [
        "class Node:\n",
        "    def __init__(self, data):                           # each Node will have data and next\n",
        "        self.data = data\n",
        "        self.next = None\n",
        "        self.prev = None\n",
        "\n",
        "class DLinkedList:\n",
        "    def __init__(self):\n",
        "        self.head = None                                # initially LL is empty\n",
        "\n",
        "    def front_traverse(self):\n",
        "        node = self.head                                # taking head as current node\n",
        "        if node == None:                                # checking if head is empty\n",
        "            print('List is empty!')\n",
        "        else:\n",
        "            while node != None:                         # stop loop before node's value is null (means end of list)\n",
        "                print(node.data, '<-->', end = ' ')      # display's node's data\n",
        "                node = node.next                        # update node with it's next value\n",
        "\n",
        "    def back_traverse(self):\n",
        "        node = self.head                                # taking head as current node\n",
        "        if node == None:                                # checking if head is empty\n",
        "            print('List is empty!')\n",
        "        else:\n",
        "            while node.next != None:                    # going forward till end of list\n",
        "                node = node.next                        \n",
        "            while node.prev != None:                    # coming backward till start of list\n",
        "                print(node.data, '<-->', end = ' ') \n",
        "                node = node.prev"
      ],
      "execution_count": null,
      "outputs": []
    },
    {
      "cell_type": "code",
      "metadata": {
        "colab": {
          "base_uri": "https://localhost:8080/"
        },
        "id": "wLH-CQ5sfJry",
        "outputId": "87d2e763-bb54-44c3-b997-a56c94fe0b6a"
      },
      "source": [
        "ob = Node(10)\n",
        "ob.data"
      ],
      "execution_count": null,
      "outputs": [
        {
          "output_type": "execute_result",
          "data": {
            "text/plain": [
              "10"
            ]
          },
          "metadata": {
            "tags": []
          },
          "execution_count": 4
        }
      ]
    },
    {
      "cell_type": "code",
      "metadata": {
        "colab": {
          "base_uri": "https://localhost:8080/"
        },
        "id": "xo58-qcZfQ_P",
        "outputId": "1bb8dc7b-7a6f-4dab-9b81-50080e73bdfd"
      },
      "source": [
        "dll = DLinkedList()\n",
        "dll.front_traverse()"
      ],
      "execution_count": null,
      "outputs": [
        {
          "output_type": "stream",
          "text": [
            "List is empty!\n"
          ],
          "name": "stdout"
        }
      ]
    },
    {
      "cell_type": "code",
      "metadata": {
        "colab": {
          "base_uri": "https://localhost:8080/"
        },
        "id": "Js05K4JpffWB",
        "outputId": "e5869e0c-3b95-4e7b-b46b-8d38a3c33569"
      },
      "source": [
        "dll = DLinkedList()\n",
        "dll.back_traverse()"
      ],
      "execution_count": null,
      "outputs": [
        {
          "output_type": "stream",
          "text": [
            "List is empty!\n"
          ],
          "name": "stdout"
        }
      ]
    },
    {
      "cell_type": "markdown",
      "metadata": {
        "id": "jZ_0ANTegTIY"
      },
      "source": [
        "## Add in empty list, add in begin, add in end"
      ]
    },
    {
      "cell_type": "code",
      "metadata": {
        "id": "5BPQJp3QgUoA"
      },
      "source": [
        "class Node:\n",
        "    def __init__(self, data):                           # each Node will have data and next\n",
        "        self.data = data\n",
        "        self.next = None\n",
        "        self.prev = None\n",
        "\n",
        "class DLinkedList:\n",
        "    def __init__(self):\n",
        "        self.head = None                                # initially LL is empty\n",
        "\n",
        "    def front_traverse(self):\n",
        "        node = self.head                                # taking head as current node\n",
        "        if node == None:                                # checking if head is empty\n",
        "            print('List is empty!')\n",
        "        else:\n",
        "            while node != None:                         # stop loop before node's value is null (means end of list)\n",
        "                print(node.data, '<-->', end = ' ')      # display's node's data\n",
        "                node = node.next                        # update node with it's next value\n",
        "\n",
        "    def back_traverse(self):\n",
        "        node = self.head                                # taking head as current node\n",
        "        if node == None:                                # checking if head is empty\n",
        "            print('List is empty!')\n",
        "        else:\n",
        "            while node.next != None:                    # going forward till end of list\n",
        "                node = node.next                        \n",
        "            while node != None:                    # coming backward till start of list\n",
        "                print(node.data, '<-->', end = ' ') \n",
        "                node = node.prev\n",
        "\n",
        "    def add_empty(self, data):\n",
        "        if self.head == None:                           # if head is empty\n",
        "            new_node = Node(data)                       # create new_node\n",
        "            self.head = new_node                        # point head --> new_node\n",
        "        else:\n",
        "            print('List is not empty!')\n",
        "\n",
        "    def add_begin(self, data):\n",
        "        new_node = Node(data)                           # create new_node\n",
        "        if self.head == None:                           # if list is empty\n",
        "            self.head = new_node                        # make new node as head\n",
        "        else:                                           # if list is not empty\n",
        "            new_node.next = self.head                   # point new_node.next --> head (head contains address of 1st node)\n",
        "            self.head.prev = new_node                   # point head.prev --> new_node\n",
        "            self.head = new_node                        # making new_node as head\n",
        "\n",
        "    def add_end(self, data):\n",
        "        new_node = Node(data)                           # create new_node\n",
        "        if self.head == None:                           # if list is empty, make new node as head\n",
        "            self.head = new_node\n",
        "        else:\n",
        "            node = self.head              \n",
        "            while node.next != None:                    # traverse to end of list (last_node)\n",
        "                node = node.next\n",
        "            node.next = new_node                        # point last_node.next --> new_node\n",
        "            new_node.prev = node                        # point new_node.prev --> last_node"
      ],
      "execution_count": null,
      "outputs": []
    },
    {
      "cell_type": "code",
      "metadata": {
        "colab": {
          "base_uri": "https://localhost:8080/"
        },
        "id": "GiaDohUOmOC8",
        "outputId": "6e888660-cefd-434c-d41a-350b0db4b043"
      },
      "source": [
        "dll = DLinkedList()\n",
        "dll.add_empty('Hrisav')\n",
        "dll.add_begin('Rihel')\n",
        "dll.add_end('Megha')\n",
        "print('****Showing list frontwise:****')\n",
        "dll.front_traverse()\n",
        "print()\n",
        "print()\n",
        "print('****Showing list backwise:****')\n",
        "dll.back_traverse()"
      ],
      "execution_count": null,
      "outputs": [
        {
          "output_type": "stream",
          "text": [
            "****Showing list frontwise:****\n",
            "Rihel <--> Hrisav <--> Megha <--> \n",
            "\n",
            "****Showing list backwise:****\n",
            "Megha <--> Hrisav <--> Rihel <--> "
          ],
          "name": "stdout"
        }
      ]
    },
    {
      "cell_type": "markdown",
      "metadata": {
        "id": "lAGW1JeuoYOA"
      },
      "source": [
        "## Add after and before a node"
      ]
    },
    {
      "cell_type": "code",
      "metadata": {
        "id": "lGLEazzVodD9"
      },
      "source": [
        "class Node:\n",
        "    def __init__(self, data):                           # each Node will have data and next\n",
        "        self.data = data\n",
        "        self.next = None\n",
        "        self.prev = None\n",
        "\n",
        "class DLinkedList:\n",
        "    def __init__(self):\n",
        "        self.head = None                                # initially LL is empty\n",
        "\n",
        "    def front_traverse(self):\n",
        "        node = self.head                                # taking head as current node\n",
        "        if node == None:                                # checking if head is empty\n",
        "            print('List is empty!')\n",
        "        else:\n",
        "            while node != None:                         # stop loop before node's value is null (means end of list)\n",
        "                print(node.data, '<-->', end = ' ')      # display's node's data\n",
        "                node = node.next                        # update node with it's next value\n",
        "\n",
        "    def back_traverse(self):\n",
        "        node = self.head                                # taking head as current node\n",
        "        if node == None:                                # checking if head is empty\n",
        "            print('List is empty!')\n",
        "        else:\n",
        "            while node.next != None:                    # going forward till end of list\n",
        "                node = node.next                        \n",
        "            while node != None:                         # coming backward till start of list\n",
        "                print(node.data, '<-->', end = ' ') \n",
        "                node = node.prev\n",
        "\n",
        "    def add_empty(self, data):\n",
        "        if self.head == None:                           # if head is empty\n",
        "            new_node = Node(data)                       # create new_node\n",
        "            self.head = new_node                        # point head --> new_node\n",
        "        else:\n",
        "            print('List is not empty!')\n",
        "\n",
        "    def add_begin(self, data):\n",
        "        new_node = Node(data)                           # create new_node\n",
        "        if self.head == None:                           # if list is empty\n",
        "            self.head = new_node                        # make new node as head\n",
        "        else:                                           # if list is not empty\n",
        "            new_node.next = self.head                   # point new_node.next --> head (head contains address of 1st node)\n",
        "            self.head.prev = new_node                   # point head.prev --> new_node\n",
        "            self.head = new_node                        # making new_node as head\n",
        "\n",
        "    def add_end(self, data):\n",
        "        new_node = Node(data)                           # create new_node\n",
        "        if self.head == None:                           # if list is empty, make new node as head\n",
        "            self.head = new_node\n",
        "        else:\n",
        "            node = self.head              \n",
        "            while node.next != None:                    # traverse to end of list (last_node)\n",
        "                node = node.next\n",
        "            node.next = new_node                        # point last_node.next --> new_node\n",
        "            new_node.prev = node                        # point new_node.prev --> last_node\n",
        "\n",
        "    def add_after(self, data, x):                       # add node after x's value\n",
        "        node = self.head                                # taking head as current node \n",
        "        if node == None:\n",
        "            print('List is empty!')\n",
        "        else:      \n",
        "            while node != None:                         # traverse to end of list (last_node)\n",
        "                if node.data == x:                      # if element x has been found\n",
        "                    break\n",
        "                node = node.next                        # keep going to next node till x not found\n",
        "            if node == None:                            # if element x not found\n",
        "                print('Node is not present!')\n",
        "            else:                                       # if element x has been found\n",
        "                new_node = Node(data)                   # create new_node\n",
        "                new_node.next = node.next               # if x found, assign x_node.next --> new_node.next\n",
        "                new_node.prev = node                    # assign x_node --> new_node.prev\n",
        "                if node.next != None:                   # checking condition if it is not the last node\n",
        "                    node.next.prev = new_node           # then assign new_node --> y_node.prev, else ignore\n",
        "                node.next = new_node                    # assign new_node --> x_node.next\n",
        "\n",
        "    def add_before(self, data, x):                      # add node before x's value\n",
        "        node = self.head                                # taking head as current node \n",
        "        if node == None:\n",
        "            print('List is empty!')\n",
        "        else:      \n",
        "            while node != None:                         # traverse to end of list (last_node)\n",
        "                if node.data == x:                      # if element x has been found\n",
        "                    break\n",
        "                node = node.next                        # keep going to next node till x not found\n",
        "            if node == None:                            # if element x not found\n",
        "                print('Node is not present!')\n",
        "            else:                                       # if element x has been found\n",
        "                new_node = Node(data)                   # create new_node\n",
        "                new_node.next = node                    # if x found, assign x_node --> new_node.next\n",
        "                new_node.prev = node.prev\n",
        "                if node.prev != None:                   # checking condition if it is not the first node\n",
        "                    node.prev.next = new_node           # assign new_node --> prev_node's next\n",
        "                else:\n",
        "                    self.head = new_node                # assigning new_node as head node when previous node is not present\n",
        "                node.prev = new_node                    # assign new_node --> x_node's prev"
      ],
      "execution_count": null,
      "outputs": []
    },
    {
      "cell_type": "code",
      "metadata": {
        "colab": {
          "base_uri": "https://localhost:8080/"
        },
        "id": "5y7rQ45L9xzE",
        "outputId": "bf811d47-6f96-4916-c249-6424fddc3525"
      },
      "source": [
        "dll = DLinkedList()\n",
        "dll.add_begin('Hrisav')\n",
        "dll.add_begin('Rihel')\n",
        "print('****Showing list:****')\n",
        "dll.front_traverse()\n",
        "print()\n",
        "print()\n",
        "\n",
        "dll.add_after('Megha', 'Rihel')\n",
        "dll.add_before('Riddhi', 'Hrisav')\n",
        "print('****Showing list after adding at end:****')\n",
        "dll.front_traverse()\n",
        "print()\n",
        "print()\n",
        "\n",
        "dll.add_begin('Mudita')\n",
        "print('****Showing list after adding at front:****')\n",
        "dll.front_traverse()"
      ],
      "execution_count": null,
      "outputs": [
        {
          "output_type": "stream",
          "text": [
            "****Showing list:****\n",
            "Rihel <--> Hrisav <--> \n",
            "\n",
            "****Showing list after adding at end:****\n",
            "Rihel <--> Megha <--> Riddhi <--> Hrisav <--> \n",
            "\n",
            "****Showing list after adding at front:****\n",
            "Mudita <--> Rihel <--> Megha <--> Riddhi <--> Hrisav <--> "
          ],
          "name": "stdout"
        }
      ]
    },
    {
      "cell_type": "code",
      "metadata": {
        "colab": {
          "base_uri": "https://localhost:8080/"
        },
        "id": "HnSdyxaWIV2E",
        "outputId": "eaa8d52c-fcdc-41b4-8ce1-a1ad9220414c"
      },
      "source": [
        "dll = DLinkedList()\n",
        "dll.add_begin('Hrisav')\n",
        "dll.add_before('Rihel', 'Hrisav')\n",
        "dll.front_traverse()\n",
        "print()\n",
        "dll.back_traverse()"
      ],
      "execution_count": null,
      "outputs": [
        {
          "output_type": "stream",
          "text": [
            "Rihel <--> Hrisav <--> \n",
            "Hrisav <--> Rihel <--> "
          ],
          "name": "stdout"
        }
      ]
    },
    {
      "cell_type": "markdown",
      "metadata": {
        "id": "CA733W2XqfMG"
      },
      "source": [
        "## Deleting at begin"
      ]
    },
    {
      "cell_type": "code",
      "metadata": {
        "id": "4Ex3OZwAIin7"
      },
      "source": [
        "class Node:\n",
        "    def __init__(self, data):                           # each Node will have data and next\n",
        "        self.data = data\n",
        "        self.next = None\n",
        "        self.prev = None\n",
        "\n",
        "class DLinkedList:\n",
        "    def __init__(self):\n",
        "        self.head = None                                # initially LL is empty\n",
        "\n",
        "    def front_traverse(self):\n",
        "        node = self.head                                # taking head as current node\n",
        "        if node == None:                                # checking if head is empty\n",
        "            print('List is empty!')\n",
        "        else:\n",
        "            while node != None:                         # stop loop before node's value is null (means end of list)\n",
        "                print(node.data, '<-->', end = ' ')      # display's node's data\n",
        "                node = node.next                        # update node with it's next value\n",
        "\n",
        "    def back_traverse(self):\n",
        "        node = self.head                                # taking head as current node\n",
        "        if node == None:                                # checking if head is empty\n",
        "            print('List is empty!')\n",
        "        else:\n",
        "            while node.next != None:                    # going forward till end of list\n",
        "                node = node.next                        \n",
        "            while node != None:                         # coming backward till start of list\n",
        "                print(node.data, '<-->', end = ' ') \n",
        "                node = node.prev\n",
        "\n",
        "    def add_empty(self, data):\n",
        "        if self.head == None:                           # if head is empty\n",
        "            new_node = Node(data)                       # create new_node\n",
        "            self.head = new_node                        # point head --> new_node\n",
        "        else:\n",
        "            print('List is not empty!')\n",
        "\n",
        "    def add_begin(self, data):\n",
        "        new_node = Node(data)                           # create new_node\n",
        "        if self.head == None:                           # if list is empty\n",
        "            self.head = new_node                        # make new node as head\n",
        "        else:                                           # if list is not empty\n",
        "            new_node.next = self.head                   # point new_node.next --> head (head contains address of 1st node)\n",
        "            self.head.prev = new_node                   # point head.prev --> new_node\n",
        "            self.head = new_node                        # making new_node as head\n",
        "\n",
        "    def add_end(self, data):\n",
        "        new_node = Node(data)                           # create new_node\n",
        "        if self.head == None:                           # if list is empty, make new node as head\n",
        "            self.head = new_node\n",
        "        else:\n",
        "            node = self.head              \n",
        "            while node.next != None:                    # traverse to end of list (last_node)\n",
        "                node = node.next\n",
        "            node.next = new_node                        # point last_node.next --> new_node\n",
        "            new_node.prev = node                        # point new_node.prev --> last_node\n",
        "\n",
        "    def add_after(self, data, x):                       # add node after x's value\n",
        "        node = self.head                                # taking head as current node \n",
        "        if node == None:\n",
        "            print('List is empty!')\n",
        "        else:      \n",
        "            while node != None:                         # traverse to end of list (last_node)\n",
        "                if node.data == x:                      # if element x has been found\n",
        "                    break\n",
        "                node = node.next                        # keep going to next node till x not found\n",
        "            if node == None:                            # if element x not found\n",
        "                print('Node is not present!')\n",
        "            else:                                       # if element x has been found\n",
        "                new_node = Node(data)                   # create new_node\n",
        "                new_node.next = node.next               # if x found, assign x_node.next --> new_node.next\n",
        "                new_node.prev = node                    # assign x_node --> new_node.prev\n",
        "                if node.next != None:                   # checking condition if it is not the last node\n",
        "                    node.next.prev = new_node           # then assign new_node --> y_node.prev, else ignore\n",
        "                node.next = new_node                    # assign new_node --> x_node.next\n",
        "\n",
        "    def add_before(self, data, x):                      # add node before x's value\n",
        "        node = self.head                                # taking head as current node \n",
        "        if node == None:\n",
        "            print('List is empty!')\n",
        "        else:      \n",
        "            while node != None:                         # traverse to end of list (last_node)\n",
        "                if node.data == x:                      # if element x has been found\n",
        "                    break\n",
        "                node = node.next                        # keep going to next node till x not found\n",
        "            if node == None:                            # if element x not found\n",
        "                print('Node is not present!')\n",
        "            else:                                       # if element x has been found\n",
        "                new_node = Node(data)                   # create new_node\n",
        "                new_node.next = node                    # if x found, assign x_node --> new_node.next\n",
        "                new_node.prev = node.prev\n",
        "                if node.prev != None:                   # checking condition if it is not the first node\n",
        "                    node.prev.next = new_node           # assign new_node --> prev_node's next\n",
        "                else:\n",
        "                    self.head = new_node                # assigning new_node as head node when previous node is not present\n",
        "                node.prev = new_node                    # assign new_node --> x_node's prev\n",
        "\n",
        "    def delete_begin(self):\n",
        "        node = self.head                                # taking head as current node  \n",
        "        if node == None:                                # if list is empty show empty list\n",
        "            print('List is empty!')\n",
        "        elif node.next == None:                         # if only 1 node is present in list\n",
        "            self.head = None                            # delete that node\n",
        "            print('Deleted the single node!')\n",
        "        else:                                           # if more than 1 node present\n",
        "            self.head = node.next                       # assign current node's next as head\n",
        "            node.next.prev = None                       # make 2nd node's prev as none"
      ],
      "execution_count": null,
      "outputs": []
    },
    {
      "cell_type": "code",
      "metadata": {
        "colab": {
          "base_uri": "https://localhost:8080/"
        },
        "id": "svg5WZI9tSy3",
        "outputId": "07aec2d7-95da-4641-ec09-5ddebf343176"
      },
      "source": [
        "dll = DLinkedList()\n",
        "dll.add_begin('Hrisav')\n",
        "dll.delete_begin()\n",
        "dll.front_traverse()\n",
        "print()"
      ],
      "execution_count": null,
      "outputs": [
        {
          "output_type": "stream",
          "text": [
            "Deleted the single node!\n",
            "List is empty!\n",
            "\n"
          ],
          "name": "stdout"
        }
      ]
    },
    {
      "cell_type": "code",
      "metadata": {
        "colab": {
          "base_uri": "https://localhost:8080/"
        },
        "id": "IEm_pzYgthvq",
        "outputId": "6958ce31-4250-45db-ce6c-516b6aaa6ece"
      },
      "source": [
        "dll = DLinkedList()\n",
        "dll.add_begin('Hrisav')\n",
        "dll.add_before('Rihel', 'Hrisav')\n",
        "dll.delete_begin()\n",
        "dll.front_traverse()\n",
        "print()"
      ],
      "execution_count": null,
      "outputs": [
        {
          "output_type": "stream",
          "text": [
            "Hrisav <--> \n"
          ],
          "name": "stdout"
        }
      ]
    },
    {
      "cell_type": "markdown",
      "metadata": {
        "id": "dLbK-5fF84VI"
      },
      "source": [
        "## Deleting at end"
      ]
    },
    {
      "cell_type": "code",
      "metadata": {
        "id": "fnKaqC27udZU"
      },
      "source": [
        "class Node:\n",
        "    def __init__(self, data):                           # each Node will have data and next\n",
        "        self.data = data\n",
        "        self.next = None\n",
        "        self.prev = None\n",
        "\n",
        "class DLinkedList:\n",
        "    def __init__(self):\n",
        "        self.head = None                                # initially LL is empty\n",
        "\n",
        "    def front_traverse(self):\n",
        "        node = self.head                                # taking head as current node\n",
        "        if node == None:                                # checking if head is empty\n",
        "            print('List is empty!')\n",
        "        else:\n",
        "            while node != None:                         # stop loop before node's value is null (means end of list)\n",
        "                print(node.data, '<-->', end = ' ')      # display's node's data\n",
        "                node = node.next                        # update node with it's next value\n",
        "\n",
        "    def back_traverse(self):\n",
        "        node = self.head                                # taking head as current node\n",
        "        if node == None:                                # checking if head is empty\n",
        "            print('List is empty!')\n",
        "        else:\n",
        "            while node.next != None:                    # going forward till end of list\n",
        "                node = node.next                        \n",
        "            while node != None:                         # coming backward till start of list\n",
        "                print(node.data, '<-->', end = ' ') \n",
        "                node = node.prev\n",
        "\n",
        "    def add_empty(self, data):\n",
        "        if self.head == None:                           # if head is empty\n",
        "            new_node = Node(data)                       # create new_node\n",
        "            self.head = new_node                        # point head --> new_node\n",
        "        else:\n",
        "            print('List is not empty!')\n",
        "\n",
        "    def add_begin(self, data):\n",
        "        new_node = Node(data)                           # create new_node\n",
        "        if self.head == None:                           # if list is empty\n",
        "            self.head = new_node                        # make new node as head\n",
        "        else:                                           # if list is not empty\n",
        "            new_node.next = self.head                   # point new_node.next --> head (head contains address of 1st node)\n",
        "            self.head.prev = new_node                   # point head.prev --> new_node\n",
        "            self.head = new_node                        # making new_node as head\n",
        "\n",
        "    def add_end(self, data):\n",
        "        new_node = Node(data)                           # create new_node\n",
        "        if self.head == None:                           # if list is empty, make new node as head\n",
        "            self.head = new_node\n",
        "        else:\n",
        "            node = self.head              \n",
        "            while node.next != None:                    # traverse to end of list (last_node)\n",
        "                node = node.next\n",
        "            node.next = new_node                        # point last_node.next --> new_node\n",
        "            new_node.prev = node                        # point new_node.prev --> last_node\n",
        "\n",
        "    def add_after(self, data, x):                       # add node after x's value\n",
        "        node = self.head                                # taking head as current node \n",
        "        if node == None:\n",
        "            print('List is empty!')\n",
        "        else:      \n",
        "            while node != None:                         # traverse to end of list (last_node)\n",
        "                if node.data == x:                      # if element x has been found\n",
        "                    break\n",
        "                node = node.next                        # keep going to next node till x not found\n",
        "            if node == None:                            # if element x not found\n",
        "                print('Node is not present!')\n",
        "            else:                                       # if element x has been found\n",
        "                new_node = Node(data)                   # create new_node\n",
        "                new_node.next = node.next               # if x found, assign x_node.next --> new_node.next\n",
        "                new_node.prev = node                    # assign x_node --> new_node.prev\n",
        "                if node.next != None:                   # checking condition if it is not the last node\n",
        "                    node.next.prev = new_node           # then assign new_node --> y_node.prev, else ignore\n",
        "                node.next = new_node                    # assign new_node --> x_node.next\n",
        "\n",
        "    def add_before(self, data, x):                      # add node before x's value\n",
        "        node = self.head                                # taking head as current node \n",
        "        if node == None:\n",
        "            print('List is empty!')\n",
        "        else:      \n",
        "            while node != None:                         # traverse to end of list (last_node)\n",
        "                if node.data == x:                      # if element x has been found\n",
        "                    break\n",
        "                node = node.next                        # keep going to next node till x not found\n",
        "            if node == None:                            # if element x not found\n",
        "                print('Node is not present!')\n",
        "            else:                                       # if element x has been found\n",
        "                new_node = Node(data)                   # create new_node\n",
        "                new_node.next = node                    # if x found, assign x_node --> new_node.next\n",
        "                new_node.prev = node.prev\n",
        "                if node.prev != None:                   # checking condition if it is not the first node\n",
        "                    node.prev.next = new_node           # assign new_node --> prev_node's next\n",
        "                else:\n",
        "                    self.head = new_node                # assigning new_node as head node when previous node is not present\n",
        "                node.prev = new_node                    # assign new_node --> x_node's prev\n",
        "\n",
        "    def delete_begin(self):\n",
        "        node = self.head                                # taking head as current node  \n",
        "        if node == None:                                # if list is empty show empty list\n",
        "            print('List is empty so cant delete nodes!')\n",
        "        elif node.next == None:                         # if only 1 node is present in list\n",
        "            self.head = None                            # delete that node\n",
        "            print('Deleted the single node!')\n",
        "        else:                                           # if more than 1 node present\n",
        "            self.head = node.next                       # assign current node's next as head\n",
        "            node.next.prev = None                       # make 2nd node's prev as none\n",
        "\n",
        "    def delete_end(self):\n",
        "        node = self.head                                # taking head as current node  \n",
        "        if node == None:                                # if head is empty show empty list\n",
        "            print('List is empty so cant delete nodes!')\n",
        "        elif node.next == None:                         # if only 1 node is present in list\n",
        "            self.head = None                            # delete that node\n",
        "            print('Deleted the single node!')\n",
        "        else:\n",
        "            while node.next.next != None:               # traverse to second last node and check\n",
        "                node = node.next                        # till last node's next has null\n",
        "            node.next = None                            # point second_last_node.next --> null"
      ],
      "execution_count": null,
      "outputs": []
    },
    {
      "cell_type": "code",
      "metadata": {
        "colab": {
          "base_uri": "https://localhost:8080/"
        },
        "id": "dYXvcG4mxNrT",
        "outputId": "585df72c-b24e-4da9-f4cf-0e212c963e1b"
      },
      "source": [
        "dll = DLinkedList()\n",
        "dll.add_begin('Hrisav')\n",
        "dll.delete_end()\n",
        "dll.front_traverse()"
      ],
      "execution_count": null,
      "outputs": [
        {
          "output_type": "stream",
          "text": [
            "Deleted the single node!\n",
            "List is empty!\n"
          ],
          "name": "stdout"
        }
      ]
    },
    {
      "cell_type": "code",
      "metadata": {
        "colab": {
          "base_uri": "https://localhost:8080/"
        },
        "id": "3snnIyWkxFDX",
        "outputId": "de93679e-339a-4685-ea0e-57a44b682b9a"
      },
      "source": [
        "dll = DLinkedList()\n",
        "dll.add_begin('Hrisav')\n",
        "dll.add_before('Rihel', 'Hrisav')\n",
        "dll.delete_end()\n",
        "dll.front_traverse()\n",
        "print()"
      ],
      "execution_count": null,
      "outputs": [
        {
          "output_type": "stream",
          "text": [
            "Rihel <--> \n"
          ],
          "name": "stdout"
        }
      ]
    },
    {
      "cell_type": "markdown",
      "metadata": {
        "id": "D_DBMhFt88AH"
      },
      "source": [
        "## Deleting by value"
      ]
    },
    {
      "cell_type": "code",
      "metadata": {
        "id": "iehl5yyLxK4D"
      },
      "source": [
        "class Node:\n",
        "    def __init__(self, data):                           # each Node will have data and next\n",
        "        self.data = data\n",
        "        self.next = None\n",
        "        self.prev = None\n",
        "\n",
        "class DLinkedList:\n",
        "    def __init__(self):\n",
        "        self.head = None                                # initially LL is empty\n",
        "\n",
        "    def front_traverse(self):\n",
        "        node = self.head                                # taking head as current node\n",
        "        if node == None:                                # checking if head is empty\n",
        "            print('List is empty!')\n",
        "        else:\n",
        "            while node != None:                         # stop loop before node's value is null (means end of list)\n",
        "                print(node.data, '<-->', end = ' ')      # display's node's data\n",
        "                node = node.next                        # update node with it's next value\n",
        "\n",
        "    def back_traverse(self):\n",
        "        node = self.head                                # taking head as current node\n",
        "        if node == None:                                # checking if head is empty\n",
        "            print('List is empty!')\n",
        "        else:\n",
        "            while node.next != None:                    # going forward till end of list\n",
        "                node = node.next                        \n",
        "            while node != None:                         # coming backward till start of list\n",
        "                print(node.data, '<-->', end = ' ') \n",
        "                node = node.prev\n",
        "\n",
        "    def add_empty(self, data):\n",
        "        if self.head == None:                           # if head is empty\n",
        "            new_node = Node(data)                       # create new_node\n",
        "            self.head = new_node                        # point head --> new_node\n",
        "        else:\n",
        "            print('List is not empty!')\n",
        "\n",
        "    def add_begin(self, data):\n",
        "        new_node = Node(data)                           # create new_node\n",
        "        if self.head == None:                           # if list is empty\n",
        "            self.head = new_node                        # make new node as head\n",
        "        else:                                           # if list is not empty\n",
        "            new_node.next = self.head                   # point new_node.next --> head (head contains address of 1st node)\n",
        "            self.head.prev = new_node                   # point head.prev --> new_node\n",
        "            self.head = new_node                        # making new_node as head\n",
        "\n",
        "    def add_end(self, data):\n",
        "        new_node = Node(data)                           # create new_node\n",
        "        if self.head == None:                           # if list is empty, make new node as head\n",
        "            self.head = new_node\n",
        "        else:\n",
        "            node = self.head              \n",
        "            while node.next != None:                    # traverse to end of list (last_node)\n",
        "                node = node.next\n",
        "            node.next = new_node                        # point last_node.next --> new_node\n",
        "            new_node.prev = node                        # point new_node.prev --> last_node\n",
        "\n",
        "    def add_after(self, data, x):                       # add node after x's value\n",
        "        node = self.head                                # taking head as current node \n",
        "        if node == None:\n",
        "            print('List is empty!')\n",
        "        else:      \n",
        "            while node != None:                         # traverse to end of list (last_node)\n",
        "                if node.data == x:                      # if element x has been found\n",
        "                    break\n",
        "                node = node.next                        # keep going to next node till x not found\n",
        "            if node == None:                            # if element x not found\n",
        "                print('Node is not present!')\n",
        "            else:                                       # if element x has been found\n",
        "                new_node = Node(data)                   # create new_node\n",
        "                new_node.next = node.next               # if x found, assign x_node.next --> new_node.next\n",
        "                new_node.prev = node                    # assign x_node --> new_node.prev\n",
        "                if node.next != None:                   # checking condition if it is not the last node\n",
        "                    node.next.prev = new_node           # then assign new_node --> y_node.prev, else ignore\n",
        "                node.next = new_node                    # assign new_node --> x_node.next\n",
        "\n",
        "    def add_before(self, data, x):                      # add node before x's value\n",
        "        node = self.head                                # taking head as current node \n",
        "        if node == None:\n",
        "            print('List is empty!')\n",
        "        else:      \n",
        "            while node != None:                         # traverse to end of list (last_node)\n",
        "                if node.data == x:                      # if element x has been found\n",
        "                    break\n",
        "                node = node.next                        # keep going to next node till x not found\n",
        "            if node == None:                            # if element x not found\n",
        "                print('Node is not present!')\n",
        "            else:                                       # if element x has been found\n",
        "                new_node = Node(data)                   # create new_node\n",
        "                new_node.next = node                    # if x found, assign x_node --> new_node.next\n",
        "                new_node.prev = node.prev\n",
        "                if node.prev != None:                   # checking condition if it is not the first node\n",
        "                    node.prev.next = new_node           # assign new_node --> prev_node's next\n",
        "                else:\n",
        "                    self.head = new_node                # assigning new_node as head node when previous node is not present\n",
        "                node.prev = new_node                    # assign new_node --> x_node's prev\n",
        "\n",
        "    def delete_begin(self):\n",
        "        node = self.head                                # taking head as current node  \n",
        "        if node == None:                                # if list is empty show empty list\n",
        "            print('List is empty so cant delete nodes!')\n",
        "        elif node.next == None:                         # if only 1 node is present in list\n",
        "            self.head = None                            # delete that node\n",
        "            print('Deleted the single node!')\n",
        "        else:                                           # if more than 1 node present\n",
        "            self.head = node.next                       # assign current node's next as head\n",
        "            node.next.prev = None                       # make 2nd node's prev as none\n",
        "\n",
        "    def delete_end(self):\n",
        "        node = self.head                                # taking head as current node  \n",
        "        if node == None:                                # if head is empty show empty list\n",
        "            print('List is empty so cant delete nodes!')\n",
        "        elif node.next == None:                         # if only 1 node is present in list\n",
        "            self.head = None                            # delete that node\n",
        "            print('Deleted the single node!')\n",
        "        else:\n",
        "            while node.next.next != None:               # traverse to second last node and check\n",
        "                node = node.next                        # till last node's next has null\n",
        "            node.next = None                            # point second_last_node.next --> null\n",
        "\n",
        "    def delete_by_value(self, x):\n",
        "        node = self.head                                # taking head as current node  \n",
        "        if node == None:                                # if head is empty show empty list\n",
        "            print('List is empty so cant delete nodes!')\n",
        "        elif node.next == None:                         # if only 1 element in list\n",
        "            if node.data == x:                          # checking if x is in 1st node\n",
        "                self.head = None                        # removing 1st node\n",
        "            else:\n",
        "                print('Value not present in list!')\n",
        "        elif node.data == x:                            # if x is in 1st node\n",
        "            self.head = node.next                       # make 2nd node as head\n",
        "            self.head.prev = None                       # make 2nd node prev as none\n",
        "        else:\n",
        "            while node.next != None:                    # traverse to second last node and check\n",
        "                if node.data==x:                        # checking if middle nodes has x\n",
        "                    break\n",
        "                node = node.next                        # go to next node\n",
        "            if node.next != None:                       # means x has been found\n",
        "                node.next.prev = node.prev              # assign A node's address to C's prev\n",
        "                node.prev.next = node.next              # assign C node's address to A's next\n",
        "            else:                                       # means node is the last node\n",
        "                if node.data == x:                      # if element in last node\n",
        "                    node.prev.next = None               # assign 2nd last node's next as null\n",
        "                else:                                   # element is not also present in last node\n",
        "                    print('Value not present in list!')"
      ],
      "execution_count": null,
      "outputs": []
    },
    {
      "cell_type": "code",
      "metadata": {
        "colab": {
          "base_uri": "https://localhost:8080/"
        },
        "id": "QzdObf_M7uHR",
        "outputId": "f7243be3-32e5-422a-913f-da42f1bdfc81"
      },
      "source": [
        "dll = DLinkedList()\n",
        "dll.add_begin('Hrisav')\n",
        "dll.delete_by_value('Rihel')\n",
        "dll.front_traverse()"
      ],
      "execution_count": null,
      "outputs": [
        {
          "output_type": "stream",
          "text": [
            "Value not present in list!\n",
            "Hrisav <--> "
          ],
          "name": "stdout"
        }
      ]
    },
    {
      "cell_type": "code",
      "metadata": {
        "colab": {
          "base_uri": "https://localhost:8080/"
        },
        "id": "shW7Bn8f7h8O",
        "outputId": "d9ca72f0-702b-4589-f1a8-87e819b5d7e6"
      },
      "source": [
        "dll = DLinkedList()\n",
        "dll.add_begin('Hrisav')\n",
        "dll.add_before('Rihel', 'Hrisav')\n",
        "dll.delete_by_value('Rihel')\n",
        "dll.front_traverse()"
      ],
      "execution_count": null,
      "outputs": [
        {
          "output_type": "stream",
          "text": [
            "Hrisav <--> "
          ],
          "name": "stdout"
        }
      ]
    },
    {
      "cell_type": "code",
      "metadata": {
        "colab": {
          "base_uri": "https://localhost:8080/"
        },
        "id": "EM5VW4vj72GL",
        "outputId": "9148ed1d-6d76-43d4-c42f-585cda477917"
      },
      "source": [
        "dll = DLinkedList()\n",
        "dll.add_empty('Hrisav')\n",
        "dll.add_begin('Rihel')\n",
        "dll.add_after('Megha', 'Hrisav')\n",
        "dll.add_before('Riddhi', 'Rihel')\n",
        "dll.add_end('Mudita')\n",
        "\n",
        "print('****Showing list:****')\n",
        "dll.front_traverse()\n",
        "print()\n",
        "print()\n",
        "\n",
        "dll.delete_by_value('Hrisav')\n",
        "print('****Showing list after deleting:****')\n",
        "dll.front_traverse()"
      ],
      "execution_count": null,
      "outputs": [
        {
          "output_type": "stream",
          "text": [
            "****Showing list:****\n",
            "Riddhi <--> Rihel <--> Hrisav <--> Megha <--> Mudita <--> \n",
            "\n",
            "****Showing list after deleting:****\n",
            "Riddhi <--> Rihel <--> Megha <--> Mudita <--> "
          ],
          "name": "stdout"
        }
      ]
    }
  ]
}