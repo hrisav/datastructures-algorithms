{
  "nbformat": 4,
  "nbformat_minor": 0,
  "metadata": {
    "colab": {
      "name": "2_Stack.ipynb",
      "provenance": []
    },
    "kernelspec": {
      "name": "python3",
      "display_name": "Python 3"
    },
    "language_info": {
      "name": "python"
    }
  },
  "cells": [
    {
      "cell_type": "code",
      "metadata": {
        "id": "VLuSNa3ADcy5"
      },
      "source": [
        "# convert image links to colab image links\n",
        "\n",
        "def image_linker(link):\n",
        "\n",
        "    new_link = 'https://drive.google.com/uc?id='\n",
        "    new_link = new_link + link.split('/')[-2]\n",
        "    paste_link = '![](' + new_link + ')'\n",
        "    return paste_link"
      ],
      "execution_count": 23,
      "outputs": []
    },
    {
      "cell_type": "code",
      "metadata": {
        "colab": {
          "base_uri": "https://localhost:8080/",
          "height": 36
        },
        "id": "soMHsylWD0e7",
        "outputId": "f03c9f7b-89b1-43af-b6d4-a09e3145965a"
      },
      "source": [
        "image_linker('https://drive.google.com/file/d/1rm4jCVpcmyZJIzHSoNmlrIkBG3NNy9IU/view?usp=sharing')"
      ],
      "execution_count": 24,
      "outputs": [
        {
          "output_type": "execute_result",
          "data": {
            "application/vnd.google.colaboratory.intrinsic+json": {
              "type": "string"
            },
            "text/plain": [
              "'![](https://drive.google.com/uc?id=1rm4jCVpcmyZJIzHSoNmlrIkBG3NNy9IU)'"
            ]
          },
          "metadata": {
            "tags": []
          },
          "execution_count": 24
        }
      ]
    },
    {
      "cell_type": "markdown",
      "metadata": {
        "id": "IdsJlawCIVAP"
      },
      "source": [
        "Works in the principle of LIFO.\n",
        "\n",
        "Operations: Push, Pop, Peek/Top (shows element at top), isEmpty (checks stack is empty or not)"
      ]
    },
    {
      "cell_type": "markdown",
      "metadata": {
        "id": "7GcrFthYS1-o"
      },
      "source": [
        "![](https://drive.google.com/uc?id=1rm4jCVpcmyZJIzHSoNmlrIkBG3NNy9IU)"
      ]
    },
    {
      "cell_type": "markdown",
      "metadata": {
        "id": "ubp42zgLNck3"
      },
      "source": [
        "## LIFO operation"
      ]
    },
    {
      "cell_type": "code",
      "metadata": {
        "colab": {
          "base_uri": "https://localhost:8080/"
        },
        "id": "r9F8nIAiImZC",
        "outputId": "0ecbf9a5-8d0e-4808-d5b7-bc2ab1882971"
      },
      "source": [
        "stack = []\n",
        "\n",
        "stack.append('Hrisav')\n",
        "stack.append('Megha')\n",
        "stack.append('Rihel')\n",
        "\n",
        "print(stack)"
      ],
      "execution_count": 1,
      "outputs": [
        {
          "output_type": "stream",
          "text": [
            "['Hrisav', 'Megha', 'Rihel']\n"
          ],
          "name": "stdout"
        }
      ]
    },
    {
      "cell_type": "code",
      "metadata": {
        "colab": {
          "base_uri": "https://localhost:8080/"
        },
        "id": "9noskBB7JV05",
        "outputId": "c495eee4-0a26-44a5-c182-0bab4dfe16a8"
      },
      "source": [
        "stack.pop()\n",
        "\n",
        "print(stack)"
      ],
      "execution_count": 3,
      "outputs": [
        {
          "output_type": "stream",
          "text": [
            "['Hrisav', 'Megha']\n"
          ],
          "name": "stdout"
        }
      ]
    },
    {
      "cell_type": "code",
      "metadata": {
        "colab": {
          "base_uri": "https://localhost:8080/"
        },
        "id": "CzpLlU12Jg2G",
        "outputId": "bcdb27ec-fc24-4c72-e200-abd961206ca5"
      },
      "source": [
        "stack.pop()\n",
        "\n",
        "print(stack)"
      ],
      "execution_count": 4,
      "outputs": [
        {
          "output_type": "stream",
          "text": [
            "['Hrisav']\n"
          ],
          "name": "stdout"
        }
      ]
    },
    {
      "cell_type": "code",
      "metadata": {
        "colab": {
          "base_uri": "https://localhost:8080/"
        },
        "id": "dW-apU4CJj-x",
        "outputId": "db7ce051-02b5-4218-db68-5b5a0a3c7e0b"
      },
      "source": [
        "stack.pop()\n",
        "\n",
        "print(stack)"
      ],
      "execution_count": 5,
      "outputs": [
        {
          "output_type": "stream",
          "text": [
            "[]\n"
          ],
          "name": "stdout"
        }
      ]
    },
    {
      "cell_type": "markdown",
      "metadata": {
        "id": "8_ISZy0ANh3K"
      },
      "source": [
        "## Stack program"
      ]
    },
    {
      "cell_type": "code",
      "metadata": {
        "colab": {
          "base_uri": "https://localhost:8080/"
        },
        "id": "6AJPMC6oJlwz",
        "outputId": "0b189bf2-f0f7-4920-cde6-8084f09eb015"
      },
      "source": [
        "stack = []\n",
        "\n",
        "def push_element():\n",
        "    if len(stack)>=limit:\n",
        "        print('Stack is full cant add!')\n",
        "        print()\n",
        "    else:\n",
        "        element = input('Enter element to add: ')\n",
        "        print('Adding element: ', element)\n",
        "        stack.append(element)\n",
        "        print(stack)\n",
        "        print()\n",
        "\n",
        "def pop_element():\n",
        "    if len(stack) == 0:\n",
        "        print('No element to remove as Stack is empty!')\n",
        "        print()\n",
        "    else:\n",
        "        rem = stack.pop()\n",
        "        print('Removed element is: ', rem)\n",
        "        print(stack)\n",
        "        print()\n",
        "\n",
        "def view_stack():\n",
        "    print('Top element - ', stack[-1])\n",
        "    print('Number of elements - ', len(stack))\n",
        "    print(stack)\n",
        "    print()\n",
        "\n",
        "print('Enter max limit of stack: ')\n",
        "limit = int(input())\n",
        "\n",
        "while True:\n",
        "    print('Select operation >>> 1. Push 2. Pop 3. Display 4. Quit')\n",
        "    choice = int(input())\n",
        "    if choice == 1:\n",
        "        push_element()\n",
        "    elif choice == 2:\n",
        "        pop_element()\n",
        "    elif choice == 3:\n",
        "        view_stack()\n",
        "    elif choice == 4:\n",
        "        print('Stopping program..')\n",
        "        break\n",
        "    else:\n",
        "        print('Enter correct choice!')"
      ],
      "execution_count": 22,
      "outputs": [
        {
          "output_type": "stream",
          "text": [
            "Enter max limit of stack: \n",
            "3\n",
            "Select operation >>> 1. Push 2. Pop 3. Display 4. Quit\n",
            "1\n",
            "Enter element to add: 20\n",
            "Adding element:  20\n",
            "['20']\n",
            "\n",
            "Select operation >>> 1. Push 2. Pop 3. Display 4. Quit\n",
            "1\n",
            "Enter element to add: 40\n",
            "Adding element:  40\n",
            "['20', '40']\n",
            "\n",
            "Select operation >>> 1. Push 2. Pop 3. Display 4. Quit\n",
            "3\n",
            "Top element -  40\n",
            "Number of elements -  2\n",
            "['20', '40']\n",
            "\n",
            "Select operation >>> 1. Push 2. Pop 3. Display 4. Quit\n",
            "1\n",
            "Enter element to add: 70\n",
            "Adding element:  70\n",
            "['20', '40', '70']\n",
            "\n",
            "Select operation >>> 1. Push 2. Pop 3. Display 4. Quit\n",
            "1\n",
            "Stack is full cant add!\n",
            "\n",
            "Select operation >>> 1. Push 2. Pop 3. Display 4. Quit\n",
            "2\n",
            "Removed element is:  70\n",
            "['20', '40']\n",
            "\n",
            "Select operation >>> 1. Push 2. Pop 3. Display 4. Quit\n",
            "3\n",
            "Top element -  40\n",
            "Number of elements -  2\n",
            "['20', '40']\n",
            "\n",
            "Select operation >>> 1. Push 2. Pop 3. Display 4. Quit\n",
            "4\n",
            "Stopping program..\n"
          ],
          "name": "stdout"
        }
      ]
    }
  ]
}