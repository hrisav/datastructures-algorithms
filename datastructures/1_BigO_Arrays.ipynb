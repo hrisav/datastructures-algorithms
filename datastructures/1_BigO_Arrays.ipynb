{
  "nbformat": 4,
  "nbformat_minor": 0,
  "metadata": {
    "kernelspec": {
      "display_name": "Python 3",
      "language": "python",
      "name": "python3"
    },
    "language_info": {
      "codemirror_mode": {
        "name": "ipython",
        "version": 3
      },
      "file_extension": ".py",
      "mimetype": "text/x-python",
      "name": "python",
      "nbconvert_exporter": "python",
      "pygments_lexer": "ipython3",
      "version": "3.8.2"
    },
    "colab": {
      "name": "1_BigO_Arrays.ipynb",
      "provenance": [],
      "toc_visible": true
    }
  },
  "cells": [
    {
      "cell_type": "markdown",
      "metadata": {
        "id": "-5-kIxHiqHwE"
      },
      "source": [
        "## a) Big O notation"
      ]
    },
    {
      "cell_type": "markdown",
      "metadata": {
        "id": "mePBJiuWqHwL"
      },
      "source": [
        "It is used to measure how running time or space requirements for your program grow as input size grows.\n",
        "\n",
        "Measuring running time growth - Time Complexity\n",
        "\n",
        "Measuring space growth - Space Complexity\n",
        "\n",
        "1 loop -> $n$ iterations -> $O(n)$\n",
        "\n",
        "1 loop, 1 inner loop -> $n^{2}$ iterations -> $O(n^{2})$\n",
        "\n",
        "1 loop, 1 inner loop + 1 loop -> $n^{2}+n$ iterations -> $O(n^{2})$"
      ]
    },
    {
      "cell_type": "markdown",
      "metadata": {
        "id": "dFodNmHKqHwO"
      },
      "source": [
        "## b) Arrays"
      ]
    },
    {
      "cell_type": "markdown",
      "metadata": {
        "id": "yIasrMihqHwO"
      },
      "source": [
        "Arrays store value in contiguous memory location.\n",
        "\n",
        "Array insertion -> $O(n)$"
      ]
    },
    {
      "cell_type": "markdown",
      "metadata": {
        "id": "jmoYy3BQqHwP"
      },
      "source": [
        "### Question 1\n",
        "\n",
        "Let us say your expense for every month are listed below,\n",
        "\n",
        "January - 2200\n",
        "\n",
        "February - 2350\n",
        "\n",
        "March - 2600\n",
        "\n",
        "April - 2130\n",
        "\n",
        "May - 2190\n",
        "\n",
        "Create a list to store these monthly expenses and using that find out,\n",
        "\n",
        "1. In Feb, how many dollars you spent extra compare to January?\n",
        "2. Find out your total expense in first quarter (first three months) of the year.\n",
        "3. Find out if you spent exactly 2000 dollars in any month\n",
        "4. June month just finished and your expense is 1980 dollar. Add this item to our monthly expense list\n",
        "5. You returned an item that you bought in a month of April and\n",
        "got a refund of 200$. Make a correction to your monthly expense list\n",
        "based on this"
      ]
    },
    {
      "cell_type": "code",
      "metadata": {
        "id": "U9UYYQqSqHwQ",
        "outputId": "b8ba0297-fef4-45ce-e244-da2f77923dd4"
      },
      "source": [
        "month_exp = [2200, 2350, 2600, 2130, 2190]\n",
        "\n",
        "#Q1\n",
        "print(month_exp[1]-month_exp[0])\n",
        "\n",
        "#Q2\n",
        "print(month_exp[0] + month_exp[1] + month_exp[2])\n",
        "\n",
        "#Q3\n",
        "for i in month_exp:\n",
        "    if i==2000:\n",
        "        flag=1\n",
        "    else:\n",
        "        flag=0\n",
        "        \n",
        "if(flag==1):\n",
        "    print(\"Yes\")\n",
        "else:\n",
        "    print(\"No\")\n",
        "    \n",
        "#Q4\n",
        "month_exp.append(1980)\n",
        "print(month_exp)\n",
        "\n",
        "#Q5\n",
        "month_exp[3]=month_exp[3]-200\n",
        "print(month_exp)"
      ],
      "execution_count": null,
      "outputs": [
        {
          "output_type": "stream",
          "text": [
            "150\n",
            "7150\n",
            "No\n",
            "[2200, 2350, 2600, 2130, 2190, 1980]\n",
            "[2200, 2350, 2600, 1930, 2190, 1980]\n"
          ],
          "name": "stdout"
        }
      ]
    },
    {
      "cell_type": "markdown",
      "metadata": {
        "id": "Fwsxke7eqHwS"
      },
      "source": [
        "### Question 2\n",
        "\n",
        "You have a list of your favourite marvel super heros.\n",
        "\n",
        "heros=['spider man','thor','hulk','iron man','captain america']\n",
        "\n",
        "Using this find out,\n",
        "\n",
        "1. Length of the list\n",
        "2. Add 'black panther' at the end of this list\n",
        "3. You realize that you need to add 'black panther' after 'hulk',\n",
        "   so remove it from the list first and then add it after 'hulk'\n",
        "4. Now you don't like thor and hulk because they get angry easily :)\n",
        "   So you want to remove thor and hulk from list and replace them with doctor strange (because he is cool).\n",
        "   Do that with one line of code.\n",
        "5. Sort the heros list in alphabetical order (Hint. Use dir() functions to list down all functions available in list)"
      ]
    },
    {
      "cell_type": "code",
      "metadata": {
        "id": "fJARlMrZqHwT",
        "outputId": "4eb66c90-aa1a-420c-a868-7ce473b993e2"
      },
      "source": [
        "heros=['spider man','thor','hulk','iron man','captain america']\n",
        "\n",
        "#Q1\n",
        "print(len(heros))\n",
        "\n",
        "#Q2\n",
        "heros.append(\"black panther\")\n",
        "print(heros)\n",
        "\n",
        "#Q3\n",
        "del heros[-1]\n",
        "print(heros)\n",
        "heros.insert(3, \"black panther\")\n",
        "print(heros)\n",
        "\n",
        "#Q4\n",
        "heros[1:3]= [\"doctor strange\"]\n",
        "print(heros)\n",
        "\n",
        "#Q5\n",
        "#use dir(heros) to list all functions in list heros\n",
        "heros.sort()\n",
        "Qprint(heros)"
      ],
      "execution_count": null,
      "outputs": [
        {
          "output_type": "stream",
          "text": [
            "5\n",
            "['spider man', 'thor', 'hulk', 'iron man', 'captain america', 'black panther']\n",
            "['spider man', 'thor', 'hulk', 'iron man', 'captain america']\n",
            "['spider man', 'thor', 'hulk', 'black panther', 'iron man', 'captain america']\n",
            "['spider man', 'doctor strange', 'black panther', 'iron man', 'captain america']\n",
            "['black panther', 'captain america', 'doctor strange', 'iron man', 'spider man']\n"
          ],
          "name": "stdout"
        }
      ]
    },
    {
      "cell_type": "markdown",
      "metadata": {
        "id": "OekVRtr2qHwU"
      },
      "source": [
        "### Question 3\n",
        "\n",
        "Create a list of all odd numbers between 1 and a max number. Max number is something you need to take from a user using input() function"
      ]
    },
    {
      "cell_type": "code",
      "metadata": {
        "id": "TvDFmXgOqHwV",
        "outputId": "60842b28-6b11-431f-c4f3-379ccd2e93f8"
      },
      "source": [
        "odd_nums = []\n",
        "max_num = int(input(\"Enter last number: \"))\n",
        "i = 0\n",
        "\n",
        "for i in range(0, max_num):\n",
        "    if(i%2 != 0):\n",
        "        odd_nums.append(i)\n",
        "\n",
        "print(odd_nums)"
      ],
      "execution_count": null,
      "outputs": [
        {
          "output_type": "stream",
          "text": [
            "Enter last number: 7\n",
            "[1, 3, 5]\n"
          ],
          "name": "stdout"
        }
      ]
    }
  ]
}