{
  "nbformat": 4,
  "nbformat_minor": 0,
  "metadata": {
    "kernelspec": {
      "display_name": "Python 3",
      "language": "python",
      "name": "python3"
    },
    "language_info": {
      "codemirror_mode": {
        "name": "ipython",
        "version": 3
      },
      "file_extension": ".py",
      "mimetype": "text/x-python",
      "name": "python",
      "nbconvert_exporter": "python",
      "pygments_lexer": "ipython3",
      "version": "3.8.2"
    },
    "colab": {
      "name": "2_Singly_Linked_Lists.ipynb",
      "provenance": [],
      "collapsed_sections": [],
      "toc_visible": true
    }
  },
  "cells": [
    {
      "cell_type": "code",
      "metadata": {
        "id": "VLuSNa3ADcy5"
      },
      "source": [
        "# convert image links to colab image links\n",
        "\n",
        "def image_linker(link):\n",
        "\n",
        "    new_link = 'https://drive.google.com/uc?id='\n",
        "    new_link = new_link + link.split('/')[-2]\n",
        "    paste_link = '![](' + new_link + ')'\n",
        "    return paste_link"
      ],
      "execution_count": null,
      "outputs": []
    },
    {
      "cell_type": "code",
      "metadata": {
        "colab": {
          "base_uri": "https://localhost:8080/",
          "height": 36
        },
        "id": "soMHsylWD0e7",
        "outputId": "64e2b91c-7b68-4137-8db2-7ce4e7e0695c"
      },
      "source": [
        "image_linker('https://drive.google.com/file/d/1W56fqgB3D9ZFH8BKsv0Zgrti8zZ86ltI/view?usp=sharing')"
      ],
      "execution_count": null,
      "outputs": [
        {
          "output_type": "execute_result",
          "data": {
            "application/vnd.google.colaboratory.intrinsic+json": {
              "type": "string"
            },
            "text/plain": [
              "'![](https://drive.google.com/uc?id=1W56fqgB3D9ZFH8BKsv0Zgrti8zZ86ltI)'"
            ]
          },
          "metadata": {
            "tags": []
          },
          "execution_count": 16
        }
      ]
    },
    {
      "cell_type": "markdown",
      "metadata": {
        "id": "bYNNAYDKqHwW"
      },
      "source": [
        "## Linked List"
      ]
    },
    {
      "cell_type": "markdown",
      "metadata": {
        "id": "oCxwpJipqHwW"
      },
      "source": [
        "Stores values at random memory locations, but linked by pointers. No need to pre allocate space.\n",
        "\n",
        "Insert element in beginning -> $O(1)$\n",
        "\n",
        "Delete element in beginning -> $O(1)$\n",
        "\n",
        "Insert/Delete element at the end -> $O(n)$\n",
        "\n",
        "Linked List Traversal -> $O(n)$\n",
        "\n",
        "Accessing element by Value -> $O(n)$\n"
      ]
    },
    {
      "cell_type": "markdown",
      "metadata": {
        "id": "uX9mYNKEqHwX"
      },
      "source": [
        "### Single Linked List\n",
        "\n",
        "Singly linked list allows traversal elements only in one way. Singly linked list are generally used for implementation of stacks. Complexity of insertion and deletion at a known position is O(n)."
      ]
    },
    {
      "cell_type": "markdown",
      "metadata": {
        "id": "ny3XxuOUMp8h"
      },
      "source": [
        "![](https://drive.google.com/uc?id=1k8HLjmjAEYhJJ3Jr1-G6shvrnlYAZR7U)"
      ]
    },
    {
      "cell_type": "markdown",
      "metadata": {
        "id": "Qj1RrYpoMxjj"
      },
      "source": [
        "![](https://drive.google.com/uc?id=1jtT7K5zn90MLp3MU2u62_d94HiLFv4vN)"
      ]
    },
    {
      "cell_type": "markdown",
      "metadata": {
        "id": "OrCVerCVM2Sa"
      },
      "source": [
        "![](https://drive.google.com/uc?id=1gNXD8Y1NO38eJT1oGfSV3g-rQY85cif4)"
      ]
    },
    {
      "cell_type": "markdown",
      "metadata": {
        "id": "ahYLDWaHNXJS"
      },
      "source": [
        "![](https://drive.google.com/uc?id=13D84IpUtfBU-wp2F20b-YaduFafdrms4)"
      ]
    },
    {
      "cell_type": "code",
      "metadata": {
        "id": "w6DIbCRCqHwZ"
      },
      "source": [
        ""
      ],
      "execution_count": null,
      "outputs": []
    },
    {
      "cell_type": "markdown",
      "metadata": {
        "id": "8ZHHToP7qHwa"
      },
      "source": [
        "### Double Linked List\n",
        "\n",
        "Doubly linked list allows element two way traversal. It can be used to implement stacks as well as heaps and binary trees. Complexity of insertion and deletion at a known position is O(1)."
      ]
    },
    {
      "cell_type": "markdown",
      "metadata": {
        "id": "ibsl0XtLNedB"
      },
      "source": [
        "![](https://drive.google.com/uc?id=1W56fqgB3D9ZFH8BKsv0Zgrti8zZ86ltI)"
      ]
    },
    {
      "cell_type": "code",
      "metadata": {
        "id": "Xc4q6jswqHwb"
      },
      "source": [
        "# Node - individual element in Linked List. It has 2 class members - data and next (pointer to next element).\n",
        "# LinkedList - It has head variable which points to the head of linked list.\n",
        "\n",
        "# STEPS :\n",
        "# create nodes\n",
        "# create linked list\n",
        "# add nodes to linked list\n",
        "# print linked list"
      ],
      "execution_count": null,
      "outputs": []
    },
    {
      "cell_type": "code",
      "metadata": {
        "id": "WEKUzmLuqHwb",
        "outputId": "61b470f7-ab81-4752-c4fd-509936d0c539"
      },
      "source": [
        "#implementing Singly LL\n",
        "\n",
        "class Node:\n",
        "    def __init__(self,data):\n",
        "        self.data = data\n",
        "        self.next = None                          #node has a data and next (which is intially empty)\n",
        "\n",
        "class LinkedList:\n",
        "    def __init__(self):\n",
        "        self.head = None                          #intially head of LL points to none as the list is empty\n",
        "        \n",
        "    def listLength(self):\n",
        "        currentNode = self.head\n",
        "        length = 0\n",
        "        while currentNode is not None:\n",
        "            length += 1\n",
        "            currentNode = currentNode.next\n",
        "        return length\n",
        "    \n",
        "    def insertHead(self,newNode):\n",
        "                                                  #newnode has data as Arijit and next as None\n",
        "                                                  #self.head = newNode\n",
        "                                                  #we cant do this as we will lose connection to LL by changing head node\n",
        "        temporaryNode = self.head                 #store current head node in temporary node\n",
        "        self.head = newNode                       #make new node as head node\n",
        "        self.head.next = temporaryNode            #make next of new node to temporary node\n",
        "        del temporaryNode                         #as connection is completed we dont need the temporary node anymore\n",
        "        \n",
        "    def insertAt(self,newNode,position):\n",
        "                                                  # newnode => 15 -> None || position => 1\n",
        "        if position < 0 or position > self.listLength():\n",
        "            print(\"Invalid Position\")\n",
        "            return\n",
        "        if position == 0:\n",
        "            self.insertHead(newNode)\n",
        "            return\n",
        "        currentNode = self.head                   #currentNode starts from head node\n",
        "        currentPosition = 0\n",
        "        while True:\n",
        "            if currentPosition == position:       #tallying position with the position passed on\n",
        "                                                  #inserting newnode at the current position\n",
        "                previousNode.next = newNode       #next of previousNode will point to newNode\n",
        "                newNode.next = currentNode        #next of newNode will point to currentNode (at asked position)\n",
        "                                                  #finally new node at asked position and earlier node at next position\n",
        "                break\n",
        "            previousNode = currentNode            #storing details of previous node so that it doesnt get removed inside if\n",
        "            currentNode = currentNode.next        #advancing to next node if equality doesnt work\n",
        "            currentPosition += 1                  #advancing position\n",
        "        \n",
        "    def insertEnd(self,newNode):                  #will take the new node we are trying to insert\n",
        "                                                  # head => Hrisav -> None\n",
        "        if self.head is None:\n",
        "            self.head = newNode                   #if head of LL is empty, make the new node head node\n",
        "        else:                                     #if head of LL not empty, advance to last node of LL\n",
        "                                                  # head => Hrisav -> Akash -> None\n",
        "            lastNode = self.head                  #newly made lastnode starts from the first node\n",
        "            while True:                           #traverse through the loop to find last node (ie, whose next is None)\n",
        "                if lastNode.next is None:         #lastnode is identified by lastnode.next having none\n",
        "                    break                         #when the last node is found\n",
        "                lastNode = lastNode.next          #advancing lastnode to next node\n",
        "            lastNode.next = newNode               #break connection of lastnode.next as none and assign newnode\n",
        "            \n",
        "    def printlist(self):\n",
        "                                                  # head => Hrisav -> Akash -> Basab -> None\n",
        "        if self.head is None:\n",
        "            print(\"List is empty!\")\n",
        "            return\n",
        "        currentNode = self.head                   #current node intially points to head node\n",
        "        while True:\n",
        "            if currentNode is None:\n",
        "                break                             #when last node contains none then stop printing\n",
        "            print(currentNode.data)               #start with head node and print its data part and so on\n",
        "            currentNode = currentNode.next\n",
        "            \n",
        "                                                  #node => data, next\n",
        "firstNode = Node(\"Hrisav\")                        #creating 1st object for Node, first node has only data part\n",
        "                                                  # firstNode.data -> Hrisav, firstNode.next -> None\n",
        "linkedList = LinkedList()                         #new list, it is initially empty\n",
        "linkedList.insertEnd(firstNode)                   #inserting the 1st node to LL\n",
        "\n",
        "secondNode = Node(\"Akash\")\n",
        "linkedList.insertEnd(secondNode)\n",
        "\n",
        "thirdNode = Node(\"Basab\")\n",
        "linkedList.insertEnd(thirdNode)\n",
        "\n",
        "print(\"INITIAL LIST : \")\n",
        "linkedList.printlist()\n",
        "print(\"\")\n",
        "\n",
        "fourthNode = Node(\"Arijit\")\n",
        "linkedList.insertHead(fourthNode)\n",
        "\n",
        "print(\"INSERTION AT FIRST : \")\n",
        "linkedList.printlist()\n",
        "print(\"\")\n",
        "\n",
        "fifthNode = Node(\"Subhajit\")\n",
        "linkedList.insertAt(fifthNode, 1)                 #insert the node after head node (which is position 0), ie, at position 1\n",
        "\n",
        "print(\"INSERTION AT A POSITION : \")\n",
        "linkedList.printlist()"
      ],
      "execution_count": null,
      "outputs": [
        {
          "output_type": "stream",
          "text": [
            "INITIAL LIST : \n",
            "Hrisav\n",
            "Akash\n",
            "Basab\n",
            "\n",
            "INSERTION AT FIRST : \n",
            "Arijit\n",
            "Hrisav\n",
            "Akash\n",
            "Basab\n",
            "\n",
            "INSERTION AT A POSITION : \n",
            "Arijit\n",
            "Subhajit\n",
            "Hrisav\n",
            "Akash\n",
            "Basab\n"
          ],
          "name": "stdout"
        }
      ]
    },
    {
      "cell_type": "code",
      "metadata": {
        "id": "RiATcUTqqHwj"
      },
      "source": [
        ""
      ],
      "execution_count": null,
      "outputs": []
    },
    {
      "cell_type": "code",
      "metadata": {
        "id": "yTXg9aKbd9BY"
      },
      "source": [
        ""
      ],
      "execution_count": null,
      "outputs": []
    },
    {
      "cell_type": "code",
      "metadata": {
        "id": "GDU9W3jid9Ds"
      },
      "source": [
        ""
      ],
      "execution_count": null,
      "outputs": []
    },
    {
      "cell_type": "markdown",
      "metadata": {
        "id": "D6DK2xucd9QQ"
      },
      "source": [
        "**Inserting at beginning**\n",
        "\n",
        "1) Create new_node\n",
        "\n",
        "2) Point new_node.next --> head (head is same as existing 1st node)\n",
        "\n",
        "3) Point head --> new_node\n",
        "\n",
        "**Inserting at end**\n",
        "\n",
        "1) Create new_node\n",
        "\n",
        "2) Go to last_node\n",
        "\n",
        "3) Point last_node.next --> new_node\n",
        "\n",
        "**Inserting in between**\n",
        "\n",
        "Structure will be: *x_node, new_node, y_node*\n",
        "\n",
        "1) Create new_node\n",
        "\n",
        "2) Go to x_node, just before required position of new_node\n",
        "\n",
        "3) Point x_node.next --> new_node\n",
        "\n",
        "4) Point new_node.next --> y_node"
      ]
    },
    {
      "cell_type": "markdown",
      "metadata": {
        "id": "obdCSuYfiQNF"
      },
      "source": [
        "**Deleting at beginning**\n",
        "\n",
        "1) Point head --> second_node\n",
        "\n",
        "**Deleting at end**\n",
        "\n",
        "1) Point second_last_node.next --> None\n",
        "\n",
        "**Deleting in between**\n",
        "\n",
        "Structure will be: *x_node, removed_node, y_node*\n",
        "\n",
        "1) Point x_node.next --> y_node"
      ]
    },
    {
      "cell_type": "markdown",
      "metadata": {
        "id": "KhXA2nQnj-mW"
      },
      "source": [
        "**Traversal**\n",
        "\n",
        "1) Start with head. If head != null, access its info.\n",
        "\n",
        "2) Go to next node, access its info.\n",
        "\n",
        "3) Keep doing till you reach the end."
      ]
    },
    {
      "cell_type": "markdown",
      "metadata": {
        "id": "hmMUZna9M845"
      },
      "source": [
        "# Addition"
      ]
    },
    {
      "cell_type": "markdown",
      "metadata": {
        "id": "tvmmEjgmKfSj"
      },
      "source": [
        "## Display List"
      ]
    },
    {
      "cell_type": "code",
      "metadata": {
        "id": "Wj_Fg7DpjwVO"
      },
      "source": [
        "class Node:\n",
        "    def __init__(self, data):                           # each Node will have data and next\n",
        "        self.data = data\n",
        "        self.next = None\n",
        "\n",
        "class LinkedList:\n",
        "    def __init__(self):\n",
        "        self.head = None                                # this is the head of LL\n",
        "\n",
        "    def display(self):\n",
        "        node = self.head                                # taking head as current node\n",
        "        if node == None:                                # checking if head is empty\n",
        "            print('List is empty!')\n",
        "        else:\n",
        "            while node != None:                         # stop loop before node's value is null (means end of list)\n",
        "                print(node.data, '-->', end = ' ')      # display's node's data\n",
        "                node = node.next                        # update node with it's next value"
      ],
      "execution_count": null,
      "outputs": []
    },
    {
      "cell_type": "code",
      "metadata": {
        "colab": {
          "base_uri": "https://localhost:8080/"
        },
        "id": "vfWjDFr2ugJ-",
        "outputId": "92e249d8-b3c9-4a44-e4be-7c1ffc7977b8"
      },
      "source": [
        "ob = Node(10)\n",
        "ob.data"
      ],
      "execution_count": null,
      "outputs": [
        {
          "output_type": "execute_result",
          "data": {
            "text/plain": [
              "10"
            ]
          },
          "metadata": {
            "tags": []
          },
          "execution_count": 28
        }
      ]
    },
    {
      "cell_type": "code",
      "metadata": {
        "colab": {
          "base_uri": "https://localhost:8080/"
        },
        "id": "iEd_oE4Y21E4",
        "outputId": "b26b053a-029c-498e-a965-077c6ddabfc5"
      },
      "source": [
        "ll = LinkedList()\n",
        "ll.display()"
      ],
      "execution_count": null,
      "outputs": [
        {
          "output_type": "stream",
          "text": [
            "List is empty!\n"
          ],
          "name": "stdout"
        }
      ]
    },
    {
      "cell_type": "markdown",
      "metadata": {
        "id": "uTMmG9CFLBmj"
      },
      "source": [
        "## Add in empty list"
      ]
    },
    {
      "cell_type": "code",
      "metadata": {
        "id": "2GOozw1aQfYV"
      },
      "source": [
        "class Node:\n",
        "    def __init__(self, data):                           # each Node will have data and next\n",
        "        self.data = data\n",
        "        self.next = None\n",
        "\n",
        "class LinkedList:\n",
        "    def __init__(self):\n",
        "        self.head = None                                # this is the head of LL\n",
        "\n",
        "    def display(self):\n",
        "        node = self.head                                # taking head as current node\n",
        "        if node == None:                                # checking if head is empty\n",
        "            print('List is empty!')\n",
        "        else:\n",
        "            while node != None:                         # stop loop before node's value is null (means end of list)\n",
        "                print(node.data, '-->', end = ' ')      # display's node's data\n",
        "                node = node.next                        # update node with it's next value\n",
        "\n",
        "    def add_empty(self, data):\n",
        "        if self.head == None:                           # if head is empty\n",
        "            new_node = Node(data)                       # create new_node\n",
        "            self.head = new_node                        # point head --> new_node\n",
        "        else:\n",
        "            print('List is not empty!')"
      ],
      "execution_count": 11,
      "outputs": []
    },
    {
      "cell_type": "code",
      "metadata": {
        "colab": {
          "base_uri": "https://localhost:8080/"
        },
        "id": "Hv7DBolSQ3XH",
        "outputId": "2e285ede-f502-4c05-c280-b7320da10c50"
      },
      "source": [
        "ll = LinkedList()\n",
        "ll.add_empty(input('Enter name: '))\n",
        "ll.display()"
      ],
      "execution_count": 13,
      "outputs": [
        {
          "output_type": "stream",
          "text": [
            "Enter name: Hrisav\n",
            "Hrisav --> "
          ],
          "name": "stdout"
        }
      ]
    },
    {
      "cell_type": "code",
      "metadata": {
        "colab": {
          "base_uri": "https://localhost:8080/"
        },
        "id": "FyD--RDfQ-Jw",
        "outputId": "76a09d97-4772-4441-8fac-ff10a24319f1"
      },
      "source": [
        "ll = LinkedList()\n",
        "ll.add_empty('Hrisav')\n",
        "ll.add_empty('Rihel')"
      ],
      "execution_count": 14,
      "outputs": [
        {
          "output_type": "stream",
          "text": [
            "List is not empty!\n"
          ],
          "name": "stdout"
        }
      ]
    },
    {
      "cell_type": "markdown",
      "metadata": {
        "id": "v4JlF1kpKpVC"
      },
      "source": [
        "## Add at beginning"
      ]
    },
    {
      "cell_type": "code",
      "metadata": {
        "id": "0nTswPol2Ibq"
      },
      "source": [
        "class Node:\n",
        "    def __init__(self, data):                           # each Node will have data and next\n",
        "        self.data = data\n",
        "        self.next = None\n",
        "\n",
        "class LinkedList:\n",
        "    def __init__(self):\n",
        "        self.head = None                                # this is the head of LL\n",
        "\n",
        "    def display(self):\n",
        "        node = self.head                                # taking head as current node\n",
        "        if node == None:                                # checking if head is empty\n",
        "            print('List is empty!')\n",
        "        else:\n",
        "            while node != None:                         # stop loop before node's value is null (means end of list)\n",
        "                print(node.data, '-->', end = ' ')      # display's node's data\n",
        "                node = node.next                        # update node with it's next value\n",
        "\n",
        "    def add_empty(self, data):\n",
        "        if self.head == None:                           # if head is empty\n",
        "            new_node = Node(data)                       # create new_node\n",
        "            self.head = new_node                        # point head --> new_node\n",
        "        else:\n",
        "            print('List is not empty!')\n",
        "\n",
        "    def add_begin(self, data):\n",
        "        new_node = Node(data)                           # create new_node\n",
        "        new_node.next = self.head                       # point new_node.next --> head\n",
        "        self.head = new_node                            # point head --> new_node"
      ],
      "execution_count": 15,
      "outputs": []
    },
    {
      "cell_type": "code",
      "metadata": {
        "colab": {
          "base_uri": "https://localhost:8080/"
        },
        "id": "XeE3bNmC58By",
        "outputId": "43e6e5e4-3ffc-4e78-9956-a522e9c24acb"
      },
      "source": [
        "ll = LinkedList()\n",
        "ll.add_begin('Rihel')\n",
        "ll.display()"
      ],
      "execution_count": 16,
      "outputs": [
        {
          "output_type": "stream",
          "text": [
            "Rihel --> "
          ],
          "name": "stdout"
        }
      ]
    },
    {
      "cell_type": "code",
      "metadata": {
        "id": "CD5Z0qiu6Fvk"
      },
      "source": [
        "ll.add_begin('Hrisav')"
      ],
      "execution_count": 17,
      "outputs": []
    },
    {
      "cell_type": "code",
      "metadata": {
        "colab": {
          "base_uri": "https://localhost:8080/"
        },
        "id": "7dT16XEP6fF0",
        "outputId": "21485924-92cb-459b-efab-b7ff79abfd1f"
      },
      "source": [
        "ll.display()"
      ],
      "execution_count": 18,
      "outputs": [
        {
          "output_type": "stream",
          "text": [
            "Hrisav --> Rihel --> "
          ],
          "name": "stdout"
        }
      ]
    },
    {
      "cell_type": "markdown",
      "metadata": {
        "id": "MtFdXUnaKyMy"
      },
      "source": [
        "## Add at end"
      ]
    },
    {
      "cell_type": "code",
      "metadata": {
        "id": "iwWnvwF763FR"
      },
      "source": [
        "class Node:\n",
        "    def __init__(self, data):                           # each Node will have data and next\n",
        "        self.data = data\n",
        "        self.next = None\n",
        "\n",
        "class LinkedList:\n",
        "    def __init__(self):\n",
        "        self.head = None                                # this is the head of LL\n",
        "\n",
        "    def display(self):\n",
        "        node = self.head                                # taking head as current node\n",
        "        if node == None:                                # checking if head is empty\n",
        "            print('List is empty!')\n",
        "        else:\n",
        "            while node != None:                         # stop loop before node's value is null (means end of list)\n",
        "                print(node.data, '-->', end = ' ')      # display's node's data\n",
        "                node = node.next                        # update node with it's next value\n",
        "\n",
        "    def add_empty(self, data):\n",
        "        if self.head == None:                           # if head is empty\n",
        "            new_node = Node(data)                       # create new_node\n",
        "            self.head = new_node                        # point head --> new_node\n",
        "        else:\n",
        "            print('List is not empty!')\n",
        "\n",
        "    def add_begin(self, data):\n",
        "        new_node = Node(data)                           # create new_node\n",
        "        new_node.next = self.head                       # point new_node.next --> head\n",
        "        self.head = new_node                            # point head --> new_node\n",
        "\n",
        "    def add_end(self, data):\n",
        "        new_node = Node(data)                           # create new_node\n",
        "        if self.head == None:                           # if list is empty, make new node as head\n",
        "            self.head = new_node\n",
        "        else:\n",
        "            node = self.head              \n",
        "            while node.next != None:                    # traverse to end of list (last_node)\n",
        "                node = node.next\n",
        "            node.next = new_node                        # point last_node.next --> new_node"
      ],
      "execution_count": 19,
      "outputs": []
    },
    {
      "cell_type": "code",
      "metadata": {
        "colab": {
          "base_uri": "https://localhost:8080/"
        },
        "id": "nkFIaFD-AFWW",
        "outputId": "6c42055a-12ac-4672-ab38-6af9905bccac"
      },
      "source": [
        "ll = LinkedList()\n",
        "ll.add_begin('Hrisav')\n",
        "ll.add_begin('Rihel')\n",
        "print('****Showing list:****')\n",
        "ll.display()\n",
        "print()\n",
        "print()\n",
        "\n",
        "ll.add_end('Megha')\n",
        "print('****Showing list after adding at end:****')\n",
        "ll.display()\n",
        "print()\n",
        "print()\n",
        "\n",
        "ll.add_begin('Riddhi')\n",
        "print('****Showing list after adding at front:****')\n",
        "ll.display()"
      ],
      "execution_count": 20,
      "outputs": [
        {
          "output_type": "stream",
          "text": [
            "****Showing list:****\n",
            "Rihel --> Hrisav --> \n",
            "\n",
            "****Showing list after adding at end:****\n",
            "Rihel --> Hrisav --> Megha --> \n",
            "\n",
            "****Showing list after adding at front:****\n",
            "Riddhi --> Rihel --> Hrisav --> Megha --> "
          ],
          "name": "stdout"
        }
      ]
    },
    {
      "cell_type": "markdown",
      "metadata": {
        "id": "Vqq6ASDFK2ah"
      },
      "source": [
        "## Add after a node"
      ]
    },
    {
      "cell_type": "code",
      "metadata": {
        "id": "cLlW9bBgFXbv"
      },
      "source": [
        "class Node:\n",
        "    def __init__(self, data):                           # each Node will have data and next\n",
        "        self.data = data\n",
        "        self.next = None\n",
        "\n",
        "class LinkedList:\n",
        "    def __init__(self):\n",
        "        self.head = None                                # this is the head of LL\n",
        "\n",
        "    def display(self):\n",
        "        node = self.head                                # taking head as current node\n",
        "        if node == None:                                # checking if head is empty\n",
        "            print('List is empty!')\n",
        "        else:\n",
        "            while node != None:                         # stop loop before node's value is null (means end of list)\n",
        "                print(node.data, '-->', end = ' ')      # display's node's data\n",
        "                node = node.next                        # update node with it's next value\n",
        "\n",
        "    def add_empty(self, data):\n",
        "        if self.head == None:                           # if head is empty\n",
        "            new_node = Node(data)                       # create new_node\n",
        "            self.head = new_node                        # point head --> new_node\n",
        "        else:\n",
        "            print('List is not empty!')\n",
        "\n",
        "    def add_begin(self, data):\n",
        "        new_node = Node(data)                           # create new_node\n",
        "        new_node.next = self.head                       # point new_node.next --> head\n",
        "        self.head = new_node                            # point head --> new_node\n",
        "\n",
        "    def add_end(self, data):\n",
        "        new_node = Node(data)                           # create new_node\n",
        "        if self.head == None:                           # if list is empty, make new node as head\n",
        "            self.head = new_node\n",
        "        else:\n",
        "            node = self.head              \n",
        "            while node.next != None:                    # traverse to end of list (last_node)\n",
        "                node = node.next\n",
        "            node.next = new_node                        # point last_node.next --> new_node\n",
        "\n",
        "    def add_after(self, data, x):                       # add node after x's value\n",
        "        node = self.head                                # taking head as current node       \n",
        "        while node != None:                             # traverse to end of list (last_node)\n",
        "            if node.data == x:                          # if element x has been found\n",
        "                break\n",
        "            node = node.next\n",
        "        if node == None:                                # if element x not found\n",
        "            print('Node is not present!')\n",
        "        else:\n",
        "            new_node = Node(data)                       # create new_node\n",
        "            new_node.next = node.next                   # if x found, assign x_node.next --> new_node.next\n",
        "            node.next = new_node                        # assign new_node --> x_node.next"
      ],
      "execution_count": 21,
      "outputs": []
    },
    {
      "cell_type": "code",
      "metadata": {
        "colab": {
          "base_uri": "https://localhost:8080/"
        },
        "id": "BMByuImjDjrV",
        "outputId": "f6ce4ca9-fd0b-4785-ac92-97bccbfef9dd"
      },
      "source": [
        "ll = LinkedList()\n",
        "ll.add_begin('Hrisav')\n",
        "ll.add_begin('Rihel')\n",
        "print('****Showing list:****')\n",
        "ll.display()\n",
        "print()\n",
        "print()\n",
        "\n",
        "ll.add_end('Megha')\n",
        "print('****Showing list after adding at end:****')\n",
        "ll.display()\n",
        "print()\n",
        "print()\n",
        "\n",
        "ll.add_begin('Riddhi')\n",
        "print('****Showing list after adding at front:****')\n",
        "ll.display()\n",
        "print()\n",
        "print()\n",
        "\n",
        "ll.add_after('Mudita', 'Rihel')\n",
        "print('****Showing list after adding after Rihel:****')\n",
        "ll.display()"
      ],
      "execution_count": 22,
      "outputs": [
        {
          "output_type": "stream",
          "text": [
            "****Showing list:****\n",
            "Rihel --> Hrisav --> \n",
            "\n",
            "****Showing list after adding at end:****\n",
            "Rihel --> Hrisav --> Megha --> \n",
            "\n",
            "****Showing list after adding at front:****\n",
            "Riddhi --> Rihel --> Hrisav --> Megha --> \n",
            "\n",
            "****Showing list after adding after Rihel:****\n",
            "Riddhi --> Rihel --> Mudita --> Hrisav --> Megha --> "
          ],
          "name": "stdout"
        }
      ]
    },
    {
      "cell_type": "markdown",
      "metadata": {
        "id": "StuG-8QdK60J"
      },
      "source": [
        "## Add before a node"
      ]
    },
    {
      "cell_type": "code",
      "metadata": {
        "id": "A2JS1y24GO9K"
      },
      "source": [
        "class Node:\n",
        "    def __init__(self, data):                           # each Node will have data and next\n",
        "        self.data = data\n",
        "        self.next = None\n",
        "\n",
        "class LinkedList:\n",
        "    def __init__(self):\n",
        "        self.head = None                                # this is the head of LL\n",
        "\n",
        "    def display(self):\n",
        "        node = self.head                                # taking head as current node\n",
        "        if node == None:                                # checking if head is empty\n",
        "            print('List is empty!')\n",
        "        else:\n",
        "            while node != None:                         # stop loop before node's value is null (means end of list)\n",
        "                print(node.data, '-->', end = ' ')      # display's node's data\n",
        "                node = node.next                        # update node with it's next value\n",
        "\n",
        "    def add_empty(self, data):\n",
        "        if self.head == None:                           # if head is empty\n",
        "            new_node = Node(data)                       # create new_node\n",
        "            self.head = new_node                        # point head --> new_node\n",
        "        else:\n",
        "            print('List is not empty!')\n",
        "\n",
        "    def add_begin(self, data):\n",
        "        new_node = Node(data)                           # create new_node\n",
        "        new_node.next = self.head                       # point new_node.next --> head\n",
        "        self.head = new_node                            # point head --> new_node\n",
        "\n",
        "    def add_end(self, data):\n",
        "        new_node = Node(data)                           # create new_node\n",
        "        if self.head == None:                           # if list is empty, make new node as head\n",
        "            self.head = new_node\n",
        "        else:\n",
        "            node = self.head              \n",
        "            while node.next != None:                    # traverse to end of list (last_node)\n",
        "                node = node.next\n",
        "            node.next = new_node                        # point last_node.next --> new_node\n",
        "\n",
        "    def add_after(self, data, x):                       # add node after x's value\n",
        "        node = self.head                                # taking head as current node       \n",
        "        while node != None:                             # traverse to end of list (last_node)\n",
        "            if node.data == x:                          # if element x has been found\n",
        "                break\n",
        "            node = node.next\n",
        "        if node == None:                                # if element x not found\n",
        "            print('Node is not present!')\n",
        "        else:\n",
        "            new_node = Node(data)                       # create new_node\n",
        "            new_node.next = node.next                   # if x found, assign x_node.next --> new_node.next\n",
        "            node.next = new_node                        # assign new_node --> x_node.next\n",
        "\n",
        "    def add_before(self, data, x):                      # add node before x's value\n",
        "        node = self.head                                # taking head as current node  \n",
        "        if node == None:                                # if head is empty show empty list\n",
        "          print('List is empty!')\n",
        "        else:                                           # if head is non empty\n",
        "            if node.data == x:                          # if x is present in 1st node itself\n",
        "                new_node = Node(data)                   # create new_node\n",
        "                new_node.next = self.head               # point new_node.next --> head\n",
        "                self.head = new_node                    # point head --> new_node\n",
        "            else:\n",
        "                while node.next != None:\n",
        "                    if node.next.data == x:\n",
        "                        break\n",
        "                    node = node.next\n",
        "                if node == None:                        # if element x not found\n",
        "                    print('Node is not present!')\n",
        "                else:\n",
        "                    new_node = Node(data)               # create new_node\n",
        "                    new_node.next = node.next           # if x found, assign x_node.next --> new_node.next\n",
        "                    node.next = new_node                # assign new_node --> x_node.next"
      ],
      "execution_count": 23,
      "outputs": []
    },
    {
      "cell_type": "code",
      "metadata": {
        "colab": {
          "base_uri": "https://localhost:8080/"
        },
        "id": "SK1T-gm9N4XN",
        "outputId": "038f7ff4-1e24-4c74-f65d-df50b23ae626"
      },
      "source": [
        "ll = LinkedList()\n",
        "ll.add_before('Ranish', 'Hrisav')\n",
        "ll.display()"
      ],
      "execution_count": 24,
      "outputs": [
        {
          "output_type": "stream",
          "text": [
            "List is empty!\n",
            "List is empty!\n"
          ],
          "name": "stdout"
        }
      ]
    },
    {
      "cell_type": "code",
      "metadata": {
        "colab": {
          "base_uri": "https://localhost:8080/"
        },
        "id": "gRk_Od6ZNd8-",
        "outputId": "f47f9276-1700-4376-ce72-dda50075aaae"
      },
      "source": [
        "ll = LinkedList()\n",
        "ll.add_begin('Hrisav')\n",
        "ll.add_begin('Rihel')\n",
        "print('****Showing list:****')\n",
        "ll.display()\n",
        "print()\n",
        "print()\n",
        "\n",
        "ll.add_end('Megha')\n",
        "print('****Showing list after adding at end:****')\n",
        "ll.display()\n",
        "print()\n",
        "print()\n",
        "\n",
        "ll.add_begin('Riddhi')\n",
        "print('****Showing list after adding at front:****')\n",
        "ll.display()\n",
        "print()\n",
        "print()\n",
        "\n",
        "ll.add_after('Mudita', 'Rihel')\n",
        "print('****Showing list after adding after Rihel:****')\n",
        "ll.display()\n",
        "print()\n",
        "print()\n",
        "\n",
        "ll.add_before('Ranish', 'Hrisav')\n",
        "print('****Showing list after adding before Hrisav:****')\n",
        "ll.display()"
      ],
      "execution_count": 25,
      "outputs": [
        {
          "output_type": "stream",
          "text": [
            "****Showing list:****\n",
            "Rihel --> Hrisav --> \n",
            "\n",
            "****Showing list after adding at end:****\n",
            "Rihel --> Hrisav --> Megha --> \n",
            "\n",
            "****Showing list after adding at front:****\n",
            "Riddhi --> Rihel --> Hrisav --> Megha --> \n",
            "\n",
            "****Showing list after adding after Rihel:****\n",
            "Riddhi --> Rihel --> Mudita --> Hrisav --> Megha --> \n",
            "\n",
            "****Showing list after adding before Hrisav:****\n",
            "Riddhi --> Rihel --> Mudita --> Ranish --> Hrisav --> Megha --> "
          ],
          "name": "stdout"
        }
      ]
    },
    {
      "cell_type": "markdown",
      "metadata": {
        "id": "7-Y4TpX7YObw"
      },
      "source": [
        "# Deletion"
      ]
    },
    {
      "cell_type": "markdown",
      "metadata": {
        "id": "Hbi-bprhYokK"
      },
      "source": [
        "## Delete at beginning"
      ]
    },
    {
      "cell_type": "code",
      "metadata": {
        "id": "mdDtA2P9RHd6"
      },
      "source": [
        "class Node:\n",
        "    def __init__(self, data):                           # each Node will have data and next\n",
        "        self.data = data\n",
        "        self.next = None\n",
        "\n",
        "class LinkedList:\n",
        "    def __init__(self):\n",
        "        self.head = None                                # this is the head of LL\n",
        "\n",
        "    def display(self):\n",
        "        node = self.head                                # taking head as current node\n",
        "        if node == None:                                # checking if head is empty\n",
        "            print('List is empty!')\n",
        "        else:\n",
        "            while node != None:                         # stop loop before node's value is null (means end of list)\n",
        "                print(node.data, '-->', end = ' ')      # display's node's data\n",
        "                node = node.next                        # update node with it's next value\n",
        "\n",
        "    def add_empty(self, data):\n",
        "        node = self.head \n",
        "        if node == None:                                # if head is empty\n",
        "            new_node = Node(data)                       # create new_node\n",
        "            self.head = new_node                        # point head --> new_node\n",
        "        else:\n",
        "            print('List is not empty!')\n",
        "\n",
        "    def add_begin(self, data):\n",
        "        node = self.head \n",
        "        new_node = Node(data)                           # create new_node\n",
        "        new_node.next = node                            # point new_node.next --> head\n",
        "        self.head = new_node                            # point head --> new_node\n",
        "\n",
        "    def add_end(self, data):\n",
        "        node = self.head \n",
        "        new_node = Node(data)                           # create new_node\n",
        "        if node == None:                                # if list is empty, make new node as head\n",
        "            self.head = new_node\n",
        "        else:          \n",
        "            while node.next != None:                    # traverse to end of list (last_node)\n",
        "                node = node.next\n",
        "            node.next = new_node                        # point last_node.next --> new_node\n",
        "\n",
        "    def add_after(self, data, x):                       # add node after x's value\n",
        "        node = self.head                                # taking head as current node       \n",
        "        while node != None:                             # traverse to end of list (last_node)\n",
        "            if node.data == x:                          # if element x has been found\n",
        "                break\n",
        "            node = node.next\n",
        "        if node == None:                                # if element x not found\n",
        "            print('Node is not present!')\n",
        "        else:\n",
        "            new_node = Node(data)                       # create new_node\n",
        "            new_node.next = node.next                   # if x found, assign x_node.next --> new_node.next\n",
        "            node.next = new_node                        # assign new_node --> x_node.next\n",
        "\n",
        "    def add_before(self, data, x):                      # add node before x's value\n",
        "        node = self.head                                # taking head as current node  \n",
        "        if node == None:                                # if head is empty show empty list\n",
        "          print('List is empty!')\n",
        "        else:                                           # if head is non empty\n",
        "            if node.data == x:                          # if x is present in 1st node itself\n",
        "                new_node = Node(data)                   # create new_node\n",
        "                new_node.next = self.head               # point new_node.next --> head\n",
        "                self.head = new_node                    # point head --> new_node\n",
        "            else:\n",
        "                while node.next != None:\n",
        "                    if node.next.data == x:\n",
        "                        break\n",
        "                    node = node.next\n",
        "                if node == None:                        # if element x not found\n",
        "                    print('Node is not present!')\n",
        "                else:\n",
        "                    new_node = Node(data)               # create new_node\n",
        "                    new_node.next = node.next           # if x found, assign x_node.next --> new_node.next\n",
        "                    node.next = new_node                # assign new_node --> x_node.next\n",
        "\n",
        "    def delete_begin(self):\n",
        "        node = self.head                                # taking head as current node  \n",
        "        if node == None:                                # if head is empty show empty list\n",
        "          print('List is empty!')\n",
        "        else:\n",
        "          self.head = node.next                         # assign current node's next as head"
      ],
      "execution_count": 38,
      "outputs": []
    },
    {
      "cell_type": "code",
      "metadata": {
        "colab": {
          "base_uri": "https://localhost:8080/"
        },
        "id": "VYRzymsgLREs",
        "outputId": "8dfa6e25-8934-4176-e22d-4e19aa9aa56a"
      },
      "source": [
        "ll = LinkedList()\n",
        "ll.add_empty('Hrisav')\n",
        "ll.add_begin('Rihel')\n",
        "ll.add_begin('Megha')\n",
        "print('****Showing list:****')\n",
        "ll.display()\n",
        "print()\n",
        "print()\n",
        "\n",
        "ll.delete_begin()\n",
        "print('****Showing list after deleting at start:****')\n",
        "ll.display()"
      ],
      "execution_count": 39,
      "outputs": [
        {
          "output_type": "stream",
          "text": [
            "****Showing list:****\n",
            "Megha --> Rihel --> Hrisav --> \n",
            "\n",
            "****Showing list after deleting at start:****\n",
            "Rihel --> Hrisav --> "
          ],
          "name": "stdout"
        }
      ]
    },
    {
      "cell_type": "markdown",
      "metadata": {
        "id": "snWwFOEGh96l"
      },
      "source": [
        "## Delete at end"
      ]
    },
    {
      "cell_type": "code",
      "metadata": {
        "id": "VFlMJxWueWG2"
      },
      "source": [
        "class Node:\n",
        "    def __init__(self, data):                           # each Node will have data and next\n",
        "        self.data = data\n",
        "        self.next = None\n",
        "\n",
        "class LinkedList:\n",
        "    def __init__(self):\n",
        "        self.head = None                                # this is the head of LL\n",
        "\n",
        "    def display(self):\n",
        "        node = self.head                                # taking head as current node\n",
        "        if node == None:                                # checking if head is empty\n",
        "            print('List is empty!')\n",
        "        else:\n",
        "            while node != None:                         # stop loop before node's value is null (means end of list)\n",
        "                print(node.data, '-->', end = ' ')      # display's node's data\n",
        "                node = node.next                        # update node with it's next value\n",
        "\n",
        "    def add_empty(self, data):\n",
        "        node = self.head \n",
        "        if node == None:                                # if head is empty\n",
        "            new_node = Node(data)                       # create new_node\n",
        "            self.head = new_node                        # point head --> new_node\n",
        "        else:\n",
        "            print('List is not empty!')\n",
        "\n",
        "    def add_begin(self, data):\n",
        "        node = self.head \n",
        "        new_node = Node(data)                           # create new_node\n",
        "        new_node.next = node                            # point new_node.next --> head\n",
        "        self.head = new_node                            # point head --> new_node\n",
        "\n",
        "    def add_end(self, data):\n",
        "        node = self.head \n",
        "        new_node = Node(data)                           # create new_node\n",
        "        if node == None:                                # if list is empty, make new node as head\n",
        "            self.head = new_node\n",
        "        else:          \n",
        "            while node.next != None:                    # traverse to end of list (last_node)\n",
        "                node = node.next\n",
        "            node.next = new_node                        # point last_node.next --> new_node\n",
        "\n",
        "    def add_after(self, data, x):                       # add node after x's value\n",
        "        node = self.head                                # taking head as current node       \n",
        "        while node != None:                             # traverse to end of list (last_node)\n",
        "            if node.data == x:                          # if element x has been found\n",
        "                break\n",
        "            node = node.next\n",
        "        if node == None:                                # if element x not found\n",
        "            print('Node is not present!')\n",
        "        else:\n",
        "            new_node = Node(data)                       # create new_node\n",
        "            new_node.next = node.next                   # if x found, assign x_node.next --> new_node.next\n",
        "            node.next = new_node                        # assign new_node --> x_node.next\n",
        "\n",
        "    def add_before(self, data, x):                      # add node before x's value\n",
        "        node = self.head                                # taking head as current node  \n",
        "        if node == None:                                # if head is empty show empty list\n",
        "            print('List is empty!')\n",
        "        else:                                           # if head is non empty\n",
        "            if node.data == x:                          # if x is present in 1st node itself\n",
        "                new_node = Node(data)                   # create new_node\n",
        "                new_node.next = self.head               # point new_node.next --> head\n",
        "                self.head = new_node                    # point head --> new_node\n",
        "            else:\n",
        "                while node.next != None:\n",
        "                    if node.next.data == x:\n",
        "                        break\n",
        "                    node = node.next\n",
        "                if node == None:                        # if element x not found\n",
        "                    print('Node is not present!')\n",
        "                else:\n",
        "                    new_node = Node(data)               # create new_node\n",
        "                    new_node.next = node.next           # if x found, assign x_node.next --> new_node.next\n",
        "                    node.next = new_node                # assign new_node --> x_node.next\n",
        "\n",
        "    def delete_begin(self):\n",
        "        node = self.head                                # taking head as current node  \n",
        "        if node == None:                                # if head is empty show empty list\n",
        "            print('List is empty!')\n",
        "        else:\n",
        "            self.head = node.next                       # assign current node's next as head\n",
        "\n",
        "    def delete_end(self):\n",
        "        node = self.head                                # taking head as current node  \n",
        "        if node == None:                                # if head is empty show empty list\n",
        "            print('List is empty so cant delete nodes!')\n",
        "        elif node.next == None:                         # if only one node in list\n",
        "            self.head = None\n",
        "        else:\n",
        "            while node.next.next != None:               # traverse to second last node and check\n",
        "                node = node.next                        # till last node's next has null\n",
        "            node.next = None                            # point second_last_node.next --> null"
      ],
      "execution_count": 5,
      "outputs": []
    },
    {
      "cell_type": "code",
      "metadata": {
        "colab": {
          "base_uri": "https://localhost:8080/"
        },
        "id": "GsMHicFp97Ws",
        "outputId": "1617dddd-d7c5-41b0-8135-60c00ad787b3"
      },
      "source": [
        "ll = LinkedList()\n",
        "ll.add_empty('Hrisav')\n",
        "print('****Showing list:****')\n",
        "ll.display()\n",
        "print()\n",
        "print()\n",
        "\n",
        "ll.delete_end()\n",
        "print('****Showing list after deleting at end:****')\n",
        "ll.display()"
      ],
      "execution_count": 6,
      "outputs": [
        {
          "output_type": "stream",
          "text": [
            "****Showing list:****\n",
            "Hrisav --> \n",
            "\n",
            "****Showing list after deleting at end:****\n",
            "List is empty!\n"
          ],
          "name": "stdout"
        }
      ]
    },
    {
      "cell_type": "code",
      "metadata": {
        "colab": {
          "base_uri": "https://localhost:8080/"
        },
        "id": "7DGLlbfjfs30",
        "outputId": "a122ec42-18b0-4790-d13a-1477c33f010d"
      },
      "source": [
        "ll = LinkedList()\n",
        "ll.add_empty('Hrisav')\n",
        "ll.add_begin('Rihel')\n",
        "ll.add_begin('Megha')\n",
        "print('****Showing list:****')\n",
        "ll.display()\n",
        "print()\n",
        "print()\n",
        "\n",
        "ll.delete_end()\n",
        "print('****Showing list after deleting at end:****')\n",
        "ll.display()"
      ],
      "execution_count": 7,
      "outputs": [
        {
          "output_type": "stream",
          "text": [
            "****Showing list:****\n",
            "Megha --> Rihel --> Hrisav --> \n",
            "\n",
            "****Showing list after deleting at end:****\n",
            "Megha --> Rihel --> "
          ],
          "name": "stdout"
        }
      ]
    },
    {
      "cell_type": "markdown",
      "metadata": {
        "id": "W_Fu6HIoAFfQ"
      },
      "source": [
        "## Delete by value"
      ]
    },
    {
      "cell_type": "code",
      "metadata": {
        "id": "VmdLVR3W-J96"
      },
      "source": [
        "class Node:\n",
        "    def __init__(self, data):                           # each Node will have data and next\n",
        "        self.data = data\n",
        "        self.next = None\n",
        "\n",
        "class LinkedList:\n",
        "    def __init__(self):\n",
        "        self.head = None                                # this is the head of LL\n",
        "\n",
        "    def display(self):\n",
        "        node = self.head                                # taking head as current node\n",
        "        if node == None:                                # checking if head is empty\n",
        "            print('List is empty!')\n",
        "        else:\n",
        "            while node != None:                         # stop loop before node's value is null (means end of list)\n",
        "                print(node.data, '-->', end = ' ')      # display's node's data\n",
        "                node = node.next                        # update node with it's next value\n",
        "\n",
        "    def add_empty(self, data):\n",
        "        node = self.head \n",
        "        if node == None:                                # if head is empty\n",
        "            new_node = Node(data)                       # create new_node\n",
        "            self.head = new_node                        # point head --> new_node\n",
        "        else:\n",
        "            print('List is not empty!')\n",
        "\n",
        "    def add_begin(self, data):\n",
        "        node = self.head \n",
        "        new_node = Node(data)                           # create new_node\n",
        "        new_node.next = node                            # point new_node.next --> head\n",
        "        self.head = new_node                            # point head --> new_node\n",
        "\n",
        "    def add_end(self, data):\n",
        "        node = self.head \n",
        "        new_node = Node(data)                           # create new_node\n",
        "        if node == None:                                # if list is empty, make new node as head\n",
        "            self.head = new_node\n",
        "        else:          \n",
        "            while node.next != None:                    # traverse to end of list (last_node)\n",
        "                node = node.next\n",
        "            node.next = new_node                        # point last_node.next --> new_node\n",
        "\n",
        "    def add_after(self, data, x):                       # add node after x's value\n",
        "        node = self.head                                # taking head as current node       \n",
        "        while node != None:                             # traverse to end of list (last_node)\n",
        "            if node.data == x:                          # if element x has been found\n",
        "                break\n",
        "            node = node.next\n",
        "        if node == None:                                # if element x not found\n",
        "            print('Node is not present!')\n",
        "        else:\n",
        "            new_node = Node(data)                       # create new_node\n",
        "            new_node.next = node.next                   # if x found, assign x_node.next --> new_node.next\n",
        "            node.next = new_node                        # assign new_node --> x_node.next\n",
        "\n",
        "    def add_before(self, data, x):                      # add node before x's value\n",
        "        node = self.head                                # taking head as current node  \n",
        "        if node == None:                                # if head is empty show empty list\n",
        "            print('List is empty!')\n",
        "        else:                                           # if head is non empty\n",
        "            if node.data == x:                          # if x is present in 1st node itself\n",
        "                new_node = Node(data)                   # create new_node\n",
        "                new_node.next = self.head               # point new_node.next --> head\n",
        "                self.head = new_node                    # point head --> new_node\n",
        "            else:\n",
        "                while node.next != None:\n",
        "                    if node.next.data == x:\n",
        "                        break\n",
        "                    node = node.next\n",
        "                if node == None:                        # if element x not found\n",
        "                    print('Node is not present!')\n",
        "                else:\n",
        "                    new_node = Node(data)               # create new_node\n",
        "                    new_node.next = node.next           # if x found, assign x_node.next --> new_node.next\n",
        "                    node.next = new_node                # assign new_node --> x_node.next\n",
        "\n",
        "    def delete_begin(self):\n",
        "        node = self.head                                # taking head as current node  \n",
        "        if node == None:                                # if head is empty show empty list\n",
        "            print('List is empty!')\n",
        "        else:\n",
        "            self.head = node.next                       # assign current node's next as head\n",
        "\n",
        "    def delete_end(self):\n",
        "        node = self.head                                # taking head as current node  \n",
        "        if node == None:                                # if head is empty show empty list\n",
        "            print('List is empty so cant delete nodes!')\n",
        "        elif node.next == None:                         # if only one node in list\n",
        "            self.head = None\n",
        "        else:\n",
        "            while node.next.next != None:               # traverse to second last node and check\n",
        "                node = node.next                        # till last node's next has null\n",
        "            node.next = None                            # point second_last_node.next --> null\n",
        "\n",
        "    def delete_by_value(self, x):\n",
        "        node = self.head                                # taking head as current node  \n",
        "        if node == None:                                # if head is empty show empty list\n",
        "            print('List is empty so cant delete nodes!')\n",
        "        elif node.data == x:                            # checking if x is in 1st node\n",
        "            self.head = node.next                       # removing 1st node\n",
        "        else:\n",
        "            while node.next != None:                    # traverse to second last node and check\n",
        "                if node.next.data==x:\n",
        "                    break\n",
        "                else:\n",
        "                    node = node.next                    # till last node's next has null\n",
        "            if node.next == None:\n",
        "                print('Node is not present!')\n",
        "            else:\n",
        "                node.next = node.next.next"
      ],
      "execution_count": 1,
      "outputs": []
    },
    {
      "cell_type": "code",
      "metadata": {
        "colab": {
          "base_uri": "https://localhost:8080/"
        },
        "id": "5HlKDH0jf1hI",
        "outputId": "c36fa7b9-1731-42cd-d120-a63f797ec293"
      },
      "source": [
        "ll = LinkedList()\n",
        "ll.add_empty('Hrisav')\n",
        "ll.add_begin('Rihel')\n",
        "ll.add_begin('Megha')\n",
        "print('****Showing list:****')\n",
        "ll.display()\n",
        "print()\n",
        "print()\n",
        "\n",
        "ll.delete_by_value('Rihel')\n",
        "print('****Showing list after deleting at end:****')\n",
        "ll.display()"
      ],
      "execution_count": 2,
      "outputs": [
        {
          "output_type": "stream",
          "text": [
            "****Showing list:****\n",
            "Megha --> Rihel --> Hrisav --> \n",
            "\n",
            "****Showing list after deleting at end:****\n",
            "Megha --> Hrisav --> "
          ],
          "name": "stdout"
        }
      ]
    },
    {
      "cell_type": "code",
      "metadata": {
        "colab": {
          "base_uri": "https://localhost:8080/"
        },
        "id": "xp_76OmOgBf-",
        "outputId": "c94a6eee-e0b1-4a57-d095-d6cb17ac8339"
      },
      "source": [
        "ll = LinkedList()\n",
        "ll.add_empty('Hrisav')\n",
        "ll.add_begin('Rihel')\n",
        "ll.add_begin('Megha')\n",
        "print('****Showing list:****')\n",
        "ll.display()\n",
        "print()\n",
        "print()\n",
        "\n",
        "ll.delete_by_value('Riddhi')\n",
        "print('****Showing list after deleting at end:****')\n",
        "ll.display()"
      ],
      "execution_count": 5,
      "outputs": [
        {
          "output_type": "stream",
          "text": [
            "****Showing list:****\n",
            "Megha --> Rihel --> Hrisav --> \n",
            "\n",
            "Node is not present!\n",
            "****Showing list after deleting at end:****\n",
            "Megha --> Rihel --> Hrisav --> "
          ],
          "name": "stdout"
        }
      ]
    },
    {
      "cell_type": "code",
      "metadata": {
        "colab": {
          "base_uri": "https://localhost:8080/"
        },
        "id": "2ka3byedgNXQ",
        "outputId": "2b2bd95c-07ff-4489-e22b-73c2220d1f80"
      },
      "source": [
        "ll = LinkedList()\n",
        "print('****Showing list:****')\n",
        "ll.display()\n",
        "print()\n",
        "print()\n",
        "\n",
        "ll.delete_by_value('Riddhi')\n",
        "print('****Showing list after deleting at end:****')\n",
        "ll.display()"
      ],
      "execution_count": 6,
      "outputs": [
        {
          "output_type": "stream",
          "text": [
            "****Showing list:****\n",
            "List is empty!\n",
            "\n",
            "\n",
            "List is empty so cant delete nodes!\n",
            "****Showing list after deleting at end:****\n",
            "List is empty!\n"
          ],
          "name": "stdout"
        }
      ]
    }
  ]
}