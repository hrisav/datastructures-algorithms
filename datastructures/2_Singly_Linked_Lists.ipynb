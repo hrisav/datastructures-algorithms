{
  "nbformat": 4,
  "nbformat_minor": 0,
  "metadata": {
    "kernelspec": {
      "display_name": "Python 3",
      "language": "python",
      "name": "python3"
    },
    "language_info": {
      "codemirror_mode": {
        "name": "ipython",
        "version": 3
      },
      "file_extension": ".py",
      "mimetype": "text/x-python",
      "name": "python",
      "nbconvert_exporter": "python",
      "pygments_lexer": "ipython3",
      "version": "3.8.2"
    },
    "colab": {
      "name": "2_Singly_Linked_Lists.ipynb",
      "provenance": [],
      "collapsed_sections": [],
      "toc_visible": true
    }
  },
  "cells": [
    {
      "cell_type": "code",
      "metadata": {
        "id": "VLuSNa3ADcy5"
      },
      "source": [
        "# convert image links to colab image links\n",
        "\n",
        "def image_linker(link):\n",
        "\n",
        "    new_link = 'https://drive.google.com/uc?id='\n",
        "    new_link = new_link + link.split('/')[-2]\n",
        "    paste_link = '![](' + new_link + ')'\n",
        "    return paste_link"
      ],
      "execution_count": 1,
      "outputs": []
    },
    {
      "cell_type": "code",
      "metadata": {
        "colab": {
          "base_uri": "https://localhost:8080/",
          "height": 36
        },
        "id": "soMHsylWD0e7",
        "outputId": "ac81b37a-d3fd-4aae-f6d3-5e4596d7acb4"
      },
      "source": [
        "image_linker('https://drive.google.com/file/d/1W56fqgB3D9ZFH8BKsv0Zgrti8zZ86ltI/view?usp=sharing')"
      ],
      "execution_count": 2,
      "outputs": [
        {
          "output_type": "execute_result",
          "data": {
            "application/vnd.google.colaboratory.intrinsic+json": {
              "type": "string"
            },
            "text/plain": [
              "'![](https://drive.google.com/uc?id=1W56fqgB3D9ZFH8BKsv0Zgrti8zZ86ltI)'"
            ]
          },
          "metadata": {
            "tags": []
          },
          "execution_count": 2
        }
      ]
    },
    {
      "cell_type": "markdown",
      "metadata": {
        "id": "bYNNAYDKqHwW"
      },
      "source": [
        "## Linked List"
      ]
    },
    {
      "cell_type": "markdown",
      "metadata": {
        "id": "oCxwpJipqHwW"
      },
      "source": [
        "Stores values at random memory locations, but linked by pointers. No need to pre allocate space.\n",
        "\n",
        "Insert element in beginning -> $O(1)$\n",
        "\n",
        "Delete element in beginning -> $O(1)$\n",
        "\n",
        "Insert/Delete element at the end -> $O(n)$\n",
        "\n",
        "Linked List Traversal -> $O(n)$\n",
        "\n",
        "Accessing element by Value -> $O(n)$\n"
      ]
    },
    {
      "cell_type": "markdown",
      "metadata": {
        "id": "uX9mYNKEqHwX"
      },
      "source": [
        "### Single Linked List\n",
        "\n",
        "Singly linked list allows traversal elements only in one way. Singly linked list are generally used for implementation of stacks. Complexity of insertion and deletion at a known position is O(n)."
      ]
    },
    {
      "cell_type": "markdown",
      "metadata": {
        "id": "ny3XxuOUMp8h"
      },
      "source": [
        "![](https://drive.google.com/uc?id=1k8HLjmjAEYhJJ3Jr1-G6shvrnlYAZR7U)"
      ]
    },
    {
      "cell_type": "markdown",
      "metadata": {
        "id": "D6DK2xucd9QQ"
      },
      "source": [
        "**Inserting at beginning**\n",
        "\n",
        "1) Create new_node\n",
        "\n",
        "2) Point new_node.next --> head (head is same as existing 1st node)\n",
        "\n",
        "3) Point head --> new_node\n",
        "\n",
        "**Inserting at end**\n",
        "\n",
        "1) Create new_node\n",
        "\n",
        "2) Go to last_node\n",
        "\n",
        "3) Point last_node.next --> new_node\n",
        "\n",
        "**Inserting in between**\n",
        "\n",
        "Structure will be: *x_node, new_node, y_node*\n",
        "\n",
        "1) Create new_node\n",
        "\n",
        "2) Go to x_node, just before required position of new_node\n",
        "\n",
        "3) Point x_node.next --> new_node\n",
        "\n",
        "4) Point new_node.next --> y_node"
      ]
    },
    {
      "cell_type": "markdown",
      "metadata": {
        "id": "obdCSuYfiQNF"
      },
      "source": [
        "**Deleting at beginning**\n",
        "\n",
        "1) Point head --> second_node\n",
        "\n",
        "**Deleting at end**\n",
        "\n",
        "1) Point second_last_node.next --> None\n",
        "\n",
        "**Deleting in between**\n",
        "\n",
        "Structure will be: *x_node, removed_node, y_node*\n",
        "\n",
        "1) Point x_node.next --> y_node"
      ]
    },
    {
      "cell_type": "markdown",
      "metadata": {
        "id": "KhXA2nQnj-mW"
      },
      "source": [
        "**Traversal**\n",
        "\n",
        "1) Start with head. If head != null, access its info.\n",
        "\n",
        "2) Go to next node, access its info.\n",
        "\n",
        "3) Keep doing till you reach the end."
      ]
    },
    {
      "cell_type": "markdown",
      "metadata": {
        "id": "hmMUZna9M845"
      },
      "source": [
        "# Addition"
      ]
    },
    {
      "cell_type": "markdown",
      "metadata": {
        "id": "tvmmEjgmKfSj"
      },
      "source": [
        "## Display List"
      ]
    },
    {
      "cell_type": "code",
      "metadata": {
        "id": "Wj_Fg7DpjwVO"
      },
      "source": [
        "class Node:\n",
        "    def __init__(self, data):                           # each Node will have data and next\n",
        "        self.data = data\n",
        "        self.next = None\n",
        "\n",
        "class LinkedList:\n",
        "    def __init__(self):\n",
        "        self.head = None                                # this is the head of LL\n",
        "\n",
        "    def display(self):\n",
        "        node = self.head                                # taking head as current node\n",
        "        if node == None:                                # checking if head is empty\n",
        "            print('List is empty!')\n",
        "        else:\n",
        "            while node != None:                         # stop loop before node's value is null (means end of list)\n",
        "                print(node.data, '-->', end = ' ')      # display's node's data\n",
        "                node = node.next                        # update node with it's next value"
      ],
      "execution_count": 3,
      "outputs": []
    },
    {
      "cell_type": "code",
      "metadata": {
        "colab": {
          "base_uri": "https://localhost:8080/"
        },
        "id": "vfWjDFr2ugJ-",
        "outputId": "c5ff86bc-0a52-41ad-ea6e-2c60165bc2ac"
      },
      "source": [
        "ob = Node(10)\n",
        "ob.data"
      ],
      "execution_count": 4,
      "outputs": [
        {
          "output_type": "execute_result",
          "data": {
            "text/plain": [
              "10"
            ]
          },
          "metadata": {
            "tags": []
          },
          "execution_count": 4
        }
      ]
    },
    {
      "cell_type": "code",
      "metadata": {
        "colab": {
          "base_uri": "https://localhost:8080/"
        },
        "id": "iEd_oE4Y21E4",
        "outputId": "afce7d65-8901-417a-d9cf-3befc52343a4"
      },
      "source": [
        "ll = LinkedList()\n",
        "ll.display()"
      ],
      "execution_count": 5,
      "outputs": [
        {
          "output_type": "stream",
          "text": [
            "List is empty!\n"
          ],
          "name": "stdout"
        }
      ]
    },
    {
      "cell_type": "markdown",
      "metadata": {
        "id": "uTMmG9CFLBmj"
      },
      "source": [
        "## Add in empty list"
      ]
    },
    {
      "cell_type": "code",
      "metadata": {
        "id": "2GOozw1aQfYV"
      },
      "source": [
        "class Node:\n",
        "    def __init__(self, data):                           # each Node will have data and next\n",
        "        self.data = data\n",
        "        self.next = None\n",
        "\n",
        "class LinkedList:\n",
        "    def __init__(self):\n",
        "        self.head = None                                # this is the head of LL\n",
        "\n",
        "    def display(self):\n",
        "        node = self.head                                # taking head as current node\n",
        "        if node == None:                                # checking if head is empty\n",
        "            print('List is empty!')\n",
        "        else:\n",
        "            while node != None:                         # stop loop before node's value is null (means end of list)\n",
        "                print(node.data, '-->', end = ' ')      # display's node's data\n",
        "                node = node.next                        # update node with it's next value\n",
        "\n",
        "    def add_empty(self, data):\n",
        "        if self.head == None:                           # if head is empty\n",
        "            new_node = Node(data)                       # create new_node\n",
        "            self.head = new_node                        # point head --> new_node\n",
        "        else:\n",
        "            print('List is not empty!')"
      ],
      "execution_count": 6,
      "outputs": []
    },
    {
      "cell_type": "code",
      "metadata": {
        "colab": {
          "base_uri": "https://localhost:8080/"
        },
        "id": "Hv7DBolSQ3XH",
        "outputId": "851d466d-93f4-406d-c0f4-79439830465f"
      },
      "source": [
        "ll = LinkedList()\n",
        "ll.add_empty(input('Enter name: '))\n",
        "ll.display()"
      ],
      "execution_count": 7,
      "outputs": [
        {
          "output_type": "stream",
          "text": [
            "Enter name: Hrisav\n",
            "Hrisav --> "
          ],
          "name": "stdout"
        }
      ]
    },
    {
      "cell_type": "code",
      "metadata": {
        "colab": {
          "base_uri": "https://localhost:8080/"
        },
        "id": "FyD--RDfQ-Jw",
        "outputId": "4ed33f9a-089a-415b-cc8a-a20de67c1da6"
      },
      "source": [
        "ll = LinkedList()\n",
        "ll.add_empty('Hrisav')\n",
        "ll.add_empty('Rihel')"
      ],
      "execution_count": 8,
      "outputs": [
        {
          "output_type": "stream",
          "text": [
            "List is not empty!\n"
          ],
          "name": "stdout"
        }
      ]
    },
    {
      "cell_type": "markdown",
      "metadata": {
        "id": "v4JlF1kpKpVC"
      },
      "source": [
        "## Add at beginning"
      ]
    },
    {
      "cell_type": "code",
      "metadata": {
        "id": "0nTswPol2Ibq"
      },
      "source": [
        "class Node:\n",
        "    def __init__(self, data):                           # each Node will have data and next\n",
        "        self.data = data\n",
        "        self.next = None\n",
        "\n",
        "class LinkedList:\n",
        "    def __init__(self):\n",
        "        self.head = None                                # this is the head of LL\n",
        "\n",
        "    def display(self):\n",
        "        node = self.head                                # taking head as current node\n",
        "        if node == None:                                # checking if head is empty\n",
        "            print('List is empty!')\n",
        "        else:\n",
        "            while node != None:                         # stop loop before node's value is null (means end of list)\n",
        "                print(node.data, '-->', end = ' ')      # display's node's data\n",
        "                node = node.next                        # update node with it's next value\n",
        "\n",
        "    def add_empty(self, data):\n",
        "        if self.head == None:                           # if head is empty\n",
        "            new_node = Node(data)                       # create new_node\n",
        "            self.head = new_node                        # point head --> new_node\n",
        "        else:\n",
        "            print('List is not empty!')\n",
        "\n",
        "    def add_begin(self, data):\n",
        "        new_node = Node(data)                           # create new_node\n",
        "        new_node.next = self.head                       # point new_node.next --> head\n",
        "        self.head = new_node                            # point head --> new_node"
      ],
      "execution_count": 9,
      "outputs": []
    },
    {
      "cell_type": "code",
      "metadata": {
        "colab": {
          "base_uri": "https://localhost:8080/"
        },
        "id": "XeE3bNmC58By",
        "outputId": "b4749e3e-6ea0-4a23-ca3e-c6bd3b4c36ca"
      },
      "source": [
        "ll = LinkedList()\n",
        "ll.add_begin('Rihel')\n",
        "ll.display()"
      ],
      "execution_count": 10,
      "outputs": [
        {
          "output_type": "stream",
          "text": [
            "Rihel --> "
          ],
          "name": "stdout"
        }
      ]
    },
    {
      "cell_type": "code",
      "metadata": {
        "id": "CD5Z0qiu6Fvk"
      },
      "source": [
        "ll.add_begin('Hrisav')"
      ],
      "execution_count": 11,
      "outputs": []
    },
    {
      "cell_type": "code",
      "metadata": {
        "colab": {
          "base_uri": "https://localhost:8080/"
        },
        "id": "7dT16XEP6fF0",
        "outputId": "8b59e1d9-a49d-44c0-cdc3-5c75d4f38549"
      },
      "source": [
        "ll.display()"
      ],
      "execution_count": 12,
      "outputs": [
        {
          "output_type": "stream",
          "text": [
            "Hrisav --> Rihel --> "
          ],
          "name": "stdout"
        }
      ]
    },
    {
      "cell_type": "markdown",
      "metadata": {
        "id": "MtFdXUnaKyMy"
      },
      "source": [
        "## Add at end"
      ]
    },
    {
      "cell_type": "code",
      "metadata": {
        "id": "iwWnvwF763FR"
      },
      "source": [
        "class Node:\n",
        "    def __init__(self, data):                           # each Node will have data and next\n",
        "        self.data = data\n",
        "        self.next = None\n",
        "\n",
        "class LinkedList:\n",
        "    def __init__(self):\n",
        "        self.head = None                                # this is the head of LL\n",
        "\n",
        "    def display(self):\n",
        "        node = self.head                                # taking head as current node\n",
        "        if node == None:                                # checking if head is empty\n",
        "            print('List is empty!')\n",
        "        else:\n",
        "            while node != None:                         # stop loop before node's value is null (means end of list)\n",
        "                print(node.data, '-->', end = ' ')      # display's node's data\n",
        "                node = node.next                        # update node with it's next value\n",
        "\n",
        "    def add_empty(self, data):\n",
        "        if self.head == None:                           # if head is empty\n",
        "            new_node = Node(data)                       # create new_node\n",
        "            self.head = new_node                        # point head --> new_node\n",
        "        else:\n",
        "            print('List is not empty!')\n",
        "\n",
        "    def add_begin(self, data):\n",
        "        new_node = Node(data)                           # create new_node\n",
        "        new_node.next = self.head                       # point new_node.next --> head\n",
        "        self.head = new_node                            # point head --> new_node\n",
        "\n",
        "    def add_end(self, data):\n",
        "        new_node = Node(data)                           # create new_node\n",
        "        if self.head == None:                           # if list is empty, make new node as head\n",
        "            self.head = new_node\n",
        "        else:\n",
        "            node = self.head              \n",
        "            while node.next != None:                    # traverse to end of list (last_node)\n",
        "                node = node.next\n",
        "            node.next = new_node                        # point last_node.next --> new_node"
      ],
      "execution_count": 13,
      "outputs": []
    },
    {
      "cell_type": "code",
      "metadata": {
        "colab": {
          "base_uri": "https://localhost:8080/"
        },
        "id": "nkFIaFD-AFWW",
        "outputId": "95a0d44c-ea79-4dd1-a05b-50bfff445f04"
      },
      "source": [
        "ll = LinkedList()\n",
        "ll.add_begin('Hrisav')\n",
        "ll.add_begin('Rihel')\n",
        "print('****Showing list:****')\n",
        "ll.display()\n",
        "print()\n",
        "print()\n",
        "\n",
        "ll.add_end('Megha')\n",
        "print('****Showing list after adding at end:****')\n",
        "ll.display()\n",
        "print()\n",
        "print()\n",
        "\n",
        "ll.add_begin('Riddhi')\n",
        "print('****Showing list after adding at front:****')\n",
        "ll.display()"
      ],
      "execution_count": 14,
      "outputs": [
        {
          "output_type": "stream",
          "text": [
            "****Showing list:****\n",
            "Rihel --> Hrisav --> \n",
            "\n",
            "****Showing list after adding at end:****\n",
            "Rihel --> Hrisav --> Megha --> \n",
            "\n",
            "****Showing list after adding at front:****\n",
            "Riddhi --> Rihel --> Hrisav --> Megha --> "
          ],
          "name": "stdout"
        }
      ]
    },
    {
      "cell_type": "markdown",
      "metadata": {
        "id": "Vqq6ASDFK2ah"
      },
      "source": [
        "## Add after a node"
      ]
    },
    {
      "cell_type": "code",
      "metadata": {
        "id": "cLlW9bBgFXbv"
      },
      "source": [
        "class Node:\n",
        "    def __init__(self, data):                           # each Node will have data and next\n",
        "        self.data = data\n",
        "        self.next = None\n",
        "\n",
        "class LinkedList:\n",
        "    def __init__(self):\n",
        "        self.head = None                                # this is the head of LL\n",
        "\n",
        "    def display(self):\n",
        "        node = self.head                                # taking head as current node\n",
        "        if node == None:                                # checking if head is empty\n",
        "            print('List is empty!')\n",
        "        else:\n",
        "            while node != None:                         # stop loop before node's value is null (means end of list)\n",
        "                print(node.data, '-->', end = ' ')      # display's node's data\n",
        "                node = node.next                        # update node with it's next value\n",
        "\n",
        "    def add_empty(self, data):\n",
        "        if self.head == None:                           # if head is empty\n",
        "            new_node = Node(data)                       # create new_node\n",
        "            self.head = new_node                        # point head --> new_node\n",
        "        else:\n",
        "            print('List is not empty!')\n",
        "\n",
        "    def add_begin(self, data):\n",
        "        new_node = Node(data)                           # create new_node\n",
        "        new_node.next = self.head                       # point new_node.next --> head\n",
        "        self.head = new_node                            # point head --> new_node\n",
        "\n",
        "    def add_end(self, data):\n",
        "        new_node = Node(data)                           # create new_node\n",
        "        if self.head == None:                           # if list is empty, make new node as head\n",
        "            self.head = new_node\n",
        "        else:\n",
        "            node = self.head              \n",
        "            while node.next != None:                    # traverse to end of list (last_node)\n",
        "                node = node.next\n",
        "            node.next = new_node                        # point last_node.next --> new_node\n",
        "\n",
        "    def add_after(self, data, x):                       # add node after x's value\n",
        "        node = self.head                                # taking head as current node       \n",
        "        while node != None:                             # traverse to end of list (last_node)\n",
        "            if node.data == x:                          # if element x has been found\n",
        "                break\n",
        "            node = node.next\n",
        "        if node == None:                                # if element x not found\n",
        "            print('Node is not present!')\n",
        "        else:\n",
        "            new_node = Node(data)                       # create new_node\n",
        "            new_node.next = node.next                   # if x found, assign x_node.next --> new_node.next\n",
        "            node.next = new_node                        # assign new_node --> x_node.next"
      ],
      "execution_count": 15,
      "outputs": []
    },
    {
      "cell_type": "code",
      "metadata": {
        "colab": {
          "base_uri": "https://localhost:8080/"
        },
        "id": "BMByuImjDjrV",
        "outputId": "52997c00-a4f8-47ea-e3cd-832e5e8b5096"
      },
      "source": [
        "ll = LinkedList()\n",
        "ll.add_begin('Hrisav')\n",
        "ll.add_begin('Rihel')\n",
        "print('****Showing list:****')\n",
        "ll.display()\n",
        "print()\n",
        "print()\n",
        "\n",
        "ll.add_end('Megha')\n",
        "print('****Showing list after adding at end:****')\n",
        "ll.display()\n",
        "print()\n",
        "print()\n",
        "\n",
        "ll.add_begin('Riddhi')\n",
        "print('****Showing list after adding at front:****')\n",
        "ll.display()\n",
        "print()\n",
        "print()\n",
        "\n",
        "ll.add_after('Mudita', 'Rihel')\n",
        "print('****Showing list after adding after Rihel:****')\n",
        "ll.display()"
      ],
      "execution_count": 16,
      "outputs": [
        {
          "output_type": "stream",
          "text": [
            "****Showing list:****\n",
            "Rihel --> Hrisav --> \n",
            "\n",
            "****Showing list after adding at end:****\n",
            "Rihel --> Hrisav --> Megha --> \n",
            "\n",
            "****Showing list after adding at front:****\n",
            "Riddhi --> Rihel --> Hrisav --> Megha --> \n",
            "\n",
            "****Showing list after adding after Rihel:****\n",
            "Riddhi --> Rihel --> Mudita --> Hrisav --> Megha --> "
          ],
          "name": "stdout"
        }
      ]
    },
    {
      "cell_type": "markdown",
      "metadata": {
        "id": "StuG-8QdK60J"
      },
      "source": [
        "## Add before a node"
      ]
    },
    {
      "cell_type": "code",
      "metadata": {
        "id": "A2JS1y24GO9K"
      },
      "source": [
        "class Node:\n",
        "    def __init__(self, data):                           # each Node will have data and next\n",
        "        self.data = data\n",
        "        self.next = None\n",
        "\n",
        "class LinkedList:\n",
        "    def __init__(self):\n",
        "        self.head = None                                # this is the head of LL\n",
        "\n",
        "    def display(self):\n",
        "        node = self.head                                # taking head as current node\n",
        "        if node == None:                                # checking if head is empty\n",
        "            print('List is empty!')\n",
        "        else:\n",
        "            while node != None:                         # stop loop before node's value is null (means end of list)\n",
        "                print(node.data, '-->', end = ' ')      # display's node's data\n",
        "                node = node.next                        # update node with it's next value\n",
        "\n",
        "    def add_empty(self, data):\n",
        "        if self.head == None:                           # if head is empty\n",
        "            new_node = Node(data)                       # create new_node\n",
        "            self.head = new_node                        # point head --> new_node\n",
        "        else:\n",
        "            print('List is not empty!')\n",
        "\n",
        "    def add_begin(self, data):\n",
        "        new_node = Node(data)                           # create new_node\n",
        "        new_node.next = self.head                       # point new_node.next --> head\n",
        "        self.head = new_node                            # point head --> new_node\n",
        "\n",
        "    def add_end(self, data):\n",
        "        new_node = Node(data)                           # create new_node\n",
        "        if self.head == None:                           # if list is empty, make new node as head\n",
        "            self.head = new_node\n",
        "        else:\n",
        "            node = self.head              \n",
        "            while node.next != None:                    # traverse to end of list (last_node)\n",
        "                node = node.next\n",
        "            node.next = new_node                        # point last_node.next --> new_node\n",
        "\n",
        "    def add_after(self, data, x):                       # add node after x's value\n",
        "        node = self.head                                # taking head as current node       \n",
        "        while node != None:                             # traverse to end of list (last_node)\n",
        "            if node.data == x:                          # if element x has been found\n",
        "                break\n",
        "            node = node.next\n",
        "        if node == None:                                # if element x not found\n",
        "            print('Node is not present!')\n",
        "        else:\n",
        "            new_node = Node(data)                       # create new_node\n",
        "            new_node.next = node.next                   # if x found, assign x_node.next --> new_node.next\n",
        "            node.next = new_node                        # assign new_node --> x_node.next\n",
        "\n",
        "    def add_before(self, data, x):                      # add node before x's value\n",
        "        node = self.head                                # taking head as current node  \n",
        "        if node == None:                                # if head is empty show empty list\n",
        "          print('List is empty!')\n",
        "        else:                                           # if head is non empty\n",
        "            if node.data == x:                          # if x is present in 1st node itself\n",
        "                new_node = Node(data)                   # create new_node\n",
        "                new_node.next = self.head               # point new_node.next --> head\n",
        "                self.head = new_node                    # point head --> new_node\n",
        "            else:\n",
        "                while node.next != None:\n",
        "                    if node.next.data == x:\n",
        "                        break\n",
        "                    node = node.next\n",
        "                if node == None:                        # if element x not found\n",
        "                    print('Node is not present!')\n",
        "                else:\n",
        "                    new_node = Node(data)               # create new_node\n",
        "                    new_node.next = node.next           # if x found, assign x_node.next --> new_node.next\n",
        "                    node.next = new_node                # assign new_node --> x_node.next"
      ],
      "execution_count": 17,
      "outputs": []
    },
    {
      "cell_type": "code",
      "metadata": {
        "colab": {
          "base_uri": "https://localhost:8080/"
        },
        "id": "SK1T-gm9N4XN",
        "outputId": "397f1269-a2fc-4664-d48f-7138e390a168"
      },
      "source": [
        "ll = LinkedList()\n",
        "ll.add_before('Ranish', 'Hrisav')\n",
        "ll.display()"
      ],
      "execution_count": 18,
      "outputs": [
        {
          "output_type": "stream",
          "text": [
            "List is empty!\n",
            "List is empty!\n"
          ],
          "name": "stdout"
        }
      ]
    },
    {
      "cell_type": "code",
      "metadata": {
        "colab": {
          "base_uri": "https://localhost:8080/"
        },
        "id": "gRk_Od6ZNd8-",
        "outputId": "779a7af6-fe74-47d0-adc6-9c331ff23094"
      },
      "source": [
        "ll = LinkedList()\n",
        "ll.add_begin('Hrisav')\n",
        "ll.add_begin('Rihel')\n",
        "print('****Showing list:****')\n",
        "ll.display()\n",
        "print()\n",
        "print()\n",
        "\n",
        "ll.add_end('Megha')\n",
        "print('****Showing list after adding at end:****')\n",
        "ll.display()\n",
        "print()\n",
        "print()\n",
        "\n",
        "ll.add_begin('Riddhi')\n",
        "print('****Showing list after adding at front:****')\n",
        "ll.display()\n",
        "print()\n",
        "print()\n",
        "\n",
        "ll.add_after('Mudita', 'Rihel')\n",
        "print('****Showing list after adding after Rihel:****')\n",
        "ll.display()\n",
        "print()\n",
        "print()\n",
        "\n",
        "ll.add_before('Ranish', 'Hrisav')\n",
        "print('****Showing list after adding before Hrisav:****')\n",
        "ll.display()"
      ],
      "execution_count": 19,
      "outputs": [
        {
          "output_type": "stream",
          "text": [
            "****Showing list:****\n",
            "Rihel --> Hrisav --> \n",
            "\n",
            "****Showing list after adding at end:****\n",
            "Rihel --> Hrisav --> Megha --> \n",
            "\n",
            "****Showing list after adding at front:****\n",
            "Riddhi --> Rihel --> Hrisav --> Megha --> \n",
            "\n",
            "****Showing list after adding after Rihel:****\n",
            "Riddhi --> Rihel --> Mudita --> Hrisav --> Megha --> \n",
            "\n",
            "****Showing list after adding before Hrisav:****\n",
            "Riddhi --> Rihel --> Mudita --> Ranish --> Hrisav --> Megha --> "
          ],
          "name": "stdout"
        }
      ]
    },
    {
      "cell_type": "markdown",
      "metadata": {
        "id": "7-Y4TpX7YObw"
      },
      "source": [
        "# Deletion"
      ]
    },
    {
      "cell_type": "markdown",
      "metadata": {
        "id": "Hbi-bprhYokK"
      },
      "source": [
        "## Delete at beginning"
      ]
    },
    {
      "cell_type": "code",
      "metadata": {
        "id": "mdDtA2P9RHd6"
      },
      "source": [
        "class Node:\n",
        "    def __init__(self, data):                           # each Node will have data and next\n",
        "        self.data = data\n",
        "        self.next = None\n",
        "\n",
        "class LinkedList:\n",
        "    def __init__(self):\n",
        "        self.head = None                                # this is the head of LL\n",
        "\n",
        "    def display(self):\n",
        "        node = self.head                                # taking head as current node\n",
        "        if node == None:                                # checking if head is empty\n",
        "            print('List is empty!')\n",
        "        else:\n",
        "            while node != None:                         # stop loop before node's value is null (means end of list)\n",
        "                print(node.data, '-->', end = ' ')      # display's node's data\n",
        "                node = node.next                        # update node with it's next value\n",
        "\n",
        "    def add_empty(self, data):\n",
        "        node = self.head \n",
        "        if node == None:                                # if head is empty\n",
        "            new_node = Node(data)                       # create new_node\n",
        "            self.head = new_node                        # point head --> new_node\n",
        "        else:\n",
        "            print('List is not empty!')\n",
        "\n",
        "    def add_begin(self, data):\n",
        "        node = self.head \n",
        "        new_node = Node(data)                           # create new_node\n",
        "        new_node.next = node                            # point new_node.next --> head\n",
        "        self.head = new_node                            # point head --> new_node\n",
        "\n",
        "    def add_end(self, data):\n",
        "        node = self.head \n",
        "        new_node = Node(data)                           # create new_node\n",
        "        if node == None:                                # if list is empty, make new node as head\n",
        "            self.head = new_node\n",
        "        else:          \n",
        "            while node.next != None:                    # traverse to end of list (last_node)\n",
        "                node = node.next\n",
        "            node.next = new_node                        # point last_node.next --> new_node\n",
        "\n",
        "    def add_after(self, data, x):                       # add node after x's value\n",
        "        node = self.head                                # taking head as current node       \n",
        "        while node != None:                             # traverse to end of list (last_node)\n",
        "            if node.data == x:                          # if element x has been found\n",
        "                break\n",
        "            node = node.next\n",
        "        if node == None:                                # if element x not found\n",
        "            print('Node is not present!')\n",
        "        else:\n",
        "            new_node = Node(data)                       # create new_node\n",
        "            new_node.next = node.next                   # if x found, assign x_node.next --> new_node.next\n",
        "            node.next = new_node                        # assign new_node --> x_node.next\n",
        "\n",
        "    def add_before(self, data, x):                      # add node before x's value\n",
        "        node = self.head                                # taking head as current node  \n",
        "        if node == None:                                # if head is empty show empty list\n",
        "          print('List is empty!')\n",
        "        else:                                           # if head is non empty\n",
        "            if node.data == x:                          # if x is present in 1st node itself\n",
        "                new_node = Node(data)                   # create new_node\n",
        "                new_node.next = self.head               # point new_node.next --> head\n",
        "                self.head = new_node                    # point head --> new_node\n",
        "            else:\n",
        "                while node.next != None:\n",
        "                    if node.next.data == x:\n",
        "                        break\n",
        "                    node = node.next\n",
        "                if node == None:                        # if element x not found\n",
        "                    print('Node is not present!')\n",
        "                else:\n",
        "                    new_node = Node(data)               # create new_node\n",
        "                    new_node.next = node.next           # if x found, assign x_node.next --> new_node.next\n",
        "                    node.next = new_node                # assign new_node --> x_node.next\n",
        "\n",
        "    def delete_begin(self):\n",
        "        node = self.head                                # taking head as current node  \n",
        "        if node == None:                                # if head is empty show empty list\n",
        "          print('List is empty!')\n",
        "        else:\n",
        "          self.head = node.next                         # assign current node's next as head"
      ],
      "execution_count": 20,
      "outputs": []
    },
    {
      "cell_type": "code",
      "metadata": {
        "colab": {
          "base_uri": "https://localhost:8080/"
        },
        "id": "VYRzymsgLREs",
        "outputId": "ab28c264-01bb-40bd-fb74-4ff3718690ac"
      },
      "source": [
        "ll = LinkedList()\n",
        "ll.add_empty('Hrisav')\n",
        "ll.add_begin('Rihel')\n",
        "ll.add_begin('Megha')\n",
        "print('****Showing list:****')\n",
        "ll.display()\n",
        "print()\n",
        "print()\n",
        "\n",
        "ll.delete_begin()\n",
        "print('****Showing list after deleting at start:****')\n",
        "ll.display()"
      ],
      "execution_count": 21,
      "outputs": [
        {
          "output_type": "stream",
          "text": [
            "****Showing list:****\n",
            "Megha --> Rihel --> Hrisav --> \n",
            "\n",
            "****Showing list after deleting at start:****\n",
            "Rihel --> Hrisav --> "
          ],
          "name": "stdout"
        }
      ]
    },
    {
      "cell_type": "markdown",
      "metadata": {
        "id": "snWwFOEGh96l"
      },
      "source": [
        "## Delete at end"
      ]
    },
    {
      "cell_type": "code",
      "metadata": {
        "id": "VFlMJxWueWG2"
      },
      "source": [
        "class Node:\n",
        "    def __init__(self, data):                           # each Node will have data and next\n",
        "        self.data = data\n",
        "        self.next = None\n",
        "\n",
        "class LinkedList:\n",
        "    def __init__(self):\n",
        "        self.head = None                                # this is the head of LL\n",
        "\n",
        "    def display(self):\n",
        "        node = self.head                                # taking head as current node\n",
        "        if node == None:                                # checking if head is empty\n",
        "            print('List is empty!')\n",
        "        else:\n",
        "            while node != None:                         # stop loop before node's value is null (means end of list)\n",
        "                print(node.data, '-->', end = ' ')      # display's node's data\n",
        "                node = node.next                        # update node with it's next value\n",
        "\n",
        "    def add_empty(self, data):\n",
        "        node = self.head \n",
        "        if node == None:                                # if head is empty\n",
        "            new_node = Node(data)                       # create new_node\n",
        "            self.head = new_node                        # point head --> new_node\n",
        "        else:\n",
        "            print('List is not empty!')\n",
        "\n",
        "    def add_begin(self, data):\n",
        "        node = self.head \n",
        "        new_node = Node(data)                           # create new_node\n",
        "        new_node.next = node                            # point new_node.next --> head\n",
        "        self.head = new_node                            # point head --> new_node\n",
        "\n",
        "    def add_end(self, data):\n",
        "        node = self.head \n",
        "        new_node = Node(data)                           # create new_node\n",
        "        if node == None:                                # if list is empty, make new node as head\n",
        "            self.head = new_node\n",
        "        else:          \n",
        "            while node.next != None:                    # traverse to end of list (last_node)\n",
        "                node = node.next\n",
        "            node.next = new_node                        # point last_node.next --> new_node\n",
        "\n",
        "    def add_after(self, data, x):                       # add node after x's value\n",
        "        node = self.head                                # taking head as current node       \n",
        "        while node != None:                             # traverse to end of list (last_node)\n",
        "            if node.data == x:                          # if element x has been found\n",
        "                break\n",
        "            node = node.next\n",
        "        if node == None:                                # if element x not found\n",
        "            print('Node is not present!')\n",
        "        else:\n",
        "            new_node = Node(data)                       # create new_node\n",
        "            new_node.next = node.next                   # if x found, assign x_node.next --> new_node.next\n",
        "            node.next = new_node                        # assign new_node --> x_node.next\n",
        "\n",
        "    def add_before(self, data, x):                      # add node before x's value\n",
        "        node = self.head                                # taking head as current node  \n",
        "        if node == None:                                # if head is empty show empty list\n",
        "            print('List is empty!')\n",
        "        else:                                           # if head is non empty\n",
        "            if node.data == x:                          # if x is present in 1st node itself\n",
        "                new_node = Node(data)                   # create new_node\n",
        "                new_node.next = self.head               # point new_node.next --> head\n",
        "                self.head = new_node                    # point head --> new_node\n",
        "            else:\n",
        "                while node.next != None:\n",
        "                    if node.next.data == x:\n",
        "                        break\n",
        "                    node = node.next\n",
        "                if node == None:                        # if element x not found\n",
        "                    print('Node is not present!')\n",
        "                else:\n",
        "                    new_node = Node(data)               # create new_node\n",
        "                    new_node.next = node.next           # if x found, assign x_node.next --> new_node.next\n",
        "                    node.next = new_node                # assign new_node --> x_node.next\n",
        "\n",
        "    def delete_begin(self):\n",
        "        node = self.head                                # taking head as current node  \n",
        "        if node == None:                                # if head is empty show empty list\n",
        "            print('List is empty!')\n",
        "        else:\n",
        "            self.head = node.next                       # assign current node's next as head\n",
        "\n",
        "    def delete_end(self):\n",
        "        node = self.head                                # taking head as current node  \n",
        "        if node == None:                                # if head is empty show empty list\n",
        "            print('List is empty so cant delete nodes!')\n",
        "        elif node.next == None:                         # if only one node in list\n",
        "            self.head = None\n",
        "        else:\n",
        "            while node.next.next != None:               # traverse to second last node and check\n",
        "                node = node.next                        # till last node's next has null\n",
        "            node.next = None                            # point second_last_node.next --> null"
      ],
      "execution_count": 22,
      "outputs": []
    },
    {
      "cell_type": "code",
      "metadata": {
        "colab": {
          "base_uri": "https://localhost:8080/"
        },
        "id": "GsMHicFp97Ws",
        "outputId": "0a555828-4d14-4607-f450-c6b7e57c8937"
      },
      "source": [
        "ll = LinkedList()\n",
        "ll.add_empty('Hrisav')\n",
        "print('****Showing list:****')\n",
        "ll.display()\n",
        "print()\n",
        "print()\n",
        "\n",
        "ll.delete_end()\n",
        "print('****Showing list after deleting at end:****')\n",
        "ll.display()"
      ],
      "execution_count": 23,
      "outputs": [
        {
          "output_type": "stream",
          "text": [
            "****Showing list:****\n",
            "Hrisav --> \n",
            "\n",
            "****Showing list after deleting at end:****\n",
            "List is empty!\n"
          ],
          "name": "stdout"
        }
      ]
    },
    {
      "cell_type": "code",
      "metadata": {
        "colab": {
          "base_uri": "https://localhost:8080/"
        },
        "id": "7DGLlbfjfs30",
        "outputId": "f409cf0c-7638-4c86-b825-32933e182b9a"
      },
      "source": [
        "ll = LinkedList()\n",
        "ll.add_empty('Hrisav')\n",
        "ll.add_begin('Rihel')\n",
        "ll.add_begin('Megha')\n",
        "print('****Showing list:****')\n",
        "ll.display()\n",
        "print()\n",
        "print()\n",
        "\n",
        "ll.delete_end()\n",
        "print('****Showing list after deleting at end:****')\n",
        "ll.display()"
      ],
      "execution_count": 24,
      "outputs": [
        {
          "output_type": "stream",
          "text": [
            "****Showing list:****\n",
            "Megha --> Rihel --> Hrisav --> \n",
            "\n",
            "****Showing list after deleting at end:****\n",
            "Megha --> Rihel --> "
          ],
          "name": "stdout"
        }
      ]
    },
    {
      "cell_type": "markdown",
      "metadata": {
        "id": "W_Fu6HIoAFfQ"
      },
      "source": [
        "## Delete by value"
      ]
    },
    {
      "cell_type": "code",
      "metadata": {
        "id": "VmdLVR3W-J96"
      },
      "source": [
        "class Node:\n",
        "    def __init__(self, data):                           # each Node will have data and next\n",
        "        self.data = data\n",
        "        self.next = None\n",
        "\n",
        "class LinkedList:\n",
        "    def __init__(self):\n",
        "        self.head = None                                # this is the head of LL\n",
        "\n",
        "    def display(self):\n",
        "        node = self.head                                # taking head as current node\n",
        "        if node == None:                                # checking if head is empty\n",
        "            print('List is empty!')\n",
        "        else:\n",
        "            while node != None:                         # stop loop before node's value is null (means end of list)\n",
        "                print(node.data, '-->', end = ' ')      # display's node's data\n",
        "                node = node.next                        # update node with it's next value\n",
        "\n",
        "    def add_empty(self, data):\n",
        "        node = self.head \n",
        "        if node == None:                                # if head is empty\n",
        "            new_node = Node(data)                       # create new_node\n",
        "            self.head = new_node                        # point head --> new_node\n",
        "        else:\n",
        "            print('List is not empty!')\n",
        "\n",
        "    def add_begin(self, data):\n",
        "        node = self.head \n",
        "        new_node = Node(data)                           # create new_node\n",
        "        new_node.next = node                            # point new_node.next --> head\n",
        "        self.head = new_node                            # point head --> new_node\n",
        "\n",
        "    def add_end(self, data):\n",
        "        node = self.head \n",
        "        new_node = Node(data)                           # create new_node\n",
        "        if node == None:                                # if list is empty, make new node as head\n",
        "            self.head = new_node\n",
        "        else:          \n",
        "            while node.next != None:                    # traverse to end of list (last_node)\n",
        "                node = node.next\n",
        "            node.next = new_node                        # point last_node.next --> new_node\n",
        "\n",
        "    def add_after(self, data, x):                       # add node after x's value\n",
        "        node = self.head                                # taking head as current node       \n",
        "        while node != None:                             # traverse to end of list (last_node)\n",
        "            if node.data == x:                          # if element x has been found\n",
        "                break\n",
        "            node = node.next\n",
        "        if node == None:                                # if element x not found\n",
        "            print('Node is not present!')\n",
        "        else:\n",
        "            new_node = Node(data)                       # create new_node\n",
        "            new_node.next = node.next                   # if x found, assign x_node.next --> new_node.next\n",
        "            node.next = new_node                        # assign new_node --> x_node.next\n",
        "\n",
        "    def add_before(self, data, x):                      # add node before x's value\n",
        "        node = self.head                                # taking head as current node  \n",
        "        if node == None:                                # if head is empty show empty list\n",
        "            print('List is empty!')\n",
        "        else:                                           # if head is non empty\n",
        "            if node.data == x:                          # if x is present in 1st node itself\n",
        "                new_node = Node(data)                   # create new_node\n",
        "                new_node.next = self.head               # point new_node.next --> head\n",
        "                self.head = new_node                    # point head --> new_node\n",
        "            else:\n",
        "                while node.next != None:\n",
        "                    if node.next.data == x:\n",
        "                        break\n",
        "                    node = node.next\n",
        "                if node == None:                        # if element x not found\n",
        "                    print('Node is not present!')\n",
        "                else:\n",
        "                    new_node = Node(data)               # create new_node\n",
        "                    new_node.next = node.next           # if x found, assign x_node.next --> new_node.next\n",
        "                    node.next = new_node                # assign new_node --> x_node.next\n",
        "\n",
        "    def delete_begin(self):\n",
        "        node = self.head                                # taking head as current node  \n",
        "        if node == None:                                # if head is empty show empty list\n",
        "            print('List is empty!')\n",
        "        else:\n",
        "            self.head = node.next                       # assign current node's next as head\n",
        "\n",
        "    def delete_end(self):\n",
        "        node = self.head                                # taking head as current node  \n",
        "        if node == None:                                # if head is empty show empty list\n",
        "            print('List is empty so cant delete nodes!')\n",
        "        elif node.next == None:                         # if only one node in list\n",
        "            self.head = None\n",
        "        else:\n",
        "            while node.next.next != None:               # traverse to second last node and check\n",
        "                node = node.next                        # till last node's next has null\n",
        "            node.next = None                            # point second_last_node.next --> null\n",
        "\n",
        "    def delete_by_value(self, x):\n",
        "        node = self.head                                # taking head as current node  \n",
        "        if node == None:                                # if head is empty show empty list\n",
        "            print('List is empty so cant delete nodes!')\n",
        "        elif node.data == x:                            # checking if x is in 1st node\n",
        "            self.head = node.next                       # removing 1st node\n",
        "        else:\n",
        "            while node.next != None:                    # traverse to second last node and check\n",
        "                if node.next.data==x:\n",
        "                    break\n",
        "                else:\n",
        "                    node = node.next                    # till last node's next has null\n",
        "            if node.next == None:\n",
        "                print('Node is not present!')\n",
        "            else:\n",
        "                node.next = node.next.next"
      ],
      "execution_count": 25,
      "outputs": []
    },
    {
      "cell_type": "code",
      "metadata": {
        "colab": {
          "base_uri": "https://localhost:8080/"
        },
        "id": "5HlKDH0jf1hI",
        "outputId": "79785829-c618-491b-9551-05021868ac8e"
      },
      "source": [
        "ll = LinkedList()\n",
        "ll.add_empty('Hrisav')\n",
        "ll.add_begin('Rihel')\n",
        "ll.add_begin('Megha')\n",
        "print('****Showing list:****')\n",
        "ll.display()\n",
        "print()\n",
        "print()\n",
        "\n",
        "ll.delete_by_value('Rihel')\n",
        "print('****Showing list after deleting at end:****')\n",
        "ll.display()"
      ],
      "execution_count": 26,
      "outputs": [
        {
          "output_type": "stream",
          "text": [
            "****Showing list:****\n",
            "Megha --> Rihel --> Hrisav --> \n",
            "\n",
            "****Showing list after deleting at end:****\n",
            "Megha --> Hrisav --> "
          ],
          "name": "stdout"
        }
      ]
    },
    {
      "cell_type": "code",
      "metadata": {
        "colab": {
          "base_uri": "https://localhost:8080/"
        },
        "id": "xp_76OmOgBf-",
        "outputId": "6aac1ff0-59a5-4331-cd98-f42662650c03"
      },
      "source": [
        "ll = LinkedList()\n",
        "ll.add_empty('Hrisav')\n",
        "ll.add_begin('Rihel')\n",
        "ll.add_begin('Megha')\n",
        "print('****Showing list:****')\n",
        "ll.display()\n",
        "print()\n",
        "print()\n",
        "\n",
        "ll.delete_by_value('Riddhi')\n",
        "print('****Showing list after deleting at end:****')\n",
        "ll.display()"
      ],
      "execution_count": 27,
      "outputs": [
        {
          "output_type": "stream",
          "text": [
            "****Showing list:****\n",
            "Megha --> Rihel --> Hrisav --> \n",
            "\n",
            "Node is not present!\n",
            "****Showing list after deleting at end:****\n",
            "Megha --> Rihel --> Hrisav --> "
          ],
          "name": "stdout"
        }
      ]
    },
    {
      "cell_type": "code",
      "metadata": {
        "colab": {
          "base_uri": "https://localhost:8080/"
        },
        "id": "2ka3byedgNXQ",
        "outputId": "88980846-e49c-4dbf-9a99-6a8ac0fdb598"
      },
      "source": [
        "ll = LinkedList()\n",
        "print('****Showing list:****')\n",
        "ll.display()\n",
        "print()\n",
        "print()\n",
        "\n",
        "ll.delete_by_value('Riddhi')\n",
        "print('****Showing list after deleting at end:****')\n",
        "ll.display()"
      ],
      "execution_count": 28,
      "outputs": [
        {
          "output_type": "stream",
          "text": [
            "****Showing list:****\n",
            "List is empty!\n",
            "\n",
            "\n",
            "List is empty so cant delete nodes!\n",
            "****Showing list after deleting at end:****\n",
            "List is empty!\n"
          ],
          "name": "stdout"
        }
      ]
    }
  ]
}